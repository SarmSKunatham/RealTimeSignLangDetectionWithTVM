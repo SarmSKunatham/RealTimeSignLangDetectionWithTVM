{
 "cells": [
  {
   "attachments": {},
   "cell_type": "markdown",
   "metadata": {},
   "source": [
    "# Using TVM Complier on CPU\n",
    "\n",
    "![flow](https://raw.githubusercontent.com/apache/tvm-site/main/images/tutorial/overview.png)"
   ]
  },
  {
   "attachments": {},
   "cell_type": "markdown",
   "metadata": {},
   "source": [
    "## Import dependencies"
   ]
  },
  {
   "cell_type": "code",
   "execution_count": 1,
   "metadata": {},
   "outputs": [
    {
     "name": "stderr",
     "output_type": "stream",
     "text": [
      "/home/khadas/.pyenv/versions/3.7.12/lib/python3.7/site-packages/tensorflow_io/python/ops/__init__.py:98: UserWarning: unable to load libtensorflow_io_plugins.so: unable to open file: libtensorflow_io_plugins.so, from paths: ['/home/khadas/.pyenv/versions/3.7.12/lib/python3.7/site-packages/tensorflow_io/python/ops/libtensorflow_io_plugins.so']\n",
      "caused by: [\"[Errno 2] The file to load file system plugin from does not exist.: '/home/khadas/.pyenv/versions/3.7.12/lib/python3.7/site-packages/tensorflow_io/python/ops/libtensorflow_io_plugins.so'\"]\n",
      "  warnings.warn(f\"unable to load libtensorflow_io_plugins.so: {e}\")\n",
      "/home/khadas/.pyenv/versions/3.7.12/lib/python3.7/site-packages/tensorflow_io/python/ops/__init__.py:104: UserWarning: file system plugins are not loaded: unable to open file: libtensorflow_io.so, from paths: ['/home/khadas/.pyenv/versions/3.7.12/lib/python3.7/site-packages/tensorflow_io/python/ops/libtensorflow_io.so']\n",
      "caused by: ['/home/khadas/.pyenv/versions/3.7.12/lib/python3.7/site-packages/tensorflow_io/python/ops/libtensorflow_io.so: cannot open shared object file: No such file or directory']\n",
      "  warnings.warn(f\"file system plugins are not loaded: {e}\")\n"
     ]
    }
   ],
   "source": [
    "import tvm \n",
    "import numpy as np\n",
    "import onnx\n",
    "import os\n",
    "import tvm.relay as relay\n",
    "from sklearn.model_selection import train_test_split\n",
    "from tensorflow.keras.utils import to_categorical\n",
    "import warnings\n",
    "import time\n",
    "warnings.filterwarnings('ignore')"
   ]
  },
  {
   "attachments": {},
   "cell_type": "markdown",
   "metadata": {},
   "source": [
    "## Prepare our own dataset"
   ]
  },
  {
   "cell_type": "code",
   "execution_count": 2,
   "metadata": {},
   "outputs": [
    {
     "name": "stdout",
     "output_type": "stream",
     "text": [
      "Label map: {'hello': 0, 'iloveyou': 1, 'yes': 2, 'donothing': 3}\n",
      "y shape: (400, 4)\n",
      "X shape: (400, 30, 1662)\n",
      "X_train shape: (360, 30, 1662)\n",
      "X_test shape: (40, 30, 1662)\n",
      "y_train shape: (360, 4)\n",
      "y_test shape: (40, 4)\n"
     ]
    }
   ],
   "source": [
    "# Actions that we try to detect 5 classes\n",
    "actions = np.array(['hello', 'iloveyou', 'yes','donothing'])\n",
    "# Map actions to integers\n",
    "label_map = {label:num for num, label in enumerate(actions)}\n",
    "print(f'Label map: {label_map}')\n",
    "\n",
    "# Map x, y for data and labels\n",
    "DATA_PATH = os.path.join('MP_Data') \n",
    "no_sequences = 100\n",
    "sequence_length = 30\n",
    "sequences, labels = [], []\n",
    "for action in actions:\n",
    "    for sequence in range(no_sequences):\n",
    "        window = []\n",
    "        for frame_num in range(sequence_length):\n",
    "            res = np.load(os.path.join(DATA_PATH, action, str(sequence), \"{}.npy\".format(frame_num)))\n",
    "            window.append(res)\n",
    "        sequences.append(window)\n",
    "        labels.append(label_map[action])\n",
    "\n",
    "# One hot encoding\n",
    "y = to_categorical(labels).astype(int)\n",
    "print(f'y shape: {y.shape}')\n",
    "# print(f'Y: \\n{y}')\n",
    "X = np.array(sequences)\n",
    "print(f'X shape: {X.shape}')\n",
    "\n",
    "# Train Test split with testing size 0.1\n",
    "X_train, X_test, y_train, y_test = train_test_split(X, y, test_size=0.1, random_state=11)\n",
    "\n",
    "print(f'X_train shape: {X_train.shape}')\n",
    "print(f'X_test shape: {X_test.shape}')\n",
    "print(f'y_train shape: {y_train.shape}')\n",
    "print(f'y_test shape: {y_test.shape}')\n",
    "\n"
   ]
  },
  {
   "attachments": {},
   "cell_type": "markdown",
   "metadata": {},
   "source": [
    "## Load TF Onnx model"
   ]
  },
  {
   "cell_type": "code",
   "execution_count": 3,
   "metadata": {},
   "outputs": [],
   "source": [
    "# Model Path\n",
    "model_path = 'slModel.onnx'\n",
    "# Load onnx model\n",
    "onnx_model = onnx.load(model_path)\n",
    "\n",
    "# Set random seed for random numpy\n",
    "np.random.seed(3)"
   ]
  },
  {
   "attachments": {},
   "cell_type": "markdown",
   "metadata": {},
   "source": [
    "### Show Onnx model input"
   ]
  },
  {
   "cell_type": "code",
   "execution_count": 4,
   "metadata": {},
   "outputs": [
    {
     "name": "stdout",
     "output_type": "stream",
     "text": [
      "Model inputs: [name: \"lstm_10_input\"\n",
      "type {\n",
      "  tensor_type {\n",
      "    elem_type: 1\n",
      "    shape {\n",
      "      dim {\n",
      "        dim_param: \"unk__303\"\n",
      "      }\n",
      "      dim {\n",
      "        dim_value: 30\n",
      "      }\n",
      "      dim {\n",
      "        dim_value: 1662\n",
      "      }\n",
      "    }\n",
      "  }\n",
      "}\n",
      "]\n"
     ]
    }
   ],
   "source": [
    "print(f'Model inputs: {onnx_model.graph.input}')"
   ]
  },
  {
   "attachments": {},
   "cell_type": "markdown",
   "metadata": {},
   "source": [
    "### Show Onnx model output"
   ]
  },
  {
   "cell_type": "code",
   "execution_count": 5,
   "metadata": {},
   "outputs": [
    {
     "name": "stdout",
     "output_type": "stream",
     "text": [
      "Model output: [name: \"dense_9\"\n",
      "type {\n",
      "  tensor_type {\n",
      "    elem_type: 1\n",
      "    shape {\n",
      "      dim {\n",
      "        dim_param: \"unk__304\"\n",
      "      }\n",
      "      dim {\n",
      "        dim_value: 4\n",
      "      }\n",
      "    }\n",
      "  }\n",
      "}\n",
      "]\n"
     ]
    }
   ],
   "source": [
    "print(f'Model output: {onnx_model.graph.output}')"
   ]
  },
  {
   "attachments": {},
   "cell_type": "markdown",
   "metadata": {},
   "source": [
    "## Convert Onnx to Relay for compilation"
   ]
  },
  {
   "cell_type": "code",
   "execution_count": 6,
   "metadata": {},
   "outputs": [
    {
     "name": "stdout",
     "output_type": "stream",
     "text": [
      "{'lstm_10_input': (1, 30, 1662)}\n"
     ]
    }
   ],
   "source": [
    "# compiler target\n",
    "target = 'llvm'\n",
    "\n",
    "# Input parameter name\n",
    "input_name = onnx_model.graph.input[0].name\n",
    "# Input shape of the model\n",
    "input_shape = (1, 30, 1662)\n",
    "# Tell the ralay which ONNX parameter is input\n",
    "shape_dict = {input_name: input_shape}\n",
    "print(shape_dict)\n",
    "# Passing information into relay which is from onnx model\n",
    "mod, params = relay.frontend.from_onnx(onnx_model, shape_dict)"
   ]
  },
  {
   "attachments": {},
   "cell_type": "markdown",
   "metadata": {},
   "source": [
    "### Build Relay"
   ]
  },
  {
   "cell_type": "code",
   "execution_count": 7,
   "metadata": {},
   "outputs": [
    {
     "name": "stderr",
     "output_type": "stream",
     "text": [
      "One or more operators have not been tuned. Please tune your model for better performance. Use DEBUG logging level to see more details.\n"
     ]
    }
   ],
   "source": [
    "# The optimization level of this pass.\n",
    "opt_level = 3\n",
    "# Each pass context contains a number of auxiliary information that is used to help an optimization pass.\n",
    "with tvm.transform.PassContext(opt_level=opt_level):\n",
    "    # builds a Relay function to run on TVM graph executor.\n",
    "    lib = relay.build(mod, target=target, params=params)"
   ]
  },
  {
   "attachments": {},
   "cell_type": "markdown",
   "metadata": {},
   "source": [
    "### Create a runtime module"
   ]
  },
  {
   "cell_type": "code",
   "execution_count": 8,
   "metadata": {},
   "outputs": [],
   "source": [
    "# device to optimize to (CPU)\n",
    "dev = tvm.device(str(target), 0)\n",
    "\n",
    "# Create a runtime executor module given a graph and module.\n",
    "# Wrapper runtime module.\n",
    "module = tvm.contrib.graph_executor.GraphModule(lib[\"default\"](dev))"
   ]
  },
  {
   "attachments": {},
   "cell_type": "markdown",
   "metadata": {},
   "source": [
    "## Benchmark module performance\n",
    "\n",
    "`benchmark(device, func_name='run', repeat=5, number=5, min_repeat_ms=None, limit_zero_time_iterations=100, end_to_end=False, cooldown_interval_ms=0, repeats_to_cooldown=1, **kwargs)¶`\n",
    "\n",
    "Calculate runtime of a function by repeatedly calling it.\n",
    "\n",
    "Use this function to get an accurate measurement of the runtime of a function. The function is run multiple times in order to account for variability in measurements, processor speed or other external factors. Mean, median, standard deviation, min and max runtime are all reported. On GPUs, CUDA and ROCm specifically, special on-device timers are used so that synchonization and data transfer operations are not counted towards the runtime. This allows for fair comparison of runtimes across different functions and models. The end_to_end flag switches this behavior to include data transfer operations in the runtime.\n",
    "\n",
    "Returns\n",
    "timing_results – Runtimes of the function. Use .mean to access the mean runtime, use .results to access the individual runtimes (in seconds).\n",
    "\n",
    "Return type\n",
    "BenchmarkResult"
   ]
  },
  {
   "attachments": {},
   "cell_type": "markdown",
   "metadata": {},
   "source": [
    "### Before optimization"
   ]
  },
  {
   "cell_type": "code",
   "execution_count": 9,
   "metadata": {},
   "outputs": [
    {
     "name": "stdout",
     "output_type": "stream",
     "text": [
      "Execution time summary:\n",
      " mean (ms)   median (ms)    max (ms)     min (ms)     std (ms)  \n",
      "  16.0726      15.1003      28.0091      14.6035       2.8954   \n",
      "               \n"
     ]
    }
   ],
   "source": [
    "timing_results = module.benchmark(device = dev, repeat = 30, number = 1)\n",
    "print(timing_results)"
   ]
  },
  {
   "cell_type": "code",
   "execution_count": 10,
   "metadata": {},
   "outputs": [
    {
     "name": "stdout",
     "output_type": "stream",
     "text": [
      "Mean time before optimization : 0.01607257056666667\n"
     ]
    }
   ],
   "source": [
    "print(f'Mean time before optimization : {timing_results.mean}')"
   ]
  },
  {
   "attachments": {},
   "cell_type": "markdown",
   "metadata": {},
   "source": [
    "## Tune the model\n",
    "\n",
    "The previous model was compiled to work on the TVM runtime, but did not include any platform specific optimization. In this section, we will show you how to build an optimized model using TVM to target your working platform.\n",
    "\n",
    "In some cases, we might not get the expected performance when running inferences using our compiled module. In cases like this, we can make use of the auto-tuner, to find a better configuration for our model and get a boost in performance. Tuning in TVM refers to the process by which a model is optimized to run faster on a given target. This differs from training or fine-tuning in that it does not affect the accuracy of the model, but only the runtime performance. As part of the tuning process, TVM will try running many different operator implementation variants to see which perform best. The results of these runs are stored in a tuning records file.\n",
    "\n",
    "In the simplest form, tuning requires you to provide three things:\n",
    "\n",
    "- the target specification of the device you intend to run this model on\n",
    "\n",
    "- the path to an output file in which the tuning records will be stored\n",
    "\n",
    "- a path to the model to be tuned."
   ]
  },
  {
   "attachments": {},
   "cell_type": "markdown",
   "metadata": {},
   "source": [
    "### Import model tuning dependencies"
   ]
  },
  {
   "cell_type": "code",
   "execution_count": 8,
   "metadata": {},
   "outputs": [],
   "source": [
    "from tvm.autotvm.tuner import XGBTuner, GATuner, RandomTuner, GridSearchTuner\n",
    "from tvm import autotvm"
   ]
  },
  {
   "attachments": {},
   "cell_type": "markdown",
   "metadata": {},
   "source": [
    "### Set a LocalRunner\n",
    "\n",
    "Set up some basic parameters for the runner. The runner takes compiled code\n",
    "that is generated with a specific set of parameters and measures the\n",
    "performance of it. ``number`` specifies the number of different\n",
    "configurations that we will test, while ``repeat`` specifies how many\n",
    "measurements we will take of each configuration. ``min_repeat_ms`` is a value\n",
    "that specifies how long need to run configuration test. If the number of\n",
    "repeats falls under this time, it will be increased. This option is necessary\n",
    "for accurate tuning on GPUs, and is not required for CPU tuning. Setting this\n",
    "value to 0 disables it. The ``timeout`` places an upper limit on how long to\n",
    "run training code for each tested configuration.\n",
    "\n",
    "\n"
   ]
  },
  {
   "cell_type": "code",
   "execution_count": 9,
   "metadata": {},
   "outputs": [],
   "source": [
    "number = 1\n",
    "repeat = 30\n",
    "min_repeat_ms = 0  # since we're tuning on a CPU, can be set to 0\n",
    "timeout = 10  # in seconds\n",
    "\n",
    "# create a TVM runner on local device\n",
    "runner = autotvm.LocalRunner(\n",
    "    number=number,\n",
    "    repeat=repeat,\n",
    "    timeout=timeout,\n",
    "    min_repeat_ms=min_repeat_ms,\n",
    "    enable_cpu_cache_flush=True,\n",
    ")"
   ]
  },
  {
   "attachments": {},
   "cell_type": "markdown",
   "metadata": {},
   "source": [
    "### Tuning options\n",
    "\n",
    "Simple Structure for holding tuning options."
   ]
  },
  {
   "cell_type": "code",
   "execution_count": 10,
   "metadata": {},
   "outputs": [],
   "source": [
    "# Tuning parameters\n",
    "tuning_option = {\n",
    "    \"tuning_records\": \"signLanguageModel-v3-autotuning-cpu.json\",\n",
    "    \"use_transfer_learning\": True,\n",
    "    \"tuner\": \"xgb\",\n",
    "    \"n_trial\": 1500,\n",
    "    \"early_stopping\": 100,\n",
    "    \"measure_option\": autotvm.measure_option(\n",
    "        builder=autotvm.LocalBuilder(build_func=\"default\"), runner=runner\n",
    "    ),\n",
    "}"
   ]
  },
  {
   "attachments": {},
   "cell_type": "markdown",
   "metadata": {},
   "source": [
    "### Extract Task from the model\n",
    "\n",
    "Task is a tunable composition of template functions.\n",
    "\n",
    "Tuner takes a tunable task and optimizes the joint configuration space of all the template functions in the task. This module defines the task data structure, as well as a collection(zoo) of typical tasks of interest.\n",
    "\n",
    "Definition of task function.\n",
    "\n",
    "Task can be constructed from tuple of func, args, and kwargs. func is a state-less function, or a string that registers the standard task.\n",
    "\n"
   ]
  },
  {
   "cell_type": "code",
   "execution_count": 14,
   "metadata": {},
   "outputs": [
    {
     "name": "stderr",
     "output_type": "stream",
     "text": [
      "[19:10:26] /home/khadas/tvm/src/runtime/threading_backend.cc:343: Warning: more than two frequencies detected! Forced big_count_ to 4\n"
     ]
    }
   ],
   "source": [
    "# begin by extracting the tasks from the onnx model\n",
    "tasks = autotvm.task.extract_from_program(mod[\"main\"], target=target, params=params)"
   ]
  },
  {
   "attachments": {},
   "cell_type": "markdown",
   "metadata": {},
   "source": [
    "### Tune Task sequentially"
   ]
  },
  {
   "cell_type": "code",
   "execution_count": 15,
   "metadata": {},
   "outputs": [],
   "source": [
    "# Create tuning function\n",
    "def tune_tasks(\n",
    "    tasks,\n",
    "    measure_option,\n",
    "    tuner=\"xgb\",\n",
    "    n_trial=1000,\n",
    "    early_stopping=None,\n",
    "    tuning_records=\"tuning.json\",\n",
    "    use_transfer_learning=True,\n",
    "):\n",
    "    # create tmp log file\n",
    "    tmp_log_file = tuning_records + \".tmp\"\n",
    "    if os.path.exists(tmp_log_file):\n",
    "        os.remove(tmp_log_file)\n",
    "\n",
    "    for i, tsk in enumerate(reversed(tasks)):\n",
    "        prefix = \"[Task %2d/%2d] \" % (i + 1, len(tasks))\n",
    "\n",
    "        # create tuner\n",
    "        if tuner == \"xgb\" or tuner == \"xgb-rank\":\n",
    "            tuner_obj = XGBTuner(tsk, loss_type=\"rank\")\n",
    "        elif tuner == \"xgb_knob\":\n",
    "            tuner_obj = XGBTuner(tsk, loss_type=\"rank\", feature_type=\"knob\")\n",
    "        elif tuner == \"xgb_itervar\":\n",
    "            tuner_obj = XGBTuner(tsk, loss_type=\"rank\", feature_type=\"itervar\")\n",
    "        elif tuner == \"xgb_curve\":\n",
    "            tuner_obj = XGBTuner(tsk, loss_type=\"rank\", feature_type=\"curve\")\n",
    "        elif tuner == \"ga\":\n",
    "            tuner_obj = GATuner(tsk, pop_size=50)\n",
    "        elif tuner == \"random\":\n",
    "            tuner_obj = RandomTuner(tsk)\n",
    "        elif tuner == \"gridsearch\":\n",
    "            tuner_obj = GridSearchTuner(tsk)\n",
    "        else:\n",
    "            raise ValueError(\"Invalid tuner: \" + tuner)\n",
    "\n",
    "        if use_transfer_learning:\n",
    "            if os.path.isfile(tmp_log_file):\n",
    "                tuner_obj.load_history(autotvm.record.load_from_file(tmp_log_file))\n",
    "\n",
    "        # process tuning\n",
    "        tsk_trial = n_trial\n",
    "        tuner_obj.tune(\n",
    "            n_trial=tsk_trial,\n",
    "            early_stopping=early_stopping,\n",
    "            measure_option=measure_option,\n",
    "            callbacks=[\n",
    "                autotvm.callback.progress_bar(tsk_trial, prefix=prefix),\n",
    "                autotvm.callback.log_to_file(tmp_log_file),\n",
    "            ],\n",
    "        )\n",
    "\n",
    "    # pick best records to a cache file\n",
    "    autotvm.record.pick_best(tmp_log_file, tuning_records)\n",
    "    os.remove(tmp_log_file)"
   ]
  },
  {
   "attachments": {},
   "cell_type": "markdown",
   "metadata": {},
   "source": [
    "### Start tuning"
   ]
  },
  {
   "cell_type": "code",
   "execution_count": 16,
   "metadata": {},
   "outputs": [
    {
     "name": "stdout",
     "output_type": "stream",
     "text": [
      "[Task  1/16]  Current/Best:    0.00/   0.00 GFLOPS | Progress: (0/1500) | 0.00 s"
     ]
    },
    {
     "name": "stderr",
     "output_type": "stream",
     "text": [
      "[19:12:23] /home/khadas/tvm/src/runtime/threading_backend.cc:343: Warning: more than two frequencies detected! Forced big_count_ to 4\n",
      "[19:12:23] /home/khadas/tvm/src/runtime/threading_backend.cc:343: Warning: more than two frequencies detected! Forced big_count_ to 4\n",
      "[19:12:25] /home/khadas/tvm/src/runtime/threading_backend.cc:343: Warning: more than two frequencies detected! Forced big_count_ to 4\n",
      "[19:12:26] /home/khadas/tvm/src/runtime/threading_backend.cc:343: Warning: more than two frequencies detected! Forced big_count_ to 4\n"
     ]
    },
    {
     "name": "stdout",
     "output_type": "stream",
     "text": [
      "[Task  1/16]  Current/Best:    0.14/   0.79 GFLOPS | Progress: (8/1500) | 14.17 s"
     ]
    },
    {
     "name": "stderr",
     "output_type": "stream",
     "text": [
      "[19:12:30] /home/khadas/tvm/src/runtime/threading_backend.cc:343: Warning: more than two frequencies detected! Forced big_count_ to 4\n",
      "[19:12:32] /home/khadas/tvm/src/runtime/threading_backend.cc:343: Warning: more than two frequencies detected! Forced big_count_ to 4\n",
      "[19:12:35] /home/khadas/tvm/src/runtime/threading_backend.cc:343: Warning: more than two frequencies detected! Forced big_count_ to 4\n",
      "[19:12:39] /home/khadas/tvm/src/runtime/threading_backend.cc:343: Warning: more than two frequencies detected! Forced big_count_ to 4\n",
      "[19:12:39] /home/khadas/tvm/src/runtime/threading_backend.cc:343: Warning: more than two frequencies detected! Forced big_count_ to 4\n"
     ]
    },
    {
     "name": "stdout",
     "output_type": "stream",
     "text": [
      "[Task  1/16]  Current/Best:    0.20/   1.23 GFLOPS | Progress: (16/1500) | 23.19 s"
     ]
    },
    {
     "name": "stderr",
     "output_type": "stream",
     "text": [
      "[19:12:39] /home/khadas/tvm/src/runtime/threading_backend.cc:343: Warning: more than two frequencies detected! Forced big_count_ to 4\n",
      "[19:12:40] /home/khadas/tvm/src/runtime/threading_backend.cc:343: Warning: more than two frequencies detected! Forced big_count_ to 4\n"
     ]
    },
    {
     "name": "stdout",
     "output_type": "stream",
     "text": [
      "[Task  1/16]  Current/Best:    0.96/   1.23 GFLOPS | Progress: (24/1500) | 24.86 s"
     ]
    },
    {
     "name": "stderr",
     "output_type": "stream",
     "text": [
      "[19:12:41] /home/khadas/tvm/src/runtime/threading_backend.cc:343: Warning: more than two frequencies detected! Forced big_count_ to 4\n",
      "[19:12:41] /home/khadas/tvm/src/runtime/threading_backend.cc:343: Warning: more than two frequencies detected! Forced big_count_ to 4\n",
      "[19:12:42] /home/khadas/tvm/src/runtime/threading_backend.cc:343: Warning: more than two frequencies detected! Forced big_count_ to 4\n",
      "[19:12:42] /home/khadas/tvm/src/runtime/threading_backend.cc:343: Warning: more than two frequencies detected! Forced big_count_ to 4\n"
     ]
    },
    {
     "name": "stdout",
     "output_type": "stream",
     "text": [
      "[Task  1/16]  Current/Best:    0.18/   1.23 GFLOPS | Progress: (32/1500) | 26.99 s"
     ]
    },
    {
     "name": "stderr",
     "output_type": "stream",
     "text": [
      "[19:12:42] /home/khadas/tvm/src/runtime/threading_backend.cc:343: Warning: more than two frequencies detected! Forced big_count_ to 4\n",
      "[19:12:44] /home/khadas/tvm/src/runtime/threading_backend.cc:343: Warning: more than two frequencies detected! Forced big_count_ to 4\n"
     ]
    },
    {
     "name": "stdout",
     "output_type": "stream",
     "text": [
      "[Task  1/16]  Current/Best:    0.91/   1.23 GFLOPS | Progress: (40/1500) | 28.84 s"
     ]
    },
    {
     "name": "stderr",
     "output_type": "stream",
     "text": [
      "[19:12:45] /home/khadas/tvm/src/runtime/threading_backend.cc:343: Warning: more than two frequencies detected! Forced big_count_ to 4\n",
      "[19:12:45] /home/khadas/tvm/src/runtime/threading_backend.cc:343: Warning: more than two frequencies detected! Forced big_count_ to 4\n",
      "[19:12:46] /home/khadas/tvm/src/runtime/threading_backend.cc:343: Warning: more than two frequencies detected! Forced big_count_ to 4\n",
      "[19:12:46] /home/khadas/tvm/src/runtime/threading_backend.cc:343: Warning: more than two frequencies detected! Forced big_count_ to 4\n"
     ]
    },
    {
     "name": "stdout",
     "output_type": "stream",
     "text": [
      "[Task  1/16]  Current/Best:    0.18/   1.23 GFLOPS | Progress: (48/1500) | 30.73 s"
     ]
    },
    {
     "name": "stderr",
     "output_type": "stream",
     "text": [
      "[19:12:46] /home/khadas/tvm/src/runtime/threading_backend.cc:343: Warning: more than two frequencies detected! Forced big_count_ to 4\n",
      "[19:12:47] /home/khadas/tvm/src/runtime/threading_backend.cc:343: Warning: more than two frequencies detected! Forced big_count_ to 4\n",
      "[19:12:47] /home/khadas/tvm/src/runtime/threading_backend.cc:343: Warning: more than two frequencies detected! Forced big_count_ to 4\n",
      "[19:12:47] /home/khadas/tvm/src/runtime/threading_backend.cc:343: Warning: more than two frequencies detected! Forced big_count_ to 4\n",
      "[19:12:47] /home/khadas/tvm/src/runtime/threading_backend.cc:343: Warning: more than two frequencies detected! Forced big_count_ to 4\n",
      "[19:12:48] /home/khadas/tvm/src/runtime/threading_backend.cc:343: Warning: more than two frequencies detected! Forced big_count_ to 4\n"
     ]
    },
    {
     "name": "stdout",
     "output_type": "stream",
     "text": [
      "[Task  1/16]  Current/Best:    0.18/   1.23 GFLOPS | Progress: (54/1500) | 32.05 s Done.\n",
      "[Task  2/16]  Current/Best:    0.00/   0.00 GFLOPS | Progress: (0/1500) | 0.00 s"
     ]
    },
    {
     "name": "stderr",
     "output_type": "stream",
     "text": [
      "[19:12:50] /home/khadas/tvm/src/runtime/threading_backend.cc:343: Warning: more than two frequencies detected! Forced big_count_ to 4\n",
      "[19:12:50] /home/khadas/tvm/src/runtime/threading_backend.cc:343: Warning: more than two frequencies detected! Forced big_count_ to 4\n",
      "[19:12:50] /home/khadas/tvm/src/runtime/threading_backend.cc:343: Warning: more than two frequencies detected! Forced big_count_ to 4\n",
      "[19:12:51] /home/khadas/tvm/src/runtime/threading_backend.cc:343: Warning: more than two frequencies detected! Forced big_count_ to 4\n",
      "[19:12:51] /home/khadas/tvm/src/runtime/threading_backend.cc:343: Warning: more than two frequencies detected! Forced big_count_ to 4\n"
     ]
    },
    {
     "name": "stdout",
     "output_type": "stream",
     "text": [
      "[Task  2/16]  Current/Best:    0.19/   0.92 GFLOPS | Progress: (8/1500) | 3.12 s"
     ]
    },
    {
     "name": "stderr",
     "output_type": "stream",
     "text": [
      "[19:12:51] /home/khadas/tvm/src/runtime/threading_backend.cc:343: Warning: more than two frequencies detected! Forced big_count_ to 4\n",
      "[19:12:51] /home/khadas/tvm/src/runtime/threading_backend.cc:343: Warning: more than two frequencies detected! Forced big_count_ to 4\n",
      "[19:12:51] /home/khadas/tvm/src/runtime/threading_backend.cc:343: Warning: more than two frequencies detected! Forced big_count_ to 4\n",
      "[19:12:52] /home/khadas/tvm/src/runtime/threading_backend.cc:343: Warning: more than two frequencies detected! Forced big_count_ to 4\n",
      "[19:12:52] /home/khadas/tvm/src/runtime/threading_backend.cc:343: Warning: more than two frequencies detected! Forced big_count_ to 4\n",
      "[19:12:52] /home/khadas/tvm/src/runtime/threading_backend.cc:343: Warning: more than two frequencies detected! Forced big_count_ to 4\n",
      "[19:12:52] /home/khadas/tvm/src/runtime/threading_backend.cc:343: Warning: more than two frequencies detected! Forced big_count_ to 4\n"
     ]
    },
    {
     "name": "stdout",
     "output_type": "stream",
     "text": [
      "[Task  2/16]  Current/Best:    1.27/   1.27 GFLOPS | Progress: (16/1500) | 4.74 s"
     ]
    },
    {
     "name": "stderr",
     "output_type": "stream",
     "text": [
      "[19:12:53] /home/khadas/tvm/src/runtime/threading_backend.cc:343: Warning: more than two frequencies detected! Forced big_count_ to 4\n",
      "[19:12:53] /home/khadas/tvm/src/runtime/threading_backend.cc:343: Warning: more than two frequencies detected! Forced big_count_ to 4\n",
      "[19:12:54] /home/khadas/tvm/src/runtime/threading_backend.cc:343: Warning: more than two frequencies detected! Forced big_count_ to 4\n"
     ]
    },
    {
     "name": "stdout",
     "output_type": "stream",
     "text": [
      "[Task  2/16]  Current/Best:    0.16/   1.60 GFLOPS | Progress: (24/1500) | 6.76 s"
     ]
    },
    {
     "name": "stderr",
     "output_type": "stream",
     "text": [
      "[19:12:54] /home/khadas/tvm/src/runtime/threading_backend.cc:343: Warning: more than two frequencies detected! Forced big_count_ to 4\n",
      "[19:12:55] /home/khadas/tvm/src/runtime/threading_backend.cc:343: Warning: more than two frequencies detected! Forced big_count_ to 4\n"
     ]
    },
    {
     "name": "stdout",
     "output_type": "stream",
     "text": [
      "[Task  2/16]  Current/Best:    0.07/   1.60 GFLOPS | Progress: (27/1500) | 7.58 s"
     ]
    },
    {
     "name": "stderr",
     "output_type": "stream",
     "text": [
      "[19:12:55] /home/khadas/tvm/src/runtime/threading_backend.cc:343: Warning: more than two frequencies detected! Forced big_count_ to 4\n"
     ]
    },
    {
     "name": "stdout",
     "output_type": "stream",
     "text": [
      " Done.\n",
      "[Task  3/16]  Current/Best:    0.00/   0.00 GFLOPS | Progress: (0/1500) | 0.00 s"
     ]
    },
    {
     "name": "stderr",
     "output_type": "stream",
     "text": [
      "[19:13:02] /home/khadas/tvm/src/runtime/threading_backend.cc:343: Warning: more than two frequencies detected! Forced big_count_ to 4\n",
      "[19:13:02] /home/khadas/tvm/src/runtime/threading_backend.cc:343: Warning: more than two frequencies detected! Forced big_count_ to 4\n",
      "[19:13:02] /home/khadas/tvm/src/runtime/threading_backend.cc:343: Warning: more than two frequencies detected! Forced big_count_ to 4\n",
      "[19:13:03] /home/khadas/tvm/src/runtime/threading_backend.cc:343: Warning: more than two frequencies detected! Forced big_count_ to 4\n",
      "[19:13:03] /home/khadas/tvm/src/runtime/threading_backend.cc:343: Warning: more than two frequencies detected! Forced big_count_ to 4\n",
      "[19:13:03] /home/khadas/tvm/src/runtime/threading_backend.cc:343: Warning: more than two frequencies detected! Forced big_count_ to 4\n"
     ]
    },
    {
     "name": "stdout",
     "output_type": "stream",
     "text": [
      "[Task  3/16]  Current/Best:    4.60/   4.67 GFLOPS | Progress: (8/1500) | 2.92 s"
     ]
    },
    {
     "name": "stderr",
     "output_type": "stream",
     "text": [
      "[19:13:04] /home/khadas/tvm/src/runtime/threading_backend.cc:343: Warning: more than two frequencies detected! Forced big_count_ to 4\n",
      "[19:13:04] /home/khadas/tvm/src/runtime/threading_backend.cc:343: Warning: more than two frequencies detected! Forced big_count_ to 4\n",
      "[19:13:04] /home/khadas/tvm/src/runtime/threading_backend.cc:343: Warning: more than two frequencies detected! Forced big_count_ to 4\n",
      "[19:13:04] /home/khadas/tvm/src/runtime/threading_backend.cc:343: Warning: more than two frequencies detected! Forced big_count_ to 4\n",
      "[19:13:05] /home/khadas/tvm/src/runtime/threading_backend.cc:343: Warning: more than two frequencies detected! Forced big_count_ to 4\n"
     ]
    },
    {
     "name": "stdout",
     "output_type": "stream",
     "text": [
      "[Task  3/16]  Current/Best:    4.65/   4.72 GFLOPS | Progress: (16/1500) | 4.60 s"
     ]
    },
    {
     "name": "stderr",
     "output_type": "stream",
     "text": [
      "[19:13:05] /home/khadas/tvm/src/runtime/threading_backend.cc:343: Warning: more than two frequencies detected! Forced big_count_ to 4\n",
      "[19:13:05] /home/khadas/tvm/src/runtime/threading_backend.cc:343: Warning: more than two frequencies detected! Forced big_count_ to 4\n",
      "[19:13:06] /home/khadas/tvm/src/runtime/threading_backend.cc:343: Warning: more than two frequencies detected! Forced big_count_ to 4\n",
      "[19:13:06] /home/khadas/tvm/src/runtime/threading_backend.cc:343: Warning: more than two frequencies detected! Forced big_count_ to 4\n",
      "[19:13:06] /home/khadas/tvm/src/runtime/threading_backend.cc:343: Warning: more than two frequencies detected! Forced big_count_ to 4\n",
      "[19:13:06] /home/khadas/tvm/src/runtime/threading_backend.cc:343: Warning: more than two frequencies detected! Forced big_count_ to 4\n"
     ]
    },
    {
     "name": "stdout",
     "output_type": "stream",
     "text": [
      "[Task  3/16]  Current/Best:    1.09/   5.26 GFLOPS | Progress: (24/1500) | 6.36 s"
     ]
    },
    {
     "name": "stderr",
     "output_type": "stream",
     "text": [
      "[19:13:07] /home/khadas/tvm/src/runtime/threading_backend.cc:343: Warning: more than two frequencies detected! Forced big_count_ to 4\n",
      "[19:13:07] /home/khadas/tvm/src/runtime/threading_backend.cc:343: Warning: more than two frequencies detected! Forced big_count_ to 4\n",
      "[19:13:07] /home/khadas/tvm/src/runtime/threading_backend.cc:343: Warning: more than two frequencies detected! Forced big_count_ to 4\n",
      "[19:13:07] /home/khadas/tvm/src/runtime/threading_backend.cc:343: Warning: more than two frequencies detected! Forced big_count_ to 4\n",
      "[19:13:08] /home/khadas/tvm/src/runtime/threading_backend.cc:343: Warning: more than two frequencies detected! Forced big_count_ to 4\n",
      "[19:13:08] /home/khadas/tvm/src/runtime/threading_backend.cc:343: Warning: more than two frequencies detected! Forced big_count_ to 4\n",
      "[19:13:08] /home/khadas/tvm/src/runtime/threading_backend.cc:343: Warning: more than two frequencies detected! Forced big_count_ to 4\n",
      "[19:13:08] /home/khadas/tvm/src/runtime/threading_backend.cc:343: Warning: more than two frequencies detected! Forced big_count_ to 4\n"
     ]
    },
    {
     "name": "stdout",
     "output_type": "stream",
     "text": [
      "[Task  3/16]  Current/Best:    0.73/   5.26 GFLOPS | Progress: (32/1500) | 8.14 s"
     ]
    },
    {
     "name": "stderr",
     "output_type": "stream",
     "text": [
      "[19:13:08] /home/khadas/tvm/src/runtime/threading_backend.cc:343: Warning: more than two frequencies detected! Forced big_count_ to 4\n",
      "[19:13:09] /home/khadas/tvm/src/runtime/threading_backend.cc:343: Warning: more than two frequencies detected! Forced big_count_ to 4\n",
      "[19:13:09] /home/khadas/tvm/src/runtime/threading_backend.cc:343: Warning: more than two frequencies detected! Forced big_count_ to 4\n",
      "[19:13:10] /home/khadas/tvm/src/runtime/threading_backend.cc:343: Warning: more than two frequencies detected! Forced big_count_ to 4\n",
      "[19:13:10] /home/khadas/tvm/src/runtime/threading_backend.cc:343: Warning: more than two frequencies detected! Forced big_count_ to 4\n",
      "[19:13:10] /home/khadas/tvm/src/runtime/threading_backend.cc:343: Warning: more than two frequencies detected! Forced big_count_ to 4\n",
      "[19:13:10] /home/khadas/tvm/src/runtime/threading_backend.cc:343: Warning: more than two frequencies detected! Forced big_count_ to 4\n"
     ]
    },
    {
     "name": "stdout",
     "output_type": "stream",
     "text": [
      "[Task  3/16]  Current/Best:    0.88/   5.26 GFLOPS | Progress: (40/1500) | 10.08 s"
     ]
    },
    {
     "name": "stderr",
     "output_type": "stream",
     "text": [
      "[19:13:10] /home/khadas/tvm/src/runtime/threading_backend.cc:343: Warning: more than two frequencies detected! Forced big_count_ to 4\n",
      "[19:13:11] /home/khadas/tvm/src/runtime/threading_backend.cc:343: Warning: more than two frequencies detected! Forced big_count_ to 4\n",
      "[19:13:11] /home/khadas/tvm/src/runtime/threading_backend.cc:343: Warning: more than two frequencies detected! Forced big_count_ to 4\n",
      "[19:13:11] /home/khadas/tvm/src/runtime/threading_backend.cc:343: Warning: more than two frequencies detected! Forced big_count_ to 4\n",
      "[19:13:12] /home/khadas/tvm/src/runtime/threading_backend.cc:343: Warning: more than two frequencies detected! Forced big_count_ to 4\n",
      "[19:13:12] /home/khadas/tvm/src/runtime/threading_backend.cc:343: Warning: more than two frequencies detected! Forced big_count_ to 4\n",
      "[19:13:12] /home/khadas/tvm/src/runtime/threading_backend.cc:343: Warning: more than two frequencies detected! Forced big_count_ to 4\n"
     ]
    },
    {
     "name": "stdout",
     "output_type": "stream",
     "text": [
      "[Task  3/16]  Current/Best:    1.12/   5.26 GFLOPS | Progress: (48/1500) | 11.89 s"
     ]
    },
    {
     "name": "stderr",
     "output_type": "stream",
     "text": [
      "[19:13:12] /home/khadas/tvm/src/runtime/threading_backend.cc:343: Warning: more than two frequencies detected! Forced big_count_ to 4\n",
      "[19:13:13] /home/khadas/tvm/src/runtime/threading_backend.cc:343: Warning: more than two frequencies detected! Forced big_count_ to 4\n",
      "[19:13:13] /home/khadas/tvm/src/runtime/threading_backend.cc:343: Warning: more than two frequencies detected! Forced big_count_ to 4\n",
      "[19:13:13] /home/khadas/tvm/src/runtime/threading_backend.cc:343: Warning: more than two frequencies detected! Forced big_count_ to 4\n",
      "[19:13:13] /home/khadas/tvm/src/runtime/threading_backend.cc:343: Warning: more than two frequencies detected! Forced big_count_ to 4\n",
      "[19:13:13] /home/khadas/tvm/src/runtime/threading_backend.cc:343: Warning: more than two frequencies detected! Forced big_count_ to 4\n",
      "[19:13:14] /home/khadas/tvm/src/runtime/threading_backend.cc:343: Warning: more than two frequencies detected! Forced big_count_ to 4\n"
     ]
    },
    {
     "name": "stdout",
     "output_type": "stream",
     "text": [
      "[Task  3/16]  Current/Best:    4.61/   5.26 GFLOPS | Progress: (56/1500) | 13.63 s"
     ]
    },
    {
     "name": "stderr",
     "output_type": "stream",
     "text": [
      "[19:13:14] /home/khadas/tvm/src/runtime/threading_backend.cc:343: Warning: more than two frequencies detected! Forced big_count_ to 4\n",
      "[19:13:15] /home/khadas/tvm/src/runtime/threading_backend.cc:343: Warning: more than two frequencies detected! Forced big_count_ to 4\n",
      "[19:13:15] /home/khadas/tvm/src/runtime/threading_backend.cc:343: Warning: more than two frequencies detected! Forced big_count_ to 4\n",
      "[19:13:15] /home/khadas/tvm/src/runtime/threading_backend.cc:343: Warning: more than two frequencies detected! Forced big_count_ to 4\n",
      "[19:13:16] /home/khadas/tvm/src/runtime/threading_backend.cc:343: Warning: more than two frequencies detected! Forced big_count_ to 4\n"
     ]
    },
    {
     "name": "stdout",
     "output_type": "stream",
     "text": [
      "[Task  3/16]  Current/Best:    4.71/   5.35 GFLOPS | Progress: (96/1500) | 29.98 s"
     ]
    },
    {
     "name": "stderr",
     "output_type": "stream",
     "text": [
      "[19:13:31] /home/khadas/tvm/src/runtime/threading_backend.cc:343: Warning: more than two frequencies detected! Forced big_count_ to 4\n",
      "[19:13:32] /home/khadas/tvm/src/runtime/threading_backend.cc:343: Warning: more than two frequencies detected! Forced big_count_ to 4\n"
     ]
    },
    {
     "name": "stdout",
     "output_type": "stream",
     "text": [
      "[Task  3/16]  Current/Best:    2.72/   5.35 GFLOPS | Progress: (104/1500) | 32.14 s"
     ]
    },
    {
     "name": "stderr",
     "output_type": "stream",
     "text": [
      "[19:13:33] /home/khadas/tvm/src/runtime/threading_backend.cc:343: Warning: more than two frequencies detected! Forced big_count_ to 4\n",
      "[19:13:33] /home/khadas/tvm/src/runtime/threading_backend.cc:343: Warning: more than two frequencies detected! Forced big_count_ to 4\n",
      "[19:13:34] /home/khadas/tvm/src/runtime/threading_backend.cc:343: Warning: more than two frequencies detected! Forced big_count_ to 4\n",
      "[19:13:34] /home/khadas/tvm/src/runtime/threading_backend.cc:343: Warning: more than two frequencies detected! Forced big_count_ to 4\n"
     ]
    },
    {
     "name": "stdout",
     "output_type": "stream",
     "text": [
      "[Task  3/16]  Current/Best:    5.21/   5.35 GFLOPS | Progress: (112/1500) | 33.87 s"
     ]
    },
    {
     "name": "stderr",
     "output_type": "stream",
     "text": [
      "[19:13:35] /home/khadas/tvm/src/runtime/threading_backend.cc:343: Warning: more than two frequencies detected! Forced big_count_ to 4\n",
      "[19:13:35] /home/khadas/tvm/src/runtime/threading_backend.cc:343: Warning: more than two frequencies detected! Forced big_count_ to 4\n",
      "[19:13:35] /home/khadas/tvm/src/runtime/threading_backend.cc:343: Warning: more than two frequencies detected! Forced big_count_ to 4\n",
      "[19:13:35] /home/khadas/tvm/src/runtime/threading_backend.cc:343: Warning: more than two frequencies detected! Forced big_count_ to 4\n",
      "[19:13:35] /home/khadas/tvm/src/runtime/threading_backend.cc:343: Warning: more than two frequencies detected! Forced big_count_ to 4\n",
      "[19:13:36] /home/khadas/tvm/src/runtime/threading_backend.cc:343: Warning: more than two frequencies detected! Forced big_count_ to 4\n",
      "[19:13:36] /home/khadas/tvm/src/runtime/threading_backend.cc:343: Warning: more than two frequencies detected! Forced big_count_ to 4\n"
     ]
    },
    {
     "name": "stdout",
     "output_type": "stream",
     "text": [
      "[Task  3/16]  Current/Best:    1.36/   5.35 GFLOPS | Progress: (120/1500) | 35.74 s"
     ]
    },
    {
     "name": "stderr",
     "output_type": "stream",
     "text": [
      "[19:13:36] /home/khadas/tvm/src/runtime/threading_backend.cc:343: Warning: more than two frequencies detected! Forced big_count_ to 4\n",
      "[19:13:36] /home/khadas/tvm/src/runtime/threading_backend.cc:343: Warning: more than two frequencies detected! Forced big_count_ to 4\n",
      "[19:13:37] /home/khadas/tvm/src/runtime/threading_backend.cc:343: Warning: more than two frequencies detected! Forced big_count_ to 4\n",
      "[19:13:37] /home/khadas/tvm/src/runtime/threading_backend.cc:343: Warning: more than two frequencies detected! Forced big_count_ to 4\n",
      "[19:13:37] /home/khadas/tvm/src/runtime/threading_backend.cc:343: Warning: more than two frequencies detected! Forced big_count_ to 4\n",
      "[19:13:37] /home/khadas/tvm/src/runtime/threading_backend.cc:343: Warning: more than two frequencies detected! Forced big_count_ to 4\n",
      "[19:13:37] /home/khadas/tvm/src/runtime/threading_backend.cc:343: Warning: more than two frequencies detected! Forced big_count_ to 4\n",
      "[19:13:38] /home/khadas/tvm/src/runtime/threading_backend.cc:343: Warning: more than two frequencies detected! Forced big_count_ to 4\n",
      "[19:13:38] /home/khadas/tvm/src/runtime/threading_backend.cc:343: Warning: more than two frequencies detected! Forced big_count_ to 4\n"
     ]
    },
    {
     "name": "stdout",
     "output_type": "stream",
     "text": [
      "[Task  3/16]  Current/Best:    1.08/   5.35 GFLOPS | Progress: (128/1500) | 40.09 s"
     ]
    },
    {
     "name": "stderr",
     "output_type": "stream",
     "text": [
      "[19:13:41] /home/khadas/tvm/src/runtime/threading_backend.cc:343: Warning: more than two frequencies detected! Forced big_count_ to 4\n",
      "[19:13:41] /home/khadas/tvm/src/runtime/threading_backend.cc:343: Warning: more than two frequencies detected! Forced big_count_ to 4\n",
      "[19:13:41] /home/khadas/tvm/src/runtime/threading_backend.cc:343: Warning: more than two frequencies detected! Forced big_count_ to 4\n",
      "[19:13:41] /home/khadas/tvm/src/runtime/threading_backend.cc:343: Warning: more than two frequencies detected! Forced big_count_ to 4\n",
      "[19:13:42] /home/khadas/tvm/src/runtime/threading_backend.cc:343: Warning: more than two frequencies detected! Forced big_count_ to 4\n",
      "[19:13:42] /home/khadas/tvm/src/runtime/threading_backend.cc:343: Warning: more than two frequencies detected! Forced big_count_ to 4\n"
     ]
    },
    {
     "name": "stdout",
     "output_type": "stream",
     "text": [
      "[Task  3/16]  Current/Best:    1.16/   5.35 GFLOPS | Progress: (136/1500) | 41.81 s"
     ]
    },
    {
     "name": "stderr",
     "output_type": "stream",
     "text": [
      "[19:13:42] /home/khadas/tvm/src/runtime/threading_backend.cc:343: Warning: more than two frequencies detected! Forced big_count_ to 4\n",
      "[19:13:43] /home/khadas/tvm/src/runtime/threading_backend.cc:343: Warning: more than two frequencies detected! Forced big_count_ to 4\n",
      "[19:13:43] /home/khadas/tvm/src/runtime/threading_backend.cc:343: Warning: more than two frequencies detected! Forced big_count_ to 4\n",
      "[19:13:43] /home/khadas/tvm/src/runtime/threading_backend.cc:343: Warning: more than two frequencies detected! Forced big_count_ to 4\n",
      "[19:13:43] /home/khadas/tvm/src/runtime/threading_backend.cc:343: Warning: more than two frequencies detected! Forced big_count_ to 4\n",
      "[19:13:43] /home/khadas/tvm/src/runtime/threading_backend.cc:343: Warning: more than two frequencies detected! Forced big_count_ to 4\n",
      "[19:13:43] /home/khadas/tvm/src/runtime/threading_backend.cc:343: Warning: more than two frequencies detected! Forced big_count_ to 4\n",
      "[19:13:44] /home/khadas/tvm/src/runtime/threading_backend.cc:343: Warning: more than two frequencies detected! Forced big_count_ to 4\n",
      "[19:13:44] /home/khadas/tvm/src/runtime/threading_backend.cc:343: Warning: more than two frequencies detected! Forced big_count_ to 4\n"
     ]
    },
    {
     "name": "stdout",
     "output_type": "stream",
     "text": [
      "[Task  3/16]  Current/Best:    1.27/   5.35 GFLOPS | Progress: (144/1500) | 43.60 s"
     ]
    },
    {
     "name": "stderr",
     "output_type": "stream",
     "text": [
      "[19:13:44] /home/khadas/tvm/src/runtime/threading_backend.cc:343: Warning: more than two frequencies detected! Forced big_count_ to 4\n",
      "[19:13:44] /home/khadas/tvm/src/runtime/threading_backend.cc:343: Warning: more than two frequencies detected! Forced big_count_ to 4\n",
      "[19:13:45] /home/khadas/tvm/src/runtime/threading_backend.cc:343: Warning: more than two frequencies detected! Forced big_count_ to 4\n",
      "[19:13:45] /home/khadas/tvm/src/runtime/threading_backend.cc:343: Warning: more than two frequencies detected! Forced big_count_ to 4\n",
      "[19:13:45] /home/khadas/tvm/src/runtime/threading_backend.cc:343: Warning: more than two frequencies detected! Forced big_count_ to 4\n",
      "[19:13:45] /home/khadas/tvm/src/runtime/threading_backend.cc:343: Warning: more than two frequencies detected! Forced big_count_ to 4\n",
      "[19:13:45] /home/khadas/tvm/src/runtime/threading_backend.cc:343: Warning: more than two frequencies detected! Forced big_count_ to 4\n"
     ]
    },
    {
     "name": "stdout",
     "output_type": "stream",
     "text": [
      "[Task  3/16]  Current/Best:    1.24/   5.35 GFLOPS | Progress: (152/1500) | 45.36 s"
     ]
    },
    {
     "name": "stderr",
     "output_type": "stream",
     "text": [
      "[19:13:46] /home/khadas/tvm/src/runtime/threading_backend.cc:343: Warning: more than two frequencies detected! Forced big_count_ to 4\n",
      "[19:13:46] /home/khadas/tvm/src/runtime/threading_backend.cc:343: Warning: more than two frequencies detected! Forced big_count_ to 4\n",
      "[19:13:46] /home/khadas/tvm/src/runtime/threading_backend.cc:343: Warning: more than two frequencies detected! Forced big_count_ to 4\n",
      "[19:13:46] /home/khadas/tvm/src/runtime/threading_backend.cc:343: Warning: more than two frequencies detected! Forced big_count_ to 4\n",
      "[19:13:47] /home/khadas/tvm/src/runtime/threading_backend.cc:343: Warning: more than two frequencies detected! Forced big_count_ to 4\n",
      "[19:13:47] /home/khadas/tvm/src/runtime/threading_backend.cc:343: Warning: more than two frequencies detected! Forced big_count_ to 4\n",
      "[19:13:47] /home/khadas/tvm/src/runtime/threading_backend.cc:343: Warning: more than two frequencies detected! Forced big_count_ to 4\n",
      "[19:13:47] /home/khadas/tvm/src/runtime/threading_backend.cc:343: Warning: more than two frequencies detected! Forced big_count_ to 4\n"
     ]
    },
    {
     "name": "stdout",
     "output_type": "stream",
     "text": [
      "[Task  3/16]  Current/Best:    0.51/   5.35 GFLOPS | Progress: (160/1500) | 47.14 s"
     ]
    },
    {
     "name": "stderr",
     "output_type": "stream",
     "text": [
      "[19:13:47] /home/khadas/tvm/src/runtime/threading_backend.cc:343: Warning: more than two frequencies detected! Forced big_count_ to 4\n",
      "[19:13:48] /home/khadas/tvm/src/runtime/threading_backend.cc:343: Warning: more than two frequencies detected! Forced big_count_ to 4\n",
      "[19:13:48] /home/khadas/tvm/src/runtime/threading_backend.cc:343: Warning: more than two frequencies detected! Forced big_count_ to 4\n",
      "[19:13:48] /home/khadas/tvm/src/runtime/threading_backend.cc:343: Warning: more than two frequencies detected! Forced big_count_ to 4\n",
      "[19:13:48] /home/khadas/tvm/src/runtime/threading_backend.cc:343: Warning: more than two frequencies detected! Forced big_count_ to 4\n",
      "[19:13:49] /home/khadas/tvm/src/runtime/threading_backend.cc:343: Warning: more than two frequencies detected! Forced big_count_ to 4\n",
      "[19:13:49] /home/khadas/tvm/src/runtime/threading_backend.cc:343: Warning: more than two frequencies detected! Forced big_count_ to 4\n",
      "[19:13:49] /home/khadas/tvm/src/runtime/threading_backend.cc:343: Warning: more than two frequencies detected! Forced big_count_ to 4\n",
      "[19:13:49] /home/khadas/tvm/src/runtime/threading_backend.cc:343: Warning: more than two frequencies detected! Forced big_count_ to 4\n"
     ]
    },
    {
     "name": "stdout",
     "output_type": "stream",
     "text": [
      "[Task  3/16]  Current/Best:    1.29/   5.35 GFLOPS | Progress: (168/1500) | 48.96 s"
     ]
    },
    {
     "name": "stderr",
     "output_type": "stream",
     "text": [
      "[19:13:50] /home/khadas/tvm/src/runtime/threading_backend.cc:343: Warning: more than two frequencies detected! Forced big_count_ to 4\n",
      "[19:13:50] /home/khadas/tvm/src/runtime/threading_backend.cc:343: Warning: more than two frequencies detected! Forced big_count_ to 4\n",
      "[19:13:50] /home/khadas/tvm/src/runtime/threading_backend.cc:343: Warning: more than two frequencies detected! Forced big_count_ to 4\n",
      "[19:13:50] /home/khadas/tvm/src/runtime/threading_backend.cc:343: Warning: more than two frequencies detected! Forced big_count_ to 4\n",
      "[19:13:50] /home/khadas/tvm/src/runtime/threading_backend.cc:343: Warning: more than two frequencies detected! Forced big_count_ to 4\n",
      "[19:13:51] /home/khadas/tvm/src/runtime/threading_backend.cc:343: Warning: more than two frequencies detected! Forced big_count_ to 4\n",
      "[19:13:51] /home/khadas/tvm/src/runtime/threading_backend.cc:343: Warning: more than two frequencies detected! Forced big_count_ to 4\n"
     ]
    },
    {
     "name": "stdout",
     "output_type": "stream",
     "text": [
      "[Task  3/16]  Current/Best:    0.90/   5.35 GFLOPS | Progress: (176/1500) | 50.80 s"
     ]
    },
    {
     "name": "stderr",
     "output_type": "stream",
     "text": [
      "[19:13:51] /home/khadas/tvm/src/runtime/threading_backend.cc:343: Warning: more than two frequencies detected! Forced big_count_ to 4\n"
     ]
    },
    {
     "name": "stdout",
     "output_type": "stream",
     "text": [
      " Done.\n",
      "[Task  4/16]  Current/Best:    0.00/   0.00 GFLOPS | Progress: (0/1500) | 0.00 s"
     ]
    },
    {
     "name": "stderr",
     "output_type": "stream",
     "text": [
      "[19:14:06] /home/khadas/tvm/src/runtime/threading_backend.cc:343: Warning: more than two frequencies detected! Forced big_count_ to 4\n",
      "[19:14:06] /home/khadas/tvm/src/runtime/threading_backend.cc:343: Warning: more than two frequencies detected! Forced big_count_ to 4\n",
      "[19:14:07] /home/khadas/tvm/src/runtime/threading_backend.cc:343: Warning: more than two frequencies detected! Forced big_count_ to 4\n",
      "[19:14:07] /home/khadas/tvm/src/runtime/threading_backend.cc:343: Warning: more than two frequencies detected! Forced big_count_ to 4\n",
      "[19:14:07] /home/khadas/tvm/src/runtime/threading_backend.cc:343: Warning: more than two frequencies detected! Forced big_count_ to 4\n",
      "[19:14:07] /home/khadas/tvm/src/runtime/threading_backend.cc:343: Warning: more than two frequencies detected! Forced big_count_ to 4\n"
     ]
    },
    {
     "name": "stdout",
     "output_type": "stream",
     "text": [
      "[Task  4/16]  Current/Best:    1.21/   1.29 GFLOPS | Progress: (8/1500) | 11.74 s"
     ]
    },
    {
     "name": "stderr",
     "output_type": "stream",
     "text": [
      "[19:14:07] /home/khadas/tvm/src/runtime/threading_backend.cc:343: Warning: more than two frequencies detected! Forced big_count_ to 4\n",
      "[19:14:08] /home/khadas/tvm/src/runtime/threading_backend.cc:343: Warning: more than two frequencies detected! Forced big_count_ to 4\n",
      "[19:14:08] /home/khadas/tvm/src/runtime/threading_backend.cc:343: Warning: more than two frequencies detected! Forced big_count_ to 4\n",
      "[19:14:08] /home/khadas/tvm/src/runtime/threading_backend.cc:343: Warning: more than two frequencies detected! Forced big_count_ to 4\n",
      "[19:14:09] /home/khadas/tvm/src/runtime/threading_backend.cc:343: Warning: more than two frequencies detected! Forced big_count_ to 4\n",
      "[19:14:09] /home/khadas/tvm/src/runtime/threading_backend.cc:343: Warning: more than two frequencies detected! Forced big_count_ to 4\n",
      "[19:14:09] /home/khadas/tvm/src/runtime/threading_backend.cc:343: Warning: more than two frequencies detected! Forced big_count_ to 4\n",
      "[19:14:09] /home/khadas/tvm/src/runtime/threading_backend.cc:343: Warning: more than two frequencies detected! Forced big_count_ to 4\n"
     ]
    },
    {
     "name": "stdout",
     "output_type": "stream",
     "text": [
      "[Task  4/16]  Current/Best:    0.99/   1.29 GFLOPS | Progress: (16/1500) | 13.46 s"
     ]
    },
    {
     "name": "stderr",
     "output_type": "stream",
     "text": [
      "[19:14:09] /home/khadas/tvm/src/runtime/threading_backend.cc:343: Warning: more than two frequencies detected! Forced big_count_ to 4\n",
      "[19:14:10] /home/khadas/tvm/src/runtime/threading_backend.cc:343: Warning: more than two frequencies detected! Forced big_count_ to 4\n",
      "[19:14:10] /home/khadas/tvm/src/runtime/threading_backend.cc:343: Warning: more than two frequencies detected! Forced big_count_ to 4\n",
      "[19:14:11] /home/khadas/tvm/src/runtime/threading_backend.cc:343: Warning: more than two frequencies detected! Forced big_count_ to 4\n",
      "[19:14:11] /home/khadas/tvm/src/runtime/threading_backend.cc:343: Warning: more than two frequencies detected! Forced big_count_ to 4\n",
      "[19:14:11] /home/khadas/tvm/src/runtime/threading_backend.cc:343: Warning: more than two frequencies detected! Forced big_count_ to 4\n",
      "[19:14:11] /home/khadas/tvm/src/runtime/threading_backend.cc:343: Warning: more than two frequencies detected! Forced big_count_ to 4\n",
      "[19:14:11] /home/khadas/tvm/src/runtime/threading_backend.cc:343: Warning: more than two frequencies detected! Forced big_count_ to 4\n",
      "[19:14:12] /home/khadas/tvm/src/runtime/threading_backend.cc:343: Warning: more than two frequencies detected! Forced big_count_ to 4\n"
     ]
    },
    {
     "name": "stdout",
     "output_type": "stream",
     "text": [
      "[Task  4/16]  Current/Best:    1.08/   1.29 GFLOPS | Progress: (24/1500) | 15.84 s"
     ]
    },
    {
     "name": "stderr",
     "output_type": "stream",
     "text": [
      "[19:14:14] /home/khadas/tvm/src/runtime/threading_backend.cc:343: Warning: more than two frequencies detected! Forced big_count_ to 4\n",
      "[19:14:14] /home/khadas/tvm/src/runtime/threading_backend.cc:343: Warning: more than two frequencies detected! Forced big_count_ to 4\n",
      "[19:14:14] /home/khadas/tvm/src/runtime/threading_backend.cc:343: Warning: more than two frequencies detected! Forced big_count_ to 4\n",
      "[19:14:15] /home/khadas/tvm/src/runtime/threading_backend.cc:343: Warning: more than two frequencies detected! Forced big_count_ to 4\n",
      "[19:14:15] /home/khadas/tvm/src/runtime/threading_backend.cc:343: Warning: more than two frequencies detected! Forced big_count_ to 4\n",
      "[19:14:15] /home/khadas/tvm/src/runtime/threading_backend.cc:343: Warning: more than two frequencies detected! Forced big_count_ to 4\n"
     ]
    },
    {
     "name": "stdout",
     "output_type": "stream",
     "text": [
      "[Task  4/16]  Current/Best:    2.62/   2.62 GFLOPS | Progress: (32/1500) | 19.40 s"
     ]
    },
    {
     "name": "stderr",
     "output_type": "stream",
     "text": [
      "[19:14:20] /home/khadas/tvm/src/runtime/threading_backend.cc:343: Warning: more than two frequencies detected! Forced big_count_ to 4\n",
      "[19:14:20] /home/khadas/tvm/src/runtime/threading_backend.cc:343: Warning: more than two frequencies detected! Forced big_count_ to 4\n",
      "[19:14:20] /home/khadas/tvm/src/runtime/threading_backend.cc:343: Warning: more than two frequencies detected! Forced big_count_ to 4\n",
      "[19:14:20] /home/khadas/tvm/src/runtime/threading_backend.cc:343: Warning: more than two frequencies detected! Forced big_count_ to 4\n",
      "[19:14:21] /home/khadas/tvm/src/runtime/threading_backend.cc:343: Warning: more than two frequencies detected! Forced big_count_ to 4\n",
      "[19:14:21] /home/khadas/tvm/src/runtime/threading_backend.cc:343: Warning: more than two frequencies detected! Forced big_count_ to 4\n",
      "[19:14:21] /home/khadas/tvm/src/runtime/threading_backend.cc:343: Warning: more than two frequencies detected! Forced big_count_ to 4\n"
     ]
    },
    {
     "name": "stdout",
     "output_type": "stream",
     "text": [
      "[Task  4/16]  Current/Best:    1.27/   2.62 GFLOPS | Progress: (40/1500) | 25.43 s"
     ]
    },
    {
     "name": "stderr",
     "output_type": "stream",
     "text": [
      "[19:14:21] /home/khadas/tvm/src/runtime/threading_backend.cc:343: Warning: more than two frequencies detected! Forced big_count_ to 4\n",
      "[19:14:23] /home/khadas/tvm/src/runtime/threading_backend.cc:343: Warning: more than two frequencies detected! Forced big_count_ to 4\n",
      "[19:14:23] /home/khadas/tvm/src/runtime/threading_backend.cc:343: Warning: more than two frequencies detected! Forced big_count_ to 4\n",
      "[19:14:23] /home/khadas/tvm/src/runtime/threading_backend.cc:343: Warning: more than two frequencies detected! Forced big_count_ to 4\n",
      "[19:14:23] /home/khadas/tvm/src/runtime/threading_backend.cc:343: Warning: more than two frequencies detected! Forced big_count_ to 4\n",
      "[19:14:23] /home/khadas/tvm/src/runtime/threading_backend.cc:343: Warning: more than two frequencies detected! Forced big_count_ to 4\n",
      "[19:14:23] /home/khadas/tvm/src/runtime/threading_backend.cc:343: Warning: more than two frequencies detected! Forced big_count_ to 4\n",
      "[19:14:24] /home/khadas/tvm/src/runtime/threading_backend.cc:343: Warning: more than two frequencies detected! Forced big_count_ to 4\n"
     ]
    },
    {
     "name": "stdout",
     "output_type": "stream",
     "text": [
      "[Task  4/16]  Current/Best:    1.05/   2.62 GFLOPS | Progress: (48/1500) | 27.86 s"
     ]
    },
    {
     "name": "stderr",
     "output_type": "stream",
     "text": [
      "[19:14:29] /home/khadas/tvm/src/runtime/threading_backend.cc:343: Warning: more than two frequencies detected! Forced big_count_ to 4\n",
      "[19:14:29] /home/khadas/tvm/src/runtime/threading_backend.cc:343: Warning: more than two frequencies detected! Forced big_count_ to 4\n",
      "[19:14:29] /home/khadas/tvm/src/runtime/threading_backend.cc:343: Warning: more than two frequencies detected! Forced big_count_ to 4\n",
      "[19:14:30] /home/khadas/tvm/src/runtime/threading_backend.cc:343: Warning: more than two frequencies detected! Forced big_count_ to 4\n"
     ]
    },
    {
     "name": "stdout",
     "output_type": "stream",
     "text": [
      "[Task  4/16]  Current/Best:    1.05/   2.62 GFLOPS | Progress: (56/1500) | 34.13 s"
     ]
    },
    {
     "name": "stderr",
     "output_type": "stream",
     "text": [
      "[19:14:30] /home/khadas/tvm/src/runtime/threading_backend.cc:343: Warning: more than two frequencies detected! Forced big_count_ to 4\n"
     ]
    },
    {
     "name": "stdout",
     "output_type": "stream",
     "text": [
      " Done.\n",
      "[Task  5/16]  Current/Best:    0.00/   0.00 GFLOPS | Progress: (0/1500) | 0.00 s"
     ]
    },
    {
     "name": "stderr",
     "output_type": "stream",
     "text": [
      "[19:14:38] /home/khadas/tvm/src/runtime/threading_backend.cc:343: Warning: more than two frequencies detected! Forced big_count_ to 4\n",
      "[19:14:38] /home/khadas/tvm/src/runtime/threading_backend.cc:343: Warning: more than two frequencies detected! Forced big_count_ to 4\n",
      "[19:14:38] /home/khadas/tvm/src/runtime/threading_backend.cc:343: Warning: more than two frequencies detected! Forced big_count_ to 4\n",
      "[19:14:39] /home/khadas/tvm/src/runtime/threading_backend.cc:343: Warning: more than two frequencies detected! Forced big_count_ to 4\n",
      "[19:14:39] /home/khadas/tvm/src/runtime/threading_backend.cc:343: Warning: more than two frequencies detected! Forced big_count_ to 4\n"
     ]
    },
    {
     "name": "stdout",
     "output_type": "stream",
     "text": [
      "[Task  5/16]  Current/Best:    2.20/   5.67 GFLOPS | Progress: (8/1500) | 2.89 s"
     ]
    },
    {
     "name": "stderr",
     "output_type": "stream",
     "text": [
      "[19:14:39] /home/khadas/tvm/src/runtime/threading_backend.cc:343: Warning: more than two frequencies detected! Forced big_count_ to 4\n",
      "[19:14:40] /home/khadas/tvm/src/runtime/threading_backend.cc:343: Warning: more than two frequencies detected! Forced big_count_ to 4\n",
      "[19:14:40] /home/khadas/tvm/src/runtime/threading_backend.cc:343: Warning: more than two frequencies detected! Forced big_count_ to 4\n",
      "[19:14:40] /home/khadas/tvm/src/runtime/threading_backend.cc:343: Warning: more than two frequencies detected! Forced big_count_ to 4\n",
      "[19:14:40] /home/khadas/tvm/src/runtime/threading_backend.cc:343: Warning: more than two frequencies detected! Forced big_count_ to 4\n",
      "[19:14:41] /home/khadas/tvm/src/runtime/threading_backend.cc:343: Warning: more than two frequencies detected! Forced big_count_ to 4\n"
     ]
    },
    {
     "name": "stdout",
     "output_type": "stream",
     "text": [
      "[Task  5/16]  Current/Best:    5.25/   5.67 GFLOPS | Progress: (16/1500) | 4.78 s"
     ]
    },
    {
     "name": "stderr",
     "output_type": "stream",
     "text": [
      "[19:14:42] /home/khadas/tvm/src/runtime/threading_backend.cc:343: Warning: more than two frequencies detected! Forced big_count_ to 4\n",
      "[19:14:42] /home/khadas/tvm/src/runtime/threading_backend.cc:343: Warning: more than two frequencies detected! Forced big_count_ to 4\n",
      "[19:14:42] /home/khadas/tvm/src/runtime/threading_backend.cc:343: Warning: more than two frequencies detected! Forced big_count_ to 4\n",
      "[19:14:42] /home/khadas/tvm/src/runtime/threading_backend.cc:343: Warning: more than two frequencies detected! Forced big_count_ to 4\n",
      "[19:14:42] /home/khadas/tvm/src/runtime/threading_backend.cc:343: Warning: more than two frequencies detected! Forced big_count_ to 4\n",
      "[19:14:43] /home/khadas/tvm/src/runtime/threading_backend.cc:343: Warning: more than two frequencies detected! Forced big_count_ to 4\n",
      "[19:14:43] /home/khadas/tvm/src/runtime/threading_backend.cc:343: Warning: more than two frequencies detected! Forced big_count_ to 4\n"
     ]
    },
    {
     "name": "stdout",
     "output_type": "stream",
     "text": [
      "[Task  5/16]  Current/Best:    2.16/   5.67 GFLOPS | Progress: (24/1500) | 7.05 s"
     ]
    },
    {
     "name": "stderr",
     "output_type": "stream",
     "text": [
      "[19:14:43] /home/khadas/tvm/src/runtime/threading_backend.cc:343: Warning: more than two frequencies detected! Forced big_count_ to 4\n",
      "[19:14:44] /home/khadas/tvm/src/runtime/threading_backend.cc:343: Warning: more than two frequencies detected! Forced big_count_ to 4\n",
      "[19:14:44] /home/khadas/tvm/src/runtime/threading_backend.cc:343: Warning: more than two frequencies detected! Forced big_count_ to 4\n",
      "[19:14:44] /home/khadas/tvm/src/runtime/threading_backend.cc:343: Warning: more than two frequencies detected! Forced big_count_ to 4\n",
      "[19:14:45] /home/khadas/tvm/src/runtime/threading_backend.cc:343: Warning: more than two frequencies detected! Forced big_count_ to 4\n",
      "[19:14:45] /home/khadas/tvm/src/runtime/threading_backend.cc:343: Warning: more than two frequencies detected! Forced big_count_ to 4\n"
     ]
    },
    {
     "name": "stdout",
     "output_type": "stream",
     "text": [
      "[Task  5/16]  Current/Best:    2.12/   5.67 GFLOPS | Progress: (32/1500) | 9.30 s"
     ]
    },
    {
     "name": "stderr",
     "output_type": "stream",
     "text": [
      "[19:14:45] /home/khadas/tvm/src/runtime/threading_backend.cc:343: Warning: more than two frequencies detected! Forced big_count_ to 4\n",
      "[19:14:46] /home/khadas/tvm/src/runtime/threading_backend.cc:343: Warning: more than two frequencies detected! Forced big_count_ to 4\n",
      "[19:14:46] /home/khadas/tvm/src/runtime/threading_backend.cc:343: Warning: more than two frequencies detected! Forced big_count_ to 4\n",
      "[19:14:46] /home/khadas/tvm/src/runtime/threading_backend.cc:343: Warning: more than two frequencies detected! Forced big_count_ to 4\n",
      "[19:14:47] /home/khadas/tvm/src/runtime/threading_backend.cc:343: Warning: more than two frequencies detected! Forced big_count_ to 4\n",
      "[19:14:47] /home/khadas/tvm/src/runtime/threading_backend.cc:343: Warning: more than two frequencies detected! Forced big_count_ to 4\n",
      "[19:14:47] /home/khadas/tvm/src/runtime/threading_backend.cc:343: Warning: more than two frequencies detected! Forced big_count_ to 4\n",
      "[19:14:47] /home/khadas/tvm/src/runtime/threading_backend.cc:343: Warning: more than two frequencies detected! Forced big_count_ to 4\n"
     ]
    },
    {
     "name": "stdout",
     "output_type": "stream",
     "text": [
      "[Task  5/16]  Current/Best:    2.22/   5.67 GFLOPS | Progress: (40/1500) | 11.48 s"
     ]
    },
    {
     "name": "stderr",
     "output_type": "stream",
     "text": [
      "[19:14:48] /home/khadas/tvm/src/runtime/threading_backend.cc:343: Warning: more than two frequencies detected! Forced big_count_ to 4\n",
      "[19:14:49] /home/khadas/tvm/src/runtime/threading_backend.cc:343: Warning: more than two frequencies detected! Forced big_count_ to 4\n",
      "[19:14:49] /home/khadas/tvm/src/runtime/threading_backend.cc:343: Warning: more than two frequencies detected! Forced big_count_ to 4\n",
      "[19:14:49] /home/khadas/tvm/src/runtime/threading_backend.cc:343: Warning: more than two frequencies detected! Forced big_count_ to 4\n"
     ]
    },
    {
     "name": "stdout",
     "output_type": "stream",
     "text": [
      "[Task  5/16]  Current/Best:    1.88/   5.67 GFLOPS | Progress: (48/1500) | 13.48 s"
     ]
    },
    {
     "name": "stderr",
     "output_type": "stream",
     "text": [
      "[19:14:49] /home/khadas/tvm/src/runtime/threading_backend.cc:343: Warning: more than two frequencies detected! Forced big_count_ to 4\n",
      "[19:14:50] /home/khadas/tvm/src/runtime/threading_backend.cc:343: Warning: more than two frequencies detected! Forced big_count_ to 4\n",
      "[19:14:50] /home/khadas/tvm/src/runtime/threading_backend.cc:343: Warning: more than two frequencies detected! Forced big_count_ to 4\n",
      "[19:14:50] /home/khadas/tvm/src/runtime/threading_backend.cc:343: Warning: more than two frequencies detected! Forced big_count_ to 4\n",
      "[19:14:50] /home/khadas/tvm/src/runtime/threading_backend.cc:343: Warning: more than two frequencies detected! Forced big_count_ to 4\n",
      "[19:14:51] /home/khadas/tvm/src/runtime/threading_backend.cc:343: Warning: more than two frequencies detected! Forced big_count_ to 4\n",
      "[19:14:51] /home/khadas/tvm/src/runtime/threading_backend.cc:343: Warning: more than two frequencies detected! Forced big_count_ to 4\n",
      "[19:14:51] /home/khadas/tvm/src/runtime/threading_backend.cc:343: Warning: more than two frequencies detected! Forced big_count_ to 4\n"
     ]
    },
    {
     "name": "stdout",
     "output_type": "stream",
     "text": [
      "[Task  5/16]  Current/Best:    5.62/   5.67 GFLOPS | Progress: (56/1500) | 15.24 s"
     ]
    },
    {
     "name": "stderr",
     "output_type": "stream",
     "text": [
      "[19:14:52] /home/khadas/tvm/src/runtime/threading_backend.cc:343: Warning: more than two frequencies detected! Forced big_count_ to 4\n",
      "[19:14:52] /home/khadas/tvm/src/runtime/threading_backend.cc:343: Warning: more than two frequencies detected! Forced big_count_ to 4\n",
      "[19:14:52] /home/khadas/tvm/src/runtime/threading_backend.cc:343: Warning: more than two frequencies detected! Forced big_count_ to 4\n",
      "[19:14:53] /home/khadas/tvm/src/runtime/threading_backend.cc:343: Warning: more than two frequencies detected! Forced big_count_ to 4\n",
      "[19:14:53] /home/khadas/tvm/src/runtime/threading_backend.cc:343: Warning: more than two frequencies detected! Forced big_count_ to 4\n",
      "[19:14:53] /home/khadas/tvm/src/runtime/threading_backend.cc:343: Warning: more than two frequencies detected! Forced big_count_ to 4\n"
     ]
    },
    {
     "name": "stdout",
     "output_type": "stream",
     "text": [
      "[Task  5/16]  Current/Best:    1.92/   5.76 GFLOPS | Progress: (96/1500) | 33.66 s"
     ]
    },
    {
     "name": "stderr",
     "output_type": "stream",
     "text": [
      "[19:15:10] /home/khadas/tvm/src/runtime/threading_backend.cc:343: Warning: more than two frequencies detected! Forced big_count_ to 4\n",
      "[19:15:11] /home/khadas/tvm/src/runtime/threading_backend.cc:343: Warning: more than two frequencies detected! Forced big_count_ to 4\n",
      "[19:15:11] /home/khadas/tvm/src/runtime/threading_backend.cc:343: Warning: more than two frequencies detected! Forced big_count_ to 4\n"
     ]
    },
    {
     "name": "stdout",
     "output_type": "stream",
     "text": [
      "[Task  5/16]  Current/Best:    5.41/   5.76 GFLOPS | Progress: (104/1500) | 35.66 s"
     ]
    },
    {
     "name": "stderr",
     "output_type": "stream",
     "text": [
      "[19:15:12] /home/khadas/tvm/src/runtime/threading_backend.cc:343: Warning: more than two frequencies detected! Forced big_count_ to 4\n",
      "[19:15:13] /home/khadas/tvm/src/runtime/threading_backend.cc:343: Warning: more than two frequencies detected! Forced big_count_ to 4\n",
      "[19:15:13] /home/khadas/tvm/src/runtime/threading_backend.cc:343: Warning: more than two frequencies detected! Forced big_count_ to 4\n"
     ]
    },
    {
     "name": "stdout",
     "output_type": "stream",
     "text": [
      "[Task  5/16]  Current/Best:    2.31/   5.76 GFLOPS | Progress: (112/1500) | 37.55 s"
     ]
    },
    {
     "name": "stderr",
     "output_type": "stream",
     "text": [
      "[19:15:13] /home/khadas/tvm/src/runtime/threading_backend.cc:343: Warning: more than two frequencies detected! Forced big_count_ to 4\n",
      "[19:15:15] /home/khadas/tvm/src/runtime/threading_backend.cc:343: Warning: more than two frequencies detected! Forced big_count_ to 4\n",
      "[19:15:15] /home/khadas/tvm/src/runtime/threading_backend.cc:343: Warning: more than two frequencies detected! Forced big_count_ to 4\n",
      "[19:15:15] /home/khadas/tvm/src/runtime/threading_backend.cc:343: Warning: more than two frequencies detected! Forced big_count_ to 4\n",
      "[19:15:15] /home/khadas/tvm/src/runtime/threading_backend.cc:343: Warning: more than two frequencies detected! Forced big_count_ to 4\n",
      "[19:15:15] /home/khadas/tvm/src/runtime/threading_backend.cc:343: Warning: more than two frequencies detected! Forced big_count_ to 4\n",
      "[19:15:16] /home/khadas/tvm/src/runtime/threading_backend.cc:343: Warning: more than two frequencies detected! Forced big_count_ to 4\n",
      "[19:15:16] /home/khadas/tvm/src/runtime/threading_backend.cc:343: Warning: more than two frequencies detected! Forced big_count_ to 4\n"
     ]
    },
    {
     "name": "stdout",
     "output_type": "stream",
     "text": [
      "[Task  5/16]  Current/Best:    2.21/   5.76 GFLOPS | Progress: (120/1500) | 40.09 s"
     ]
    },
    {
     "name": "stderr",
     "output_type": "stream",
     "text": [
      "[19:15:16] /home/khadas/tvm/src/runtime/threading_backend.cc:343: Warning: more than two frequencies detected! Forced big_count_ to 4\n",
      "[19:15:17] /home/khadas/tvm/src/runtime/threading_backend.cc:343: Warning: more than two frequencies detected! Forced big_count_ to 4\n",
      "[19:15:17] /home/khadas/tvm/src/runtime/threading_backend.cc:343: Warning: more than two frequencies detected! Forced big_count_ to 4\n",
      "[19:15:17] /home/khadas/tvm/src/runtime/threading_backend.cc:343: Warning: more than two frequencies detected! Forced big_count_ to 4\n",
      "[19:15:17] /home/khadas/tvm/src/runtime/threading_backend.cc:343: Warning: more than two frequencies detected! Forced big_count_ to 4\n",
      "[19:15:17] /home/khadas/tvm/src/runtime/threading_backend.cc:343: Warning: more than two frequencies detected! Forced big_count_ to 4\n",
      "[19:15:18] /home/khadas/tvm/src/runtime/threading_backend.cc:343: Warning: more than two frequencies detected! Forced big_count_ to 4\n",
      "[19:15:18] /home/khadas/tvm/src/runtime/threading_backend.cc:343: Warning: more than two frequencies detected! Forced big_count_ to 4\n",
      "[19:15:18] /home/khadas/tvm/src/runtime/threading_backend.cc:343: Warning: more than two frequencies detected! Forced big_count_ to 4\n"
     ]
    },
    {
     "name": "stdout",
     "output_type": "stream",
     "text": [
      "[Task  5/16]  Current/Best:    1.54/   5.76 GFLOPS | Progress: (128/1500) | 44.97 s"
     ]
    },
    {
     "name": "stderr",
     "output_type": "stream",
     "text": [
      "[19:15:22] /home/khadas/tvm/src/runtime/threading_backend.cc:343: Warning: more than two frequencies detected! Forced big_count_ to 4\n",
      "[19:15:22] /home/khadas/tvm/src/runtime/threading_backend.cc:343: Warning: more than two frequencies detected! Forced big_count_ to 4\n",
      "[19:15:23] /home/khadas/tvm/src/runtime/threading_backend.cc:343: Warning: more than two frequencies detected! Forced big_count_ to 4\n"
     ]
    },
    {
     "name": "stdout",
     "output_type": "stream",
     "text": [
      "[Task  5/16]  Current/Best:    1.94/   5.76 GFLOPS | Progress: (136/1500) | 46.72 s"
     ]
    },
    {
     "name": "stderr",
     "output_type": "stream",
     "text": [
      "[19:15:24] /home/khadas/tvm/src/runtime/threading_backend.cc:343: Warning: more than two frequencies detected! Forced big_count_ to 4\n",
      "[19:15:24] /home/khadas/tvm/src/runtime/threading_backend.cc:343: Warning: more than two frequencies detected! Forced big_count_ to 4\n",
      "[19:15:24] /home/khadas/tvm/src/runtime/threading_backend.cc:343: Warning: more than two frequencies detected! Forced big_count_ to 4\n",
      "[19:15:25] /home/khadas/tvm/src/runtime/threading_backend.cc:343: Warning: more than two frequencies detected! Forced big_count_ to 4\n",
      "[19:15:25] /home/khadas/tvm/src/runtime/threading_backend.cc:343: Warning: more than two frequencies detected! Forced big_count_ to 4\n",
      "[19:15:25] /home/khadas/tvm/src/runtime/threading_backend.cc:343: Warning: more than two frequencies detected! Forced big_count_ to 4\n",
      "[19:15:25] /home/khadas/tvm/src/runtime/threading_backend.cc:343: Warning: more than two frequencies detected! Forced big_count_ to 4\n"
     ]
    },
    {
     "name": "stdout",
     "output_type": "stream",
     "text": [
      "[Task  5/16]  Current/Best:    2.32/   5.76 GFLOPS | Progress: (144/1500) | 49.18 s"
     ]
    },
    {
     "name": "stderr",
     "output_type": "stream",
     "text": [
      "[19:15:26] /home/khadas/tvm/src/runtime/threading_backend.cc:343: Warning: more than two frequencies detected! Forced big_count_ to 4\n",
      "[19:15:26] /home/khadas/tvm/src/runtime/threading_backend.cc:343: Warning: more than two frequencies detected! Forced big_count_ to 4\n",
      "[19:15:27] /home/khadas/tvm/src/runtime/threading_backend.cc:343: Warning: more than two frequencies detected! Forced big_count_ to 4\n",
      "[19:15:27] /home/khadas/tvm/src/runtime/threading_backend.cc:343: Warning: more than two frequencies detected! Forced big_count_ to 4\n",
      "[19:15:27] /home/khadas/tvm/src/runtime/threading_backend.cc:343: Warning: more than two frequencies detected! Forced big_count_ to 4\n",
      "[19:15:27] /home/khadas/tvm/src/runtime/threading_backend.cc:343: Warning: more than two frequencies detected! Forced big_count_ to 4\n"
     ]
    },
    {
     "name": "stdout",
     "output_type": "stream",
     "text": [
      "[Task  5/16]  Current/Best:    1.72/   5.76 GFLOPS | Progress: (152/1500) | 51.55 s"
     ]
    },
    {
     "name": "stderr",
     "output_type": "stream",
     "text": [
      "[19:15:27] /home/khadas/tvm/src/runtime/threading_backend.cc:343: Warning: more than two frequencies detected! Forced big_count_ to 4\n",
      "[19:15:29] /home/khadas/tvm/src/runtime/threading_backend.cc:343: Warning: more than two frequencies detected! Forced big_count_ to 4\n",
      "[19:15:29] /home/khadas/tvm/src/runtime/threading_backend.cc:343: Warning: more than two frequencies detected! Forced big_count_ to 4\n",
      "[19:15:29] /home/khadas/tvm/src/runtime/threading_backend.cc:343: Warning: more than two frequencies detected! Forced big_count_ to 4\n",
      "[19:15:29] /home/khadas/tvm/src/runtime/threading_backend.cc:343: Warning: more than two frequencies detected! Forced big_count_ to 4\n",
      "[19:15:29] /home/khadas/tvm/src/runtime/threading_backend.cc:343: Warning: more than two frequencies detected! Forced big_count_ to 4\n",
      "[19:15:29] /home/khadas/tvm/src/runtime/threading_backend.cc:343: Warning: more than two frequencies detected! Forced big_count_ to 4\n",
      "[19:15:30] /home/khadas/tvm/src/runtime/threading_backend.cc:343: Warning: more than two frequencies detected! Forced big_count_ to 4\n"
     ]
    },
    {
     "name": "stdout",
     "output_type": "stream",
     "text": [
      "[Task  5/16]  Current/Best:    1.62/   5.76 GFLOPS | Progress: (160/1500) | 53.82 s"
     ]
    },
    {
     "name": "stderr",
     "output_type": "stream",
     "text": [
      "[19:15:30] /home/khadas/tvm/src/runtime/threading_backend.cc:343: Warning: more than two frequencies detected! Forced big_count_ to 4\n",
      "[19:15:31] /home/khadas/tvm/src/runtime/threading_backend.cc:343: Warning: more than two frequencies detected! Forced big_count_ to 4\n",
      "[19:15:31] /home/khadas/tvm/src/runtime/threading_backend.cc:343: Warning: more than two frequencies detected! Forced big_count_ to 4\n",
      "[19:15:31] /home/khadas/tvm/src/runtime/threading_backend.cc:343: Warning: more than two frequencies detected! Forced big_count_ to 4\n",
      "[19:15:31] /home/khadas/tvm/src/runtime/threading_backend.cc:343: Warning: more than two frequencies detected! Forced big_count_ to 4\n",
      "[19:15:32] /home/khadas/tvm/src/runtime/threading_backend.cc:343: Warning: more than two frequencies detected! Forced big_count_ to 4\n",
      "[19:15:32] /home/khadas/tvm/src/runtime/threading_backend.cc:343: Warning: more than two frequencies detected! Forced big_count_ to 4\n",
      "[19:15:32] /home/khadas/tvm/src/runtime/threading_backend.cc:343: Warning: more than two frequencies detected! Forced big_count_ to 4\n",
      "[19:15:32] /home/khadas/tvm/src/runtime/threading_backend.cc:343: Warning: more than two frequencies detected! Forced big_count_ to 4\n"
     ]
    },
    {
     "name": "stdout",
     "output_type": "stream",
     "text": [
      "[Task  5/16]  Current/Best:    1.57/   5.76 GFLOPS | Progress: (168/1500) | 56.11 s"
     ]
    },
    {
     "name": "stderr",
     "output_type": "stream",
     "text": [
      "[19:15:33] /home/khadas/tvm/src/runtime/threading_backend.cc:343: Warning: more than two frequencies detected! Forced big_count_ to 4\n",
      "[19:15:33] /home/khadas/tvm/src/runtime/threading_backend.cc:343: Warning: more than two frequencies detected! Forced big_count_ to 4\n",
      "[19:15:33] /home/khadas/tvm/src/runtime/threading_backend.cc:343: Warning: more than two frequencies detected! Forced big_count_ to 4\n",
      "[19:15:34] /home/khadas/tvm/src/runtime/threading_backend.cc:343: Warning: more than two frequencies detected! Forced big_count_ to 4\n",
      "[19:15:34] /home/khadas/tvm/src/runtime/threading_backend.cc:343: Warning: more than two frequencies detected! Forced big_count_ to 4\n",
      "[19:15:34] /home/khadas/tvm/src/runtime/threading_backend.cc:343: Warning: more than two frequencies detected! Forced big_count_ to 4\n",
      "[19:15:34] /home/khadas/tvm/src/runtime/threading_backend.cc:343: Warning: more than two frequencies detected! Forced big_count_ to 4\n"
     ]
    },
    {
     "name": "stdout",
     "output_type": "stream",
     "text": [
      "[Task  5/16]  Current/Best:    2.39/   5.76 GFLOPS | Progress: (176/1500) | 58.46 s"
     ]
    },
    {
     "name": "stderr",
     "output_type": "stream",
     "text": [
      "[19:15:34] /home/khadas/tvm/src/runtime/threading_backend.cc:343: Warning: more than two frequencies detected! Forced big_count_ to 4\n",
      "[19:15:35] /home/khadas/tvm/src/runtime/threading_backend.cc:343: Warning: more than two frequencies detected! Forced big_count_ to 4\n",
      "[19:15:35] /home/khadas/tvm/src/runtime/threading_backend.cc:343: Warning: more than two frequencies detected! Forced big_count_ to 4\n",
      "[19:15:36] /home/khadas/tvm/src/runtime/threading_backend.cc:343: Warning: more than two frequencies detected! Forced big_count_ to 4\n",
      "[19:15:36] /home/khadas/tvm/src/runtime/threading_backend.cc:343: Warning: more than two frequencies detected! Forced big_count_ to 4\n",
      "[19:15:36] /home/khadas/tvm/src/runtime/threading_backend.cc:343: Warning: more than two frequencies detected! Forced big_count_ to 4\n",
      "[19:15:36] /home/khadas/tvm/src/runtime/threading_backend.cc:343: Warning: more than two frequencies detected! Forced big_count_ to 4\n",
      "[19:15:36] /home/khadas/tvm/src/runtime/threading_backend.cc:343: Warning: more than two frequencies detected! Forced big_count_ to 4\n"
     ]
    },
    {
     "name": "stdout",
     "output_type": "stream",
     "text": [
      "[Task  5/16]  Current/Best:    2.15/   5.76 GFLOPS | Progress: (184/1500) | 60.63 s"
     ]
    },
    {
     "name": "stderr",
     "output_type": "stream",
     "text": [
      "[19:15:37] /home/khadas/tvm/src/runtime/threading_backend.cc:343: Warning: more than two frequencies detected! Forced big_count_ to 4\n"
     ]
    },
    {
     "name": "stdout",
     "output_type": "stream",
     "text": [
      " Done.\n",
      "[Task  6/16]  Current/Best:    0.00/   0.00 GFLOPS | Progress: (0/1500) | 0.00 s"
     ]
    },
    {
     "name": "stderr",
     "output_type": "stream",
     "text": [
      "[19:15:48] /home/khadas/tvm/src/runtime/threading_backend.cc:343: Warning: more than two frequencies detected! Forced big_count_ to 4\n",
      "[19:15:48] /home/khadas/tvm/src/runtime/threading_backend.cc:343: Warning: more than two frequencies detected! Forced big_count_ to 4\n",
      "[19:15:48] /home/khadas/tvm/src/runtime/threading_backend.cc:343: Warning: more than two frequencies detected! Forced big_count_ to 4\n",
      "[19:15:49] /home/khadas/tvm/src/runtime/threading_backend.cc:343: Warning: more than two frequencies detected! Forced big_count_ to 4\n",
      "[19:15:49] /home/khadas/tvm/src/runtime/threading_backend.cc:343: Warning: more than two frequencies detected! Forced big_count_ to 4\n",
      "[19:15:49] /home/khadas/tvm/src/runtime/threading_backend.cc:343: Warning: more than two frequencies detected! Forced big_count_ to 4\n",
      "[19:15:49] /home/khadas/tvm/src/runtime/threading_backend.cc:343: Warning: more than two frequencies detected! Forced big_count_ to 4\n"
     ]
    },
    {
     "name": "stdout",
     "output_type": "stream",
     "text": [
      "[Task  6/16]  Current/Best:    1.72/   2.28 GFLOPS | Progress: (8/1500) | 7.44 s"
     ]
    },
    {
     "name": "stderr",
     "output_type": "stream",
     "text": [
      "[19:16:00] /home/khadas/tvm/src/runtime/threading_backend.cc:343: Warning: more than two frequencies detected! Forced big_count_ to 4\n",
      "[19:16:00] /home/khadas/tvm/src/runtime/threading_backend.cc:343: Warning: more than two frequencies detected! Forced big_count_ to 4\n",
      "[19:16:00] /home/khadas/tvm/src/runtime/threading_backend.cc:343: Warning: more than two frequencies detected! Forced big_count_ to 4\n"
     ]
    },
    {
     "name": "stdout",
     "output_type": "stream",
     "text": [
      "[Task  6/16]  Current/Best:    1.37/   2.32 GFLOPS | Progress: (16/1500) | 18.74 s"
     ]
    },
    {
     "name": "stderr",
     "output_type": "stream",
     "text": [
      "[19:16:00] /home/khadas/tvm/src/runtime/threading_backend.cc:343: Warning: more than two frequencies detected! Forced big_count_ to 4\n",
      "[19:16:03] /home/khadas/tvm/src/runtime/threading_backend.cc:343: Warning: more than two frequencies detected! Forced big_count_ to 4\n",
      "[19:16:03] /home/khadas/tvm/src/runtime/threading_backend.cc:343: Warning: more than two frequencies detected! Forced big_count_ to 4\n",
      "[19:16:03] /home/khadas/tvm/src/runtime/threading_backend.cc:343: Warning: more than two frequencies detected! Forced big_count_ to 4\n",
      "[19:16:04] /home/khadas/tvm/src/runtime/threading_backend.cc:343: Warning: more than two frequencies detected! Forced big_count_ to 4\n",
      "[19:16:04] /home/khadas/tvm/src/runtime/threading_backend.cc:343: Warning: more than two frequencies detected! Forced big_count_ to 4\n",
      "[19:16:04] /home/khadas/tvm/src/runtime/threading_backend.cc:343: Warning: more than two frequencies detected! Forced big_count_ to 4\n"
     ]
    },
    {
     "name": "stdout",
     "output_type": "stream",
     "text": [
      "[Task  6/16]  Current/Best:    2.12/   2.32 GFLOPS | Progress: (24/1500) | 22.63 s"
     ]
    },
    {
     "name": "stderr",
     "output_type": "stream",
     "text": [
      "[19:16:04] /home/khadas/tvm/src/runtime/threading_backend.cc:343: Warning: more than two frequencies detected! Forced big_count_ to 4\n",
      "[19:16:05] /home/khadas/tvm/src/runtime/threading_backend.cc:343: Warning: more than two frequencies detected! Forced big_count_ to 4\n",
      "[19:16:05] /home/khadas/tvm/src/runtime/threading_backend.cc:343: Warning: more than two frequencies detected! Forced big_count_ to 4\n",
      "[19:16:05] /home/khadas/tvm/src/runtime/threading_backend.cc:343: Warning: more than two frequencies detected! Forced big_count_ to 4\n",
      "[19:16:05] /home/khadas/tvm/src/runtime/threading_backend.cc:343: Warning: more than two frequencies detected! Forced big_count_ to 4\n",
      "[19:16:06] /home/khadas/tvm/src/runtime/threading_backend.cc:343: Warning: more than two frequencies detected! Forced big_count_ to 4\n",
      "[19:16:06] /home/khadas/tvm/src/runtime/threading_backend.cc:343: Warning: more than two frequencies detected! Forced big_count_ to 4\n",
      "[19:16:06] /home/khadas/tvm/src/runtime/threading_backend.cc:343: Warning: more than two frequencies detected! Forced big_count_ to 4\n"
     ]
    },
    {
     "name": "stdout",
     "output_type": "stream",
     "text": [
      "[Task  6/16]  Current/Best:    1.68/   2.32 GFLOPS | Progress: (32/1500) | 24.48 s"
     ]
    },
    {
     "name": "stderr",
     "output_type": "stream",
     "text": [
      "[19:16:06] /home/khadas/tvm/src/runtime/threading_backend.cc:343: Warning: more than two frequencies detected! Forced big_count_ to 4\n",
      "[19:16:10] /home/khadas/tvm/src/runtime/threading_backend.cc:343: Warning: more than two frequencies detected! Forced big_count_ to 4\n",
      "[19:16:10] /home/khadas/tvm/src/runtime/threading_backend.cc:343: Warning: more than two frequencies detected! Forced big_count_ to 4\n",
      "[19:16:10] /home/khadas/tvm/src/runtime/threading_backend.cc:343: Warning: more than two frequencies detected! Forced big_count_ to 4\n",
      "[19:16:10] /home/khadas/tvm/src/runtime/threading_backend.cc:343: Warning: more than two frequencies detected! Forced big_count_ to 4\n",
      "[19:16:11] /home/khadas/tvm/src/runtime/threading_backend.cc:343: Warning: more than two frequencies detected! Forced big_count_ to 4\n",
      "[19:16:11] /home/khadas/tvm/src/runtime/threading_backend.cc:343: Warning: more than two frequencies detected! Forced big_count_ to 4\n"
     ]
    },
    {
     "name": "stdout",
     "output_type": "stream",
     "text": [
      "[Task  6/16]  Current/Best:    2.27/   2.38 GFLOPS | Progress: (40/1500) | 29.40 s"
     ]
    },
    {
     "name": "stderr",
     "output_type": "stream",
     "text": [
      "[19:16:11] /home/khadas/tvm/src/runtime/threading_backend.cc:343: Warning: more than two frequencies detected! Forced big_count_ to 4\n",
      "[19:16:12] /home/khadas/tvm/src/runtime/threading_backend.cc:343: Warning: more than two frequencies detected! Forced big_count_ to 4\n",
      "[19:16:12] /home/khadas/tvm/src/runtime/threading_backend.cc:343: Warning: more than two frequencies detected! Forced big_count_ to 4\n",
      "[19:16:12] /home/khadas/tvm/src/runtime/threading_backend.cc:343: Warning: more than two frequencies detected! Forced big_count_ to 4\n",
      "[19:16:13] /home/khadas/tvm/src/runtime/threading_backend.cc:343: Warning: more than two frequencies detected! Forced big_count_ to 4\n",
      "[19:16:13] /home/khadas/tvm/src/runtime/threading_backend.cc:343: Warning: more than two frequencies detected! Forced big_count_ to 4\n",
      "[19:16:13] /home/khadas/tvm/src/runtime/threading_backend.cc:343: Warning: more than two frequencies detected! Forced big_count_ to 4\n",
      "[19:16:13] /home/khadas/tvm/src/runtime/threading_backend.cc:343: Warning: more than two frequencies detected! Forced big_count_ to 4\n",
      "[19:16:13] /home/khadas/tvm/src/runtime/threading_backend.cc:343: Warning: more than two frequencies detected! Forced big_count_ to 4\n"
     ]
    },
    {
     "name": "stdout",
     "output_type": "stream",
     "text": [
      "[Task  6/16]  Current/Best:    1.11/   2.38 GFLOPS | Progress: (48/1500) | 31.66 s"
     ]
    },
    {
     "name": "stderr",
     "output_type": "stream",
     "text": [
      "[19:16:24] /home/khadas/tvm/src/runtime/threading_backend.cc:343: Warning: more than two frequencies detected! Forced big_count_ to 4\n",
      "[19:16:24] /home/khadas/tvm/src/runtime/threading_backend.cc:343: Warning: more than two frequencies detected! Forced big_count_ to 4\n",
      "[19:16:24] /home/khadas/tvm/src/runtime/threading_backend.cc:343: Warning: more than two frequencies detected! Forced big_count_ to 4\n",
      "[19:16:24] /home/khadas/tvm/src/runtime/threading_backend.cc:343: Warning: more than two frequencies detected! Forced big_count_ to 4\n",
      "[19:16:24] /home/khadas/tvm/src/runtime/threading_backend.cc:343: Warning: more than two frequencies detected! Forced big_count_ to 4\n",
      "[19:16:25] /home/khadas/tvm/src/runtime/threading_backend.cc:343: Warning: more than two frequencies detected! Forced big_count_ to 4\n"
     ]
    },
    {
     "name": "stdout",
     "output_type": "stream",
     "text": [
      "[Task  6/16]  Current/Best:    1.38/   2.38 GFLOPS | Progress: (56/1500) | 43.24 s"
     ]
    },
    {
     "name": "stderr",
     "output_type": "stream",
     "text": [
      "[19:16:25] /home/khadas/tvm/src/runtime/threading_backend.cc:343: Warning: more than two frequencies detected! Forced big_count_ to 4\n",
      "[19:16:26] /home/khadas/tvm/src/runtime/threading_backend.cc:343: Warning: more than two frequencies detected! Forced big_count_ to 4\n",
      "[19:16:26] /home/khadas/tvm/src/runtime/threading_backend.cc:343: Warning: more than two frequencies detected! Forced big_count_ to 4\n",
      "[19:16:27] /home/khadas/tvm/src/runtime/threading_backend.cc:343: Warning: more than two frequencies detected! Forced big_count_ to 4\n",
      "[19:16:27] /home/khadas/tvm/src/runtime/threading_backend.cc:343: Warning: more than two frequencies detected! Forced big_count_ to 4\n",
      "[19:16:27] /home/khadas/tvm/src/runtime/threading_backend.cc:343: Warning: more than two frequencies detected! Forced big_count_ to 4\n",
      "[19:16:27] /home/khadas/tvm/src/runtime/threading_backend.cc:343: Warning: more than two frequencies detected! Forced big_count_ to 4\n"
     ]
    },
    {
     "name": "stdout",
     "output_type": "stream",
     "text": [
      "[Task  6/16]  Current/Best:    2.36/   2.38 GFLOPS | Progress: (63/1500) | 45.64 s Done.\n",
      "[Task  7/16]  Current/Best:    0.00/   0.00 GFLOPS | Progress: (0/1500) | 0.00 s"
     ]
    },
    {
     "name": "stderr",
     "output_type": "stream",
     "text": [
      "[19:16:46] /home/khadas/tvm/src/runtime/threading_backend.cc:343: Warning: more than two frequencies detected! Forced big_count_ to 4\n",
      "[19:16:46] /home/khadas/tvm/src/runtime/threading_backend.cc:343: Warning: more than two frequencies detected! Forced big_count_ to 4\n",
      "[19:16:46] /home/khadas/tvm/src/runtime/threading_backend.cc:343: Warning: more than two frequencies detected! Forced big_count_ to 4\n",
      "[19:16:46] /home/khadas/tvm/src/runtime/threading_backend.cc:343: Warning: more than two frequencies detected! Forced big_count_ to 4\n",
      "[19:16:46] /home/khadas/tvm/src/runtime/threading_backend.cc:343: Warning: more than two frequencies detected! Forced big_count_ to 4\n",
      "[19:16:47] /home/khadas/tvm/src/runtime/threading_backend.cc:343: Warning: more than two frequencies detected! Forced big_count_ to 4\n"
     ]
    },
    {
     "name": "stdout",
     "output_type": "stream",
     "text": [
      "[Task  7/16]  Current/Best:    6.95/   6.95 GFLOPS | Progress: (8/1500) | 12.62 s"
     ]
    },
    {
     "name": "stderr",
     "output_type": "stream",
     "text": [
      "[19:16:47] /home/khadas/tvm/src/runtime/threading_backend.cc:343: Warning: more than two frequencies detected! Forced big_count_ to 4\n",
      "[19:16:49] /home/khadas/tvm/src/runtime/threading_backend.cc:343: Warning: more than two frequencies detected! Forced big_count_ to 4\n",
      "[19:16:49] /home/khadas/tvm/src/runtime/threading_backend.cc:343: Warning: more than two frequencies detected! Forced big_count_ to 4\n",
      "[19:16:49] /home/khadas/tvm/src/runtime/threading_backend.cc:343: Warning: more than two frequencies detected! Forced big_count_ to 4\n",
      "[19:16:49] /home/khadas/tvm/src/runtime/threading_backend.cc:343: Warning: more than two frequencies detected! Forced big_count_ to 4\n",
      "[19:16:49] /home/khadas/tvm/src/runtime/threading_backend.cc:343: Warning: more than two frequencies detected! Forced big_count_ to 4\n",
      "[19:16:50] /home/khadas/tvm/src/runtime/threading_backend.cc:343: Warning: more than two frequencies detected! Forced big_count_ to 4\n",
      "[19:16:50] /home/khadas/tvm/src/runtime/threading_backend.cc:343: Warning: more than two frequencies detected! Forced big_count_ to 4\n"
     ]
    },
    {
     "name": "stdout",
     "output_type": "stream",
     "text": [
      "[Task  7/16]  Current/Best:    6.89/   9.06 GFLOPS | Progress: (16/1500) | 15.59 s"
     ]
    },
    {
     "name": "stderr",
     "output_type": "stream",
     "text": [
      "[19:16:50] /home/khadas/tvm/src/runtime/threading_backend.cc:343: Warning: more than two frequencies detected! Forced big_count_ to 4\n",
      "[19:17:01] /home/khadas/tvm/src/runtime/threading_backend.cc:343: Warning: more than two frequencies detected! Forced big_count_ to 4\n",
      "[19:17:01] /home/khadas/tvm/src/runtime/threading_backend.cc:343: Warning: more than two frequencies detected! Forced big_count_ to 4\n",
      "[19:17:01] /home/khadas/tvm/src/runtime/threading_backend.cc:343: Warning: more than two frequencies detected! Forced big_count_ to 4\n",
      "[19:17:01] /home/khadas/tvm/src/runtime/threading_backend.cc:343: Warning: more than two frequencies detected! Forced big_count_ to 4\n",
      "[19:17:01] /home/khadas/tvm/src/runtime/threading_backend.cc:343: Warning: more than two frequencies detected! Forced big_count_ to 4\n"
     ]
    },
    {
     "name": "stdout",
     "output_type": "stream",
     "text": [
      "[Task  7/16]  Current/Best:    9.82/   9.82 GFLOPS | Progress: (24/1500) | 27.10 s"
     ]
    },
    {
     "name": "stderr",
     "output_type": "stream",
     "text": [
      "[19:17:02] /home/khadas/tvm/src/runtime/threading_backend.cc:343: Warning: more than two frequencies detected! Forced big_count_ to 4\n",
      "[19:17:12] /home/khadas/tvm/src/runtime/threading_backend.cc:343: Warning: more than two frequencies detected! Forced big_count_ to 4\n",
      "[19:17:12] /home/khadas/tvm/src/runtime/threading_backend.cc:343: Warning: more than two frequencies detected! Forced big_count_ to 4\n",
      "[19:17:12] /home/khadas/tvm/src/runtime/threading_backend.cc:343: Warning: more than two frequencies detected! Forced big_count_ to 4\n",
      "[19:17:12] /home/khadas/tvm/src/runtime/threading_backend.cc:343: Warning: more than two frequencies detected! Forced big_count_ to 4\n",
      "[19:17:13] /home/khadas/tvm/src/runtime/threading_backend.cc:343: Warning: more than two frequencies detected! Forced big_count_ to 4\n",
      "[19:17:13] /home/khadas/tvm/src/runtime/threading_backend.cc:343: Warning: more than two frequencies detected! Forced big_count_ to 4\n"
     ]
    },
    {
     "name": "stdout",
     "output_type": "stream",
     "text": [
      "[Task  7/16]  Current/Best:    7.61/   9.82 GFLOPS | Progress: (32/1500) | 38.62 s"
     ]
    },
    {
     "name": "stderr",
     "output_type": "stream",
     "text": [
      "[19:17:13] /home/khadas/tvm/src/runtime/threading_backend.cc:343: Warning: more than two frequencies detected! Forced big_count_ to 4\n",
      "[19:17:16] /home/khadas/tvm/src/runtime/threading_backend.cc:343: Warning: more than two frequencies detected! Forced big_count_ to 4\n",
      "[19:17:16] /home/khadas/tvm/src/runtime/threading_backend.cc:343: Warning: more than two frequencies detected! Forced big_count_ to 4\n",
      "[19:17:16] /home/khadas/tvm/src/runtime/threading_backend.cc:343: Warning: more than two frequencies detected! Forced big_count_ to 4\n",
      "[19:17:17] /home/khadas/tvm/src/runtime/threading_backend.cc:343: Warning: more than two frequencies detected! Forced big_count_ to 4\n",
      "[19:17:17] /home/khadas/tvm/src/runtime/threading_backend.cc:343: Warning: more than two frequencies detected! Forced big_count_ to 4\n",
      "[19:17:17] /home/khadas/tvm/src/runtime/threading_backend.cc:343: Warning: more than two frequencies detected! Forced big_count_ to 4\n"
     ]
    },
    {
     "name": "stdout",
     "output_type": "stream",
     "text": [
      "[Task  7/16]  Current/Best:    5.29/   9.85 GFLOPS | Progress: (40/1500) | 42.96 s"
     ]
    },
    {
     "name": "stderr",
     "output_type": "stream",
     "text": [
      "[19:17:28] /home/khadas/tvm/src/runtime/threading_backend.cc:343: Warning: more than two frequencies detected! Forced big_count_ to 4\n",
      "[19:17:28] /home/khadas/tvm/src/runtime/threading_backend.cc:343: Warning: more than two frequencies detected! Forced big_count_ to 4\n",
      "[19:17:28] /home/khadas/tvm/src/runtime/threading_backend.cc:343: Warning: more than two frequencies detected! Forced big_count_ to 4\n",
      "[19:17:29] /home/khadas/tvm/src/runtime/threading_backend.cc:343: Warning: more than two frequencies detected! Forced big_count_ to 4\n",
      "[19:17:29] /home/khadas/tvm/src/runtime/threading_backend.cc:343: Warning: more than two frequencies detected! Forced big_count_ to 4\n"
     ]
    },
    {
     "name": "stdout",
     "output_type": "stream",
     "text": [
      "[Task  7/16]  Current/Best:    7.90/   9.85 GFLOPS | Progress: (48/1500) | 54.52 s"
     ]
    },
    {
     "name": "stderr",
     "output_type": "stream",
     "text": [
      "[19:17:29] /home/khadas/tvm/src/runtime/threading_backend.cc:343: Warning: more than two frequencies detected! Forced big_count_ to 4\n",
      "[19:17:32] /home/khadas/tvm/src/runtime/threading_backend.cc:343: Warning: more than two frequencies detected! Forced big_count_ to 4\n",
      "[19:17:32] /home/khadas/tvm/src/runtime/threading_backend.cc:343: Warning: more than two frequencies detected! Forced big_count_ to 4\n",
      "[19:17:32] /home/khadas/tvm/src/runtime/threading_backend.cc:343: Warning: more than two frequencies detected! Forced big_count_ to 4\n",
      "[19:17:33] /home/khadas/tvm/src/runtime/threading_backend.cc:343: Warning: more than two frequencies detected! Forced big_count_ to 4\n"
     ]
    },
    {
     "name": "stdout",
     "output_type": "stream",
     "text": [
      "[Task  7/16]  Current/Best:    8.28/   9.85 GFLOPS | Progress: (56/1500) | 59.00 s"
     ]
    },
    {
     "name": "stderr",
     "output_type": "stream",
     "text": [
      "[19:17:33] /home/khadas/tvm/src/runtime/threading_backend.cc:343: Warning: more than two frequencies detected! Forced big_count_ to 4\n",
      "[19:17:35] /home/khadas/tvm/src/runtime/threading_backend.cc:343: Warning: more than two frequencies detected! Forced big_count_ to 4\n",
      "[19:17:35] /home/khadas/tvm/src/runtime/threading_backend.cc:343: Warning: more than two frequencies detected! Forced big_count_ to 4\n",
      "[19:17:36] /home/khadas/tvm/src/runtime/threading_backend.cc:343: Warning: more than two frequencies detected! Forced big_count_ to 4\n",
      "[19:17:36] /home/khadas/tvm/src/runtime/threading_backend.cc:343: Warning: more than two frequencies detected! Forced big_count_ to 4\n",
      "[19:17:36] /home/khadas/tvm/src/runtime/threading_backend.cc:343: Warning: more than two frequencies detected! Forced big_count_ to 4\n",
      "[19:17:36] /home/khadas/tvm/src/runtime/threading_backend.cc:343: Warning: more than two frequencies detected! Forced big_count_ to 4\n",
      "[19:17:36] /home/khadas/tvm/src/runtime/threading_backend.cc:343: Warning: more than two frequencies detected! Forced big_count_ to 4\n"
     ]
    },
    {
     "name": "stdout",
     "output_type": "stream",
     "text": [
      "[Task  7/16]  Current/Best:    6.36/   9.91 GFLOPS | Progress: (64/1500) | 72.15 s"
     ]
    },
    {
     "name": "stderr",
     "output_type": "stream",
     "text": [
      "[19:17:47] /home/khadas/tvm/src/runtime/threading_backend.cc:343: Warning: more than two frequencies detected! Forced big_count_ to 4\n",
      "[19:17:47] /home/khadas/tvm/src/runtime/threading_backend.cc:343: Warning: more than two frequencies detected! Forced big_count_ to 4\n",
      "[19:17:48] /home/khadas/tvm/src/runtime/threading_backend.cc:343: Warning: more than two frequencies detected! Forced big_count_ to 4\n",
      "[19:17:48] /home/khadas/tvm/src/runtime/threading_backend.cc:343: Warning: more than two frequencies detected! Forced big_count_ to 4\n",
      "[19:17:48] /home/khadas/tvm/src/runtime/threading_backend.cc:343: Warning: more than two frequencies detected! Forced big_count_ to 4\n",
      "[19:17:48] /home/khadas/tvm/src/runtime/threading_backend.cc:343: Warning: more than two frequencies detected! Forced big_count_ to 4\n",
      "[19:17:48] /home/khadas/tvm/src/runtime/threading_backend.cc:343: Warning: more than two frequencies detected! Forced big_count_ to 4\n"
     ]
    },
    {
     "name": "stdout",
     "output_type": "stream",
     "text": [
      "[Task  7/16]  Current/Best:    8.50/   9.91 GFLOPS | Progress: (72/1500) | 74.09 s"
     ]
    },
    {
     "name": "stderr",
     "output_type": "stream",
     "text": [
      "[19:17:49] /home/khadas/tvm/src/runtime/threading_backend.cc:343: Warning: more than two frequencies detected! Forced big_count_ to 4\n",
      "[19:17:49] /home/khadas/tvm/src/runtime/threading_backend.cc:343: Warning: more than two frequencies detected! Forced big_count_ to 4\n",
      "[19:17:50] /home/khadas/tvm/src/runtime/threading_backend.cc:343: Warning: more than two frequencies detected! Forced big_count_ to 4\n",
      "[19:17:50] /home/khadas/tvm/src/runtime/threading_backend.cc:343: Warning: more than two frequencies detected! Forced big_count_ to 4\n",
      "[19:17:50] /home/khadas/tvm/src/runtime/threading_backend.cc:343: Warning: more than two frequencies detected! Forced big_count_ to 4\n",
      "[19:17:50] /home/khadas/tvm/src/runtime/threading_backend.cc:343: Warning: more than two frequencies detected! Forced big_count_ to 4\n",
      "[19:17:50] /home/khadas/tvm/src/runtime/threading_backend.cc:343: Warning: more than two frequencies detected! Forced big_count_ to 4\n",
      "[19:17:51] /home/khadas/tvm/src/runtime/threading_backend.cc:343: Warning: more than two frequencies detected! Forced big_count_ to 4\n",
      "[19:17:51] /home/khadas/tvm/src/runtime/threading_backend.cc:343: Warning: more than two frequencies detected! Forced big_count_ to 4\n"
     ]
    },
    {
     "name": "stdout",
     "output_type": "stream",
     "text": [
      "[Task  7/16]  Current/Best:    8.12/   9.91 GFLOPS | Progress: (80/1500) | 76.32 s"
     ]
    },
    {
     "name": "stderr",
     "output_type": "stream",
     "text": [
      "[19:17:52] /home/khadas/tvm/src/runtime/threading_backend.cc:343: Warning: more than two frequencies detected! Forced big_count_ to 4\n",
      "[19:17:52] /home/khadas/tvm/src/runtime/threading_backend.cc:343: Warning: more than two frequencies detected! Forced big_count_ to 4\n",
      "[19:17:52] /home/khadas/tvm/src/runtime/threading_backend.cc:343: Warning: more than two frequencies detected! Forced big_count_ to 4\n",
      "[19:17:53] /home/khadas/tvm/src/runtime/threading_backend.cc:343: Warning: more than two frequencies detected! Forced big_count_ to 4\n",
      "[19:17:53] /home/khadas/tvm/src/runtime/threading_backend.cc:343: Warning: more than two frequencies detected! Forced big_count_ to 4\n",
      "[19:17:53] /home/khadas/tvm/src/runtime/threading_backend.cc:343: Warning: more than two frequencies detected! Forced big_count_ to 4\n",
      "[19:17:53] /home/khadas/tvm/src/runtime/threading_backend.cc:343: Warning: more than two frequencies detected! Forced big_count_ to 4\n"
     ]
    },
    {
     "name": "stdout",
     "output_type": "stream",
     "text": [
      "[Task  7/16]  Current/Best:    6.19/   9.91 GFLOPS | Progress: (88/1500) | 78.94 s"
     ]
    },
    {
     "name": "stderr",
     "output_type": "stream",
     "text": [
      "[19:17:53] /home/khadas/tvm/src/runtime/threading_backend.cc:343: Warning: more than two frequencies detected! Forced big_count_ to 4\n",
      "[19:17:54] /home/khadas/tvm/src/runtime/threading_backend.cc:343: Warning: more than two frequencies detected! Forced big_count_ to 4\n",
      "[19:17:55] /home/khadas/tvm/src/runtime/threading_backend.cc:343: Warning: more than two frequencies detected! Forced big_count_ to 4\n",
      "[19:17:55] /home/khadas/tvm/src/runtime/threading_backend.cc:343: Warning: more than two frequencies detected! Forced big_count_ to 4\n",
      "[19:17:55] /home/khadas/tvm/src/runtime/threading_backend.cc:343: Warning: more than two frequencies detected! Forced big_count_ to 4\n",
      "[19:17:55] /home/khadas/tvm/src/runtime/threading_backend.cc:343: Warning: more than two frequencies detected! Forced big_count_ to 4\n",
      "[19:17:55] /home/khadas/tvm/src/runtime/threading_backend.cc:343: Warning: more than two frequencies detected! Forced big_count_ to 4\n",
      "[19:17:56] /home/khadas/tvm/src/runtime/threading_backend.cc:343: Warning: more than two frequencies detected! Forced big_count_ to 4\n"
     ]
    },
    {
     "name": "stdout",
     "output_type": "stream",
     "text": [
      "[Task  7/16]  Current/Best:    7.76/   9.91 GFLOPS | Progress: (96/1500) | 81.45 s"
     ]
    },
    {
     "name": "stderr",
     "output_type": "stream",
     "text": [
      "[19:17:56] /home/khadas/tvm/src/runtime/threading_backend.cc:343: Warning: more than two frequencies detected! Forced big_count_ to 4\n",
      "[19:17:57] /home/khadas/tvm/src/runtime/threading_backend.cc:343: Warning: more than two frequencies detected! Forced big_count_ to 4\n",
      "[19:17:57] /home/khadas/tvm/src/runtime/threading_backend.cc:343: Warning: more than two frequencies detected! Forced big_count_ to 4\n",
      "[19:17:57] /home/khadas/tvm/src/runtime/threading_backend.cc:343: Warning: more than two frequencies detected! Forced big_count_ to 4\n",
      "[19:17:58] /home/khadas/tvm/src/runtime/threading_backend.cc:343: Warning: more than two frequencies detected! Forced big_count_ to 4\n",
      "[19:17:58] /home/khadas/tvm/src/runtime/threading_backend.cc:343: Warning: more than two frequencies detected! Forced big_count_ to 4\n",
      "[19:17:58] /home/khadas/tvm/src/runtime/threading_backend.cc:343: Warning: more than two frequencies detected! Forced big_count_ to 4\n",
      "[19:17:58] /home/khadas/tvm/src/runtime/threading_backend.cc:343: Warning: more than two frequencies detected! Forced big_count_ to 4\n",
      "[19:17:58] /home/khadas/tvm/src/runtime/threading_backend.cc:343: Warning: more than two frequencies detected! Forced big_count_ to 4\n"
     ]
    },
    {
     "name": "stdout",
     "output_type": "stream",
     "text": [
      "[Task  7/16]  Current/Best:    7.64/   9.91 GFLOPS | Progress: (104/1500) | 83.90 s"
     ]
    },
    {
     "name": "stderr",
     "output_type": "stream",
     "text": [
      "[19:17:59] /home/khadas/tvm/src/runtime/threading_backend.cc:343: Warning: more than two frequencies detected! Forced big_count_ to 4\n",
      "[19:18:00] /home/khadas/tvm/src/runtime/threading_backend.cc:343: Warning: more than two frequencies detected! Forced big_count_ to 4\n",
      "[19:18:00] /home/khadas/tvm/src/runtime/threading_backend.cc:343: Warning: more than two frequencies detected! Forced big_count_ to 4\n",
      "[19:18:00] /home/khadas/tvm/src/runtime/threading_backend.cc:343: Warning: more than two frequencies detected! Forced big_count_ to 4\n",
      "[19:18:00] /home/khadas/tvm/src/runtime/threading_backend.cc:343: Warning: more than two frequencies detected! Forced big_count_ to 4\n",
      "[19:18:00] /home/khadas/tvm/src/runtime/threading_backend.cc:343: Warning: more than two frequencies detected! Forced big_count_ to 4\n",
      "[19:18:01] /home/khadas/tvm/src/runtime/threading_backend.cc:343: Warning: more than two frequencies detected! Forced big_count_ to 4\n"
     ]
    },
    {
     "name": "stdout",
     "output_type": "stream",
     "text": [
      "[Task  7/16]  Current/Best:    5.82/   9.91 GFLOPS | Progress: (112/1500) | 86.40 s"
     ]
    },
    {
     "name": "stderr",
     "output_type": "stream",
     "text": [
      "[19:18:01] /home/khadas/tvm/src/runtime/threading_backend.cc:343: Warning: more than two frequencies detected! Forced big_count_ to 4\n",
      "[19:18:02] /home/khadas/tvm/src/runtime/threading_backend.cc:343: Warning: more than two frequencies detected! Forced big_count_ to 4\n",
      "[19:18:02] /home/khadas/tvm/src/runtime/threading_backend.cc:343: Warning: more than two frequencies detected! Forced big_count_ to 4\n",
      "[19:18:02] /home/khadas/tvm/src/runtime/threading_backend.cc:343: Warning: more than two frequencies detected! Forced big_count_ to 4\n",
      "[19:18:02] /home/khadas/tvm/src/runtime/threading_backend.cc:343: Warning: more than two frequencies detected! Forced big_count_ to 4\n",
      "[19:18:03] /home/khadas/tvm/src/runtime/threading_backend.cc:343: Warning: more than two frequencies detected! Forced big_count_ to 4\n",
      "[19:18:03] /home/khadas/tvm/src/runtime/threading_backend.cc:343: Warning: more than two frequencies detected! Forced big_count_ to 4\n",
      "[19:18:03] /home/khadas/tvm/src/runtime/threading_backend.cc:343: Warning: more than two frequencies detected! Forced big_count_ to 4\n",
      "[19:18:03] /home/khadas/tvm/src/runtime/threading_backend.cc:343: Warning: more than two frequencies detected! Forced big_count_ to 4\n"
     ]
    },
    {
     "name": "stdout",
     "output_type": "stream",
     "text": [
      "[Task  7/16]  Current/Best:    7.68/   9.91 GFLOPS | Progress: (120/1500) | 88.84 s"
     ]
    },
    {
     "name": "stderr",
     "output_type": "stream",
     "text": [
      "[19:18:04] /home/khadas/tvm/src/runtime/threading_backend.cc:343: Warning: more than two frequencies detected! Forced big_count_ to 4\n",
      "[19:18:05] /home/khadas/tvm/src/runtime/threading_backend.cc:343: Warning: more than two frequencies detected! Forced big_count_ to 4\n",
      "[19:18:05] /home/khadas/tvm/src/runtime/threading_backend.cc:343: Warning: more than two frequencies detected! Forced big_count_ to 4\n",
      "[19:18:05] /home/khadas/tvm/src/runtime/threading_backend.cc:343: Warning: more than two frequencies detected! Forced big_count_ to 4\n",
      "[19:18:05] /home/khadas/tvm/src/runtime/threading_backend.cc:343: Warning: more than two frequencies detected! Forced big_count_ to 4\n",
      "[19:18:05] /home/khadas/tvm/src/runtime/threading_backend.cc:343: Warning: more than two frequencies detected! Forced big_count_ to 4\n",
      "[19:18:06] /home/khadas/tvm/src/runtime/threading_backend.cc:343: Warning: more than two frequencies detected! Forced big_count_ to 4\n"
     ]
    },
    {
     "name": "stdout",
     "output_type": "stream",
     "text": [
      "[Task  7/16]  Current/Best:    8.69/   9.91 GFLOPS | Progress: (128/1500) | 101.14 s"
     ]
    },
    {
     "name": "stderr",
     "output_type": "stream",
     "text": [
      "[19:18:16] /home/khadas/tvm/src/runtime/threading_backend.cc:343: Warning: more than two frequencies detected! Forced big_count_ to 4\n",
      "[19:18:16] /home/khadas/tvm/src/runtime/threading_backend.cc:343: Warning: more than two frequencies detected! Forced big_count_ to 4\n",
      "[19:18:16] /home/khadas/tvm/src/runtime/threading_backend.cc:343: Warning: more than two frequencies detected! Forced big_count_ to 4\n",
      "[19:18:17] /home/khadas/tvm/src/runtime/threading_backend.cc:343: Warning: more than two frequencies detected! Forced big_count_ to 4\n",
      "[19:18:17] /home/khadas/tvm/src/runtime/threading_backend.cc:343: Warning: more than two frequencies detected! Forced big_count_ to 4\n",
      "[19:18:17] /home/khadas/tvm/src/runtime/threading_backend.cc:343: Warning: more than two frequencies detected! Forced big_count_ to 4\n",
      "[19:18:17] /home/khadas/tvm/src/runtime/threading_backend.cc:343: Warning: more than two frequencies detected! Forced big_count_ to 4\n"
     ]
    },
    {
     "name": "stdout",
     "output_type": "stream",
     "text": [
      "[Task  7/16]  Current/Best:    7.45/   9.91 GFLOPS | Progress: (136/1500) | 103.04 s"
     ]
    },
    {
     "name": "stderr",
     "output_type": "stream",
     "text": [
      "[19:18:17] /home/khadas/tvm/src/runtime/threading_backend.cc:343: Warning: more than two frequencies detected! Forced big_count_ to 4\n",
      "[19:18:18] /home/khadas/tvm/src/runtime/threading_backend.cc:343: Warning: more than two frequencies detected! Forced big_count_ to 4\n",
      "[19:18:19] /home/khadas/tvm/src/runtime/threading_backend.cc:343: Warning: more than two frequencies detected! Forced big_count_ to 4\n",
      "[19:18:19] /home/khadas/tvm/src/runtime/threading_backend.cc:343: Warning: more than two frequencies detected! Forced big_count_ to 4\n",
      "[19:18:19] /home/khadas/tvm/src/runtime/threading_backend.cc:343: Warning: more than two frequencies detected! Forced big_count_ to 4\n",
      "[19:18:19] /home/khadas/tvm/src/runtime/threading_backend.cc:343: Warning: more than two frequencies detected! Forced big_count_ to 4\n",
      "[19:18:19] /home/khadas/tvm/src/runtime/threading_backend.cc:343: Warning: more than two frequencies detected! Forced big_count_ to 4\n",
      "[19:18:20] /home/khadas/tvm/src/runtime/threading_backend.cc:343: Warning: more than two frequencies detected! Forced big_count_ to 4\n",
      "[19:18:20] /home/khadas/tvm/src/runtime/threading_backend.cc:343: Warning: more than two frequencies detected! Forced big_count_ to 4\n"
     ]
    },
    {
     "name": "stdout",
     "output_type": "stream",
     "text": [
      "[Task  7/16]  Current/Best:    6.33/   9.91 GFLOPS | Progress: (144/1500) | 105.36 s"
     ]
    },
    {
     "name": "stderr",
     "output_type": "stream",
     "text": [
      "[19:18:20] /home/khadas/tvm/src/runtime/threading_backend.cc:343: Warning: more than two frequencies detected! Forced big_count_ to 4\n",
      "[19:18:21] /home/khadas/tvm/src/runtime/threading_backend.cc:343: Warning: more than two frequencies detected! Forced big_count_ to 4\n",
      "[19:18:21] /home/khadas/tvm/src/runtime/threading_backend.cc:343: Warning: more than two frequencies detected! Forced big_count_ to 4\n",
      "[19:18:21] /home/khadas/tvm/src/runtime/threading_backend.cc:343: Warning: more than two frequencies detected! Forced big_count_ to 4\n",
      "[19:18:21] /home/khadas/tvm/src/runtime/threading_backend.cc:343: Warning: more than two frequencies detected! Forced big_count_ to 4\n",
      "[19:18:21] /home/khadas/tvm/src/runtime/threading_backend.cc:343: Warning: more than two frequencies detected! Forced big_count_ to 4\n",
      "[19:18:22] /home/khadas/tvm/src/runtime/threading_backend.cc:343: Warning: more than two frequencies detected! Forced big_count_ to 4\n"
     ]
    },
    {
     "name": "stdout",
     "output_type": "stream",
     "text": [
      "[Task  7/16]  Current/Best:    5.04/   9.91 GFLOPS | Progress: (152/1500) | 107.32 s"
     ]
    },
    {
     "name": "stderr",
     "output_type": "stream",
     "text": [
      "[19:18:22] /home/khadas/tvm/src/runtime/threading_backend.cc:343: Warning: more than two frequencies detected! Forced big_count_ to 4\n",
      "[19:18:22] /home/khadas/tvm/src/runtime/threading_backend.cc:343: Warning: more than two frequencies detected! Forced big_count_ to 4\n",
      "[19:18:23] /home/khadas/tvm/src/runtime/threading_backend.cc:343: Warning: more than two frequencies detected! Forced big_count_ to 4\n",
      "[19:18:23] /home/khadas/tvm/src/runtime/threading_backend.cc:343: Warning: more than two frequencies detected! Forced big_count_ to 4\n",
      "[19:18:23] /home/khadas/tvm/src/runtime/threading_backend.cc:343: Warning: more than two frequencies detected! Forced big_count_ to 4\n",
      "[19:18:23] /home/khadas/tvm/src/runtime/threading_backend.cc:343: Warning: more than two frequencies detected! Forced big_count_ to 4\n",
      "[19:18:23] /home/khadas/tvm/src/runtime/threading_backend.cc:343: Warning: more than two frequencies detected! Forced big_count_ to 4\n",
      "[19:18:24] /home/khadas/tvm/src/runtime/threading_backend.cc:343: Warning: more than two frequencies detected! Forced big_count_ to 4\n",
      "[19:18:24] /home/khadas/tvm/src/runtime/threading_backend.cc:343: Warning: more than two frequencies detected! Forced big_count_ to 4\n"
     ]
    },
    {
     "name": "stdout",
     "output_type": "stream",
     "text": [
      "[Task  7/16]  Current/Best:    7.36/   9.91 GFLOPS | Progress: (160/1500) | 109.44 s Done.\n",
      "[Task  8/16]  Current/Best:    0.00/   0.00 GFLOPS | Progress: (0/1500) | 0.00 s"
     ]
    },
    {
     "name": "stderr",
     "output_type": "stream",
     "text": [
      "[19:18:41] /home/khadas/tvm/src/runtime/threading_backend.cc:343: Warning: more than two frequencies detected! Forced big_count_ to 4\n",
      "[19:18:41] /home/khadas/tvm/src/runtime/threading_backend.cc:343: Warning: more than two frequencies detected! Forced big_count_ to 4\n",
      "[19:18:41] /home/khadas/tvm/src/runtime/threading_backend.cc:343: Warning: more than two frequencies detected! Forced big_count_ to 4\n",
      "[19:18:42] /home/khadas/tvm/src/runtime/threading_backend.cc:343: Warning: more than two frequencies detected! Forced big_count_ to 4\n",
      "[19:18:42] /home/khadas/tvm/src/runtime/threading_backend.cc:343: Warning: more than two frequencies detected! Forced big_count_ to 4\n",
      "[19:18:42] /home/khadas/tvm/src/runtime/threading_backend.cc:343: Warning: more than two frequencies detected! Forced big_count_ to 4\n"
     ]
    },
    {
     "name": "stdout",
     "output_type": "stream",
     "text": [
      "[Task  8/16]  Current/Best:    1.96/   7.68 GFLOPS | Progress: (8/1500) | 12.84 s"
     ]
    },
    {
     "name": "stderr",
     "output_type": "stream",
     "text": [
      "[19:18:42] /home/khadas/tvm/src/runtime/threading_backend.cc:343: Warning: more than two frequencies detected! Forced big_count_ to 4\n",
      "[19:18:49] /home/khadas/tvm/src/runtime/threading_backend.cc:343: Warning: more than two frequencies detected! Forced big_count_ to 4\n",
      "[19:18:50] /home/khadas/tvm/src/runtime/threading_backend.cc:343: Warning: more than two frequencies detected! Forced big_count_ to 4\n",
      "[19:18:50] /home/khadas/tvm/src/runtime/threading_backend.cc:343: Warning: more than two frequencies detected! Forced big_count_ to 4\n",
      "[19:18:50] /home/khadas/tvm/src/runtime/threading_backend.cc:343: Warning: more than two frequencies detected! Forced big_count_ to 4\n",
      "[19:18:51] /home/khadas/tvm/src/runtime/threading_backend.cc:343: Warning: more than two frequencies detected! Forced big_count_ to 4\n",
      "[19:18:51] /home/khadas/tvm/src/runtime/threading_backend.cc:343: Warning: more than two frequencies detected! Forced big_count_ to 4\n"
     ]
    },
    {
     "name": "stdout",
     "output_type": "stream",
     "text": [
      "[Task  8/16]  Current/Best:    1.91/   8.40 GFLOPS | Progress: (16/1500) | 21.47 s"
     ]
    },
    {
     "name": "stderr",
     "output_type": "stream",
     "text": [
      "[19:18:51] /home/khadas/tvm/src/runtime/threading_backend.cc:343: Warning: more than two frequencies detected! Forced big_count_ to 4\n",
      "[19:19:01] /home/khadas/tvm/src/runtime/threading_backend.cc:343: Warning: more than two frequencies detected! Forced big_count_ to 4\n",
      "[19:19:02] /home/khadas/tvm/src/runtime/threading_backend.cc:343: Warning: more than two frequencies detected! Forced big_count_ to 4\n",
      "[19:19:02] /home/khadas/tvm/src/runtime/threading_backend.cc:343: Warning: more than two frequencies detected! Forced big_count_ to 4\n",
      "[19:19:02] /home/khadas/tvm/src/runtime/threading_backend.cc:343: Warning: more than two frequencies detected! Forced big_count_ to 4\n",
      "[19:19:02] /home/khadas/tvm/src/runtime/threading_backend.cc:343: Warning: more than two frequencies detected! Forced big_count_ to 4\n"
     ]
    },
    {
     "name": "stdout",
     "output_type": "stream",
     "text": [
      "[Task  8/16]  Current/Best:    0.32/   8.65 GFLOPS | Progress: (24/1500) | 32.87 s"
     ]
    },
    {
     "name": "stderr",
     "output_type": "stream",
     "text": [
      "[19:19:13] /home/khadas/tvm/src/runtime/threading_backend.cc:343: Warning: more than two frequencies detected! Forced big_count_ to 4\n",
      "[19:19:13] /home/khadas/tvm/src/runtime/threading_backend.cc:343: Warning: more than two frequencies detected! Forced big_count_ to 4\n",
      "[19:19:13] /home/khadas/tvm/src/runtime/threading_backend.cc:343: Warning: more than two frequencies detected! Forced big_count_ to 4\n",
      "[19:19:13] /home/khadas/tvm/src/runtime/threading_backend.cc:343: Warning: more than two frequencies detected! Forced big_count_ to 4\n",
      "[19:19:14] /home/khadas/tvm/src/runtime/threading_backend.cc:343: Warning: more than two frequencies detected! Forced big_count_ to 4\n",
      "[19:19:14] /home/khadas/tvm/src/runtime/threading_backend.cc:343: Warning: more than two frequencies detected! Forced big_count_ to 4\n"
     ]
    },
    {
     "name": "stdout",
     "output_type": "stream",
     "text": [
      "[Task  8/16]  Current/Best:    7.85/   8.65 GFLOPS | Progress: (32/1500) | 44.44 s"
     ]
    },
    {
     "name": "stderr",
     "output_type": "stream",
     "text": [
      "[19:19:27] /home/khadas/tvm/src/runtime/threading_backend.cc:343: Warning: more than two frequencies detected! Forced big_count_ to 4\n",
      "[19:19:27] /home/khadas/tvm/src/runtime/threading_backend.cc:343: Warning: more than two frequencies detected! Forced big_count_ to 4\n",
      "[19:19:27] /home/khadas/tvm/src/runtime/threading_backend.cc:343: Warning: more than two frequencies detected! Forced big_count_ to 4\n",
      "[19:19:27] /home/khadas/tvm/src/runtime/threading_backend.cc:343: Warning: more than two frequencies detected! Forced big_count_ to 4\n",
      "[19:19:28] /home/khadas/tvm/src/runtime/threading_backend.cc:343: Warning: more than two frequencies detected! Forced big_count_ to 4\n"
     ]
    },
    {
     "name": "stdout",
     "output_type": "stream",
     "text": [
      "[Task  8/16]  Current/Best:    6.62/   8.65 GFLOPS | Progress: (40/1500) | 58.14 s"
     ]
    },
    {
     "name": "stderr",
     "output_type": "stream",
     "text": [
      "[19:19:38] /home/khadas/tvm/src/runtime/threading_backend.cc:343: Warning: more than two frequencies detected! Forced big_count_ to 4\n",
      "[19:19:38] /home/khadas/tvm/src/runtime/threading_backend.cc:343: Warning: more than two frequencies detected! Forced big_count_ to 4\n",
      "[19:19:38] /home/khadas/tvm/src/runtime/threading_backend.cc:343: Warning: more than two frequencies detected! Forced big_count_ to 4\n",
      "[19:19:39] /home/khadas/tvm/src/runtime/threading_backend.cc:343: Warning: more than two frequencies detected! Forced big_count_ to 4\n",
      "[19:19:39] /home/khadas/tvm/src/runtime/threading_backend.cc:343: Warning: more than two frequencies detected! Forced big_count_ to 4\n",
      "[19:19:39] /home/khadas/tvm/src/runtime/threading_backend.cc:343: Warning: more than two frequencies detected! Forced big_count_ to 4\n"
     ]
    },
    {
     "name": "stdout",
     "output_type": "stream",
     "text": [
      "[Task  8/16]  Current/Best:    5.46/   9.16 GFLOPS | Progress: (48/1500) | 69.67 s"
     ]
    },
    {
     "name": "stderr",
     "output_type": "stream",
     "text": [
      "[19:19:39] /home/khadas/tvm/src/runtime/threading_backend.cc:343: Warning: more than two frequencies detected! Forced big_count_ to 4\n",
      "[19:19:50] /home/khadas/tvm/src/runtime/threading_backend.cc:343: Warning: more than two frequencies detected! Forced big_count_ to 4\n",
      "[19:19:50] /home/khadas/tvm/src/runtime/threading_backend.cc:343: Warning: more than two frequencies detected! Forced big_count_ to 4\n",
      "[19:19:50] /home/khadas/tvm/src/runtime/threading_backend.cc:343: Warning: more than two frequencies detected! Forced big_count_ to 4\n",
      "[19:19:50] /home/khadas/tvm/src/runtime/threading_backend.cc:343: Warning: more than two frequencies detected! Forced big_count_ to 4\n"
     ]
    },
    {
     "name": "stdout",
     "output_type": "stream",
     "text": [
      "[Task  8/16]  Current/Best:    3.86/   9.16 GFLOPS | Progress: (56/1500) | 81.00 s"
     ]
    },
    {
     "name": "stderr",
     "output_type": "stream",
     "text": [
      "[19:19:50] /home/khadas/tvm/src/runtime/threading_backend.cc:343: Warning: more than two frequencies detected! Forced big_count_ to 4\n",
      "[19:20:04] /home/khadas/tvm/src/runtime/threading_backend.cc:343: Warning: more than two frequencies detected! Forced big_count_ to 4\n",
      "[19:20:04] /home/khadas/tvm/src/runtime/threading_backend.cc:343: Warning: more than two frequencies detected! Forced big_count_ to 4\n",
      "[19:20:04] /home/khadas/tvm/src/runtime/threading_backend.cc:343: Warning: more than two frequencies detected! Forced big_count_ to 4\n",
      "[19:20:05] /home/khadas/tvm/src/runtime/threading_backend.cc:343: Warning: more than two frequencies detected! Forced big_count_ to 4\n"
     ]
    },
    {
     "name": "stdout",
     "output_type": "stream",
     "text": [
      "[Task  8/16]  Current/Best:    2.19/   9.16 GFLOPS | Progress: (64/1500) | 101.20 s"
     ]
    },
    {
     "name": "stderr",
     "output_type": "stream",
     "text": [
      "[19:20:13] /home/khadas/tvm/src/runtime/threading_backend.cc:343: Warning: more than two frequencies detected! Forced big_count_ to 4\n",
      "[19:20:14] /home/khadas/tvm/src/runtime/threading_backend.cc:343: Warning: more than two frequencies detected! Forced big_count_ to 4\n",
      "[19:20:14] /home/khadas/tvm/src/runtime/threading_backend.cc:343: Warning: more than two frequencies detected! Forced big_count_ to 4\n",
      "[19:20:14] /home/khadas/tvm/src/runtime/threading_backend.cc:343: Warning: more than two frequencies detected! Forced big_count_ to 4\n",
      "[19:20:14] /home/khadas/tvm/src/runtime/threading_backend.cc:343: Warning: more than two frequencies detected! Forced big_count_ to 4\n",
      "[19:20:14] /home/khadas/tvm/src/runtime/threading_backend.cc:343: Warning: more than two frequencies detected! Forced big_count_ to 4\n",
      "[19:20:15] /home/khadas/tvm/src/runtime/threading_backend.cc:343: Warning: more than two frequencies detected! Forced big_count_ to 4\n",
      "[19:20:15] /home/khadas/tvm/src/runtime/threading_backend.cc:343: Warning: more than two frequencies detected! Forced big_count_ to 4\n"
     ]
    },
    {
     "name": "stdout",
     "output_type": "stream",
     "text": [
      "[Task  8/16]  Current/Best:    7.33/   9.16 GFLOPS | Progress: (72/1500) | 105.29 s"
     ]
    },
    {
     "name": "stderr",
     "output_type": "stream",
     "text": [
      "[19:20:15] /home/khadas/tvm/src/runtime/threading_backend.cc:343: Warning: more than two frequencies detected! Forced big_count_ to 4\n",
      "[19:20:16] /home/khadas/tvm/src/runtime/threading_backend.cc:343: Warning: more than two frequencies detected! Forced big_count_ to 4\n",
      "[19:20:16] /home/khadas/tvm/src/runtime/threading_backend.cc:343: Warning: more than two frequencies detected! Forced big_count_ to 4\n",
      "[19:20:16] /home/khadas/tvm/src/runtime/threading_backend.cc:343: Warning: more than two frequencies detected! Forced big_count_ to 4\n",
      "[19:20:16] /home/khadas/tvm/src/runtime/threading_backend.cc:343: Warning: more than two frequencies detected! Forced big_count_ to 4\n",
      "[19:20:16] /home/khadas/tvm/src/runtime/threading_backend.cc:343: Warning: more than two frequencies detected! Forced big_count_ to 4\n",
      "[19:20:17] /home/khadas/tvm/src/runtime/threading_backend.cc:343: Warning: more than two frequencies detected! Forced big_count_ to 4\n",
      "[19:20:17] /home/khadas/tvm/src/runtime/threading_backend.cc:343: Warning: more than two frequencies detected! Forced big_count_ to 4\n"
     ]
    },
    {
     "name": "stdout",
     "output_type": "stream",
     "text": [
      "[Task  8/16]  Current/Best:    2.88/   9.31 GFLOPS | Progress: (80/1500) | 107.30 s"
     ]
    },
    {
     "name": "stderr",
     "output_type": "stream",
     "text": [
      "[19:20:19] /home/khadas/tvm/src/runtime/threading_backend.cc:343: Warning: more than two frequencies detected! Forced big_count_ to 4\n",
      "[19:20:19] /home/khadas/tvm/src/runtime/threading_backend.cc:343: Warning: more than two frequencies detected! Forced big_count_ to 4\n",
      "[19:20:19] /home/khadas/tvm/src/runtime/threading_backend.cc:343: Warning: more than two frequencies detected! Forced big_count_ to 4\n",
      "[19:20:20] /home/khadas/tvm/src/runtime/threading_backend.cc:343: Warning: more than two frequencies detected! Forced big_count_ to 4\n",
      "[19:20:20] /home/khadas/tvm/src/runtime/threading_backend.cc:343: Warning: more than two frequencies detected! Forced big_count_ to 4\n",
      "[19:20:20] /home/khadas/tvm/src/runtime/threading_backend.cc:343: Warning: more than two frequencies detected! Forced big_count_ to 4\n",
      "[19:20:20] /home/khadas/tvm/src/runtime/threading_backend.cc:343: Warning: more than two frequencies detected! Forced big_count_ to 4\n"
     ]
    },
    {
     "name": "stdout",
     "output_type": "stream",
     "text": [
      "[Task  8/16]  Current/Best:    2.04/   9.31 GFLOPS | Progress: (88/1500) | 111.03 s"
     ]
    },
    {
     "name": "stderr",
     "output_type": "stream",
     "text": [
      "[19:20:20] /home/khadas/tvm/src/runtime/threading_backend.cc:343: Warning: more than two frequencies detected! Forced big_count_ to 4\n",
      "[19:20:31] /home/khadas/tvm/src/runtime/threading_backend.cc:343: Warning: more than two frequencies detected! Forced big_count_ to 4\n",
      "[19:20:31] /home/khadas/tvm/src/runtime/threading_backend.cc:343: Warning: more than two frequencies detected! Forced big_count_ to 4\n"
     ]
    },
    {
     "name": "stdout",
     "output_type": "stream",
     "text": [
      "[Task  8/16]  Current/Best:    1.91/   9.31 GFLOPS | Progress: (96/1500) | 121.83 s"
     ]
    },
    {
     "name": "stderr",
     "output_type": "stream",
     "text": [
      "[19:20:31] /home/khadas/tvm/src/runtime/threading_backend.cc:343: Warning: more than two frequencies detected! Forced big_count_ to 4\n",
      "[19:20:42] /home/khadas/tvm/src/runtime/threading_backend.cc:343: Warning: more than two frequencies detected! Forced big_count_ to 4\n",
      "[19:20:42] /home/khadas/tvm/src/runtime/threading_backend.cc:343: Warning: more than two frequencies detected! Forced big_count_ to 4\n",
      "[19:20:42] /home/khadas/tvm/src/runtime/threading_backend.cc:343: Warning: more than two frequencies detected! Forced big_count_ to 4\n",
      "[19:20:42] /home/khadas/tvm/src/runtime/threading_backend.cc:343: Warning: more than two frequencies detected! Forced big_count_ to 4\n",
      "[19:20:43] /home/khadas/tvm/src/runtime/threading_backend.cc:343: Warning: more than two frequencies detected! Forced big_count_ to 4\n",
      "[19:20:43] /home/khadas/tvm/src/runtime/threading_backend.cc:343: Warning: more than two frequencies detected! Forced big_count_ to 4\n"
     ]
    },
    {
     "name": "stdout",
     "output_type": "stream",
     "text": [
      "[Task  8/16]  Current/Best:    1.00/   9.31 GFLOPS | Progress: (104/1500) | 133.61 s"
     ]
    },
    {
     "name": "stderr",
     "output_type": "stream",
     "text": [
      "[19:20:43] /home/khadas/tvm/src/runtime/threading_backend.cc:343: Warning: more than two frequencies detected! Forced big_count_ to 4\n",
      "[19:20:54] /home/khadas/tvm/src/runtime/threading_backend.cc:343: Warning: more than two frequencies detected! Forced big_count_ to 4\n",
      "[19:20:54] /home/khadas/tvm/src/runtime/threading_backend.cc:343: Warning: more than two frequencies detected! Forced big_count_ to 4\n"
     ]
    },
    {
     "name": "stdout",
     "output_type": "stream",
     "text": [
      "[Task  8/16]  Current/Best:    1.30/   9.31 GFLOPS | Progress: (110/1500) | 144.67 s"
     ]
    },
    {
     "name": "stderr",
     "output_type": "stream",
     "text": [
      "[19:20:54] /home/khadas/tvm/src/runtime/threading_backend.cc:343: Warning: more than two frequencies detected! Forced big_count_ to 4\n"
     ]
    },
    {
     "name": "stdout",
     "output_type": "stream",
     "text": [
      " Done.\n",
      "[Task  9/16]  Current/Best:    0.00/   0.00 GFLOPS | Progress: (0/1500) | 0.00 s"
     ]
    },
    {
     "name": "stderr",
     "output_type": "stream",
     "text": [
      "[19:21:18] /home/khadas/tvm/src/runtime/threading_backend.cc:343: Warning: more than two frequencies detected! Forced big_count_ to 4\n",
      "[19:21:18] /home/khadas/tvm/src/runtime/threading_backend.cc:343: Warning: more than two frequencies detected! Forced big_count_ to 4\n",
      "[19:21:18] /home/khadas/tvm/src/runtime/threading_backend.cc:343: Warning: more than two frequencies detected! Forced big_count_ to 4\n",
      "[19:21:18] /home/khadas/tvm/src/runtime/threading_backend.cc:343: Warning: more than two frequencies detected! Forced big_count_ to 4\n",
      "[19:21:19] /home/khadas/tvm/src/runtime/threading_backend.cc:343: Warning: more than two frequencies detected! Forced big_count_ to 4\n",
      "[19:21:19] /home/khadas/tvm/src/runtime/threading_backend.cc:343: Warning: more than two frequencies detected! Forced big_count_ to 4\n"
     ]
    },
    {
     "name": "stdout",
     "output_type": "stream",
     "text": [
      "[Task  9/16]  Current/Best:    7.73/   8.47 GFLOPS | Progress: (8/1500) | 6.26 s"
     ]
    },
    {
     "name": "stderr",
     "output_type": "stream",
     "text": [
      "[19:21:19] /home/khadas/tvm/src/runtime/threading_backend.cc:343: Warning: more than two frequencies detected! Forced big_count_ to 4\n",
      "[19:21:20] /home/khadas/tvm/src/runtime/threading_backend.cc:343: Warning: more than two frequencies detected! Forced big_count_ to 4\n",
      "[19:21:21] /home/khadas/tvm/src/runtime/threading_backend.cc:343: Warning: more than two frequencies detected! Forced big_count_ to 4\n",
      "[19:21:21] /home/khadas/tvm/src/runtime/threading_backend.cc:343: Warning: more than two frequencies detected! Forced big_count_ to 4\n",
      "[19:21:21] /home/khadas/tvm/src/runtime/threading_backend.cc:343: Warning: more than two frequencies detected! Forced big_count_ to 4\n",
      "[19:21:21] /home/khadas/tvm/src/runtime/threading_backend.cc:343: Warning: more than two frequencies detected! Forced big_count_ to 4\n",
      "[19:21:21] /home/khadas/tvm/src/runtime/threading_backend.cc:343: Warning: more than two frequencies detected! Forced big_count_ to 4\n",
      "[19:21:22] /home/khadas/tvm/src/runtime/threading_backend.cc:343: Warning: more than two frequencies detected! Forced big_count_ to 4\n"
     ]
    },
    {
     "name": "stdout",
     "output_type": "stream",
     "text": [
      "[Task  9/16]  Current/Best:    7.70/   9.55 GFLOPS | Progress: (16/1500) | 8.95 s"
     ]
    },
    {
     "name": "stderr",
     "output_type": "stream",
     "text": [
      "[19:21:22] /home/khadas/tvm/src/runtime/threading_backend.cc:343: Warning: more than two frequencies detected! Forced big_count_ to 4\n",
      "[19:21:23] /home/khadas/tvm/src/runtime/threading_backend.cc:343: Warning: more than two frequencies detected! Forced big_count_ to 4\n",
      "[19:21:23] /home/khadas/tvm/src/runtime/threading_backend.cc:343: Warning: more than two frequencies detected! Forced big_count_ to 4\n",
      "[19:21:23] /home/khadas/tvm/src/runtime/threading_backend.cc:343: Warning: more than two frequencies detected! Forced big_count_ to 4\n",
      "[19:21:24] /home/khadas/tvm/src/runtime/threading_backend.cc:343: Warning: more than two frequencies detected! Forced big_count_ to 4\n",
      "[19:21:24] /home/khadas/tvm/src/runtime/threading_backend.cc:343: Warning: more than two frequencies detected! Forced big_count_ to 4\n"
     ]
    },
    {
     "name": "stdout",
     "output_type": "stream",
     "text": [
      "[Task  9/16]  Current/Best:    7.78/   9.55 GFLOPS | Progress: (24/1500) | 11.43 s"
     ]
    },
    {
     "name": "stderr",
     "output_type": "stream",
     "text": [
      "[19:21:24] /home/khadas/tvm/src/runtime/threading_backend.cc:343: Warning: more than two frequencies detected! Forced big_count_ to 4\n",
      "[19:21:25] /home/khadas/tvm/src/runtime/threading_backend.cc:343: Warning: more than two frequencies detected! Forced big_count_ to 4\n",
      "[19:21:25] /home/khadas/tvm/src/runtime/threading_backend.cc:343: Warning: more than two frequencies detected! Forced big_count_ to 4\n",
      "[19:21:26] /home/khadas/tvm/src/runtime/threading_backend.cc:343: Warning: more than two frequencies detected! Forced big_count_ to 4\n",
      "[19:21:26] /home/khadas/tvm/src/runtime/threading_backend.cc:343: Warning: more than two frequencies detected! Forced big_count_ to 4\n",
      "[19:21:26] /home/khadas/tvm/src/runtime/threading_backend.cc:343: Warning: more than two frequencies detected! Forced big_count_ to 4\n",
      "[19:21:26] /home/khadas/tvm/src/runtime/threading_backend.cc:343: Warning: more than two frequencies detected! Forced big_count_ to 4\n",
      "[19:21:26] /home/khadas/tvm/src/runtime/threading_backend.cc:343: Warning: more than two frequencies detected! Forced big_count_ to 4\n"
     ]
    },
    {
     "name": "stdout",
     "output_type": "stream",
     "text": [
      "[Task  9/16]  Current/Best:    7.76/   9.55 GFLOPS | Progress: (32/1500) | 13.80 s"
     ]
    },
    {
     "name": "stderr",
     "output_type": "stream",
     "text": [
      "[19:21:27] /home/khadas/tvm/src/runtime/threading_backend.cc:343: Warning: more than two frequencies detected! Forced big_count_ to 4\n",
      "[19:21:28] /home/khadas/tvm/src/runtime/threading_backend.cc:343: Warning: more than two frequencies detected! Forced big_count_ to 4\n",
      "[19:21:28] /home/khadas/tvm/src/runtime/threading_backend.cc:343: Warning: more than two frequencies detected! Forced big_count_ to 4\n",
      "[19:21:29] /home/khadas/tvm/src/runtime/threading_backend.cc:343: Warning: more than two frequencies detected! Forced big_count_ to 4\n",
      "[19:21:29] /home/khadas/tvm/src/runtime/threading_backend.cc:343: Warning: more than two frequencies detected! Forced big_count_ to 4\n",
      "[19:21:29] /home/khadas/tvm/src/runtime/threading_backend.cc:343: Warning: more than two frequencies detected! Forced big_count_ to 4\n",
      "[19:21:29] /home/khadas/tvm/src/runtime/threading_backend.cc:343: Warning: more than two frequencies detected! Forced big_count_ to 4\n",
      "[19:21:29] /home/khadas/tvm/src/runtime/threading_backend.cc:343: Warning: more than two frequencies detected! Forced big_count_ to 4\n"
     ]
    },
    {
     "name": "stdout",
     "output_type": "stream",
     "text": [
      "[Task  9/16]  Current/Best:    6.88/   9.55 GFLOPS | Progress: (40/1500) | 16.76 s"
     ]
    },
    {
     "name": "stderr",
     "output_type": "stream",
     "text": [
      "[19:21:30] /home/khadas/tvm/src/runtime/threading_backend.cc:343: Warning: more than two frequencies detected! Forced big_count_ to 4\n",
      "[19:21:31] /home/khadas/tvm/src/runtime/threading_backend.cc:343: Warning: more than two frequencies detected! Forced big_count_ to 4\n",
      "[19:21:31] /home/khadas/tvm/src/runtime/threading_backend.cc:343: Warning: more than two frequencies detected! Forced big_count_ to 4\n",
      "[19:21:31] /home/khadas/tvm/src/runtime/threading_backend.cc:343: Warning: more than two frequencies detected! Forced big_count_ to 4\n",
      "[19:21:31] /home/khadas/tvm/src/runtime/threading_backend.cc:343: Warning: more than two frequencies detected! Forced big_count_ to 4\n",
      "[19:21:31] /home/khadas/tvm/src/runtime/threading_backend.cc:343: Warning: more than two frequencies detected! Forced big_count_ to 4\n",
      "[19:21:32] /home/khadas/tvm/src/runtime/threading_backend.cc:343: Warning: more than two frequencies detected! Forced big_count_ to 4\n",
      "[19:21:32] /home/khadas/tvm/src/runtime/threading_backend.cc:343: Warning: more than two frequencies detected! Forced big_count_ to 4\n",
      "[19:21:32] /home/khadas/tvm/src/runtime/threading_backend.cc:343: Warning: more than two frequencies detected! Forced big_count_ to 4\n"
     ]
    },
    {
     "name": "stdout",
     "output_type": "stream",
     "text": [
      "[Task  9/16]  Current/Best:    7.73/   9.55 GFLOPS | Progress: (48/1500) | 19.15 s"
     ]
    },
    {
     "name": "stderr",
     "output_type": "stream",
     "text": [
      "[19:21:34] /home/khadas/tvm/src/runtime/threading_backend.cc:343: Warning: more than two frequencies detected! Forced big_count_ to 4\n",
      "[19:21:34] /home/khadas/tvm/src/runtime/threading_backend.cc:343: Warning: more than two frequencies detected! Forced big_count_ to 4\n",
      "[19:21:34] /home/khadas/tvm/src/runtime/threading_backend.cc:343: Warning: more than two frequencies detected! Forced big_count_ to 4\n",
      "[19:21:34] /home/khadas/tvm/src/runtime/threading_backend.cc:343: Warning: more than two frequencies detected! Forced big_count_ to 4\n",
      "[19:21:34] /home/khadas/tvm/src/runtime/threading_backend.cc:343: Warning: more than two frequencies detected! Forced big_count_ to 4\n",
      "[19:21:35] /home/khadas/tvm/src/runtime/threading_backend.cc:343: Warning: more than two frequencies detected! Forced big_count_ to 4\n",
      "[19:21:35] /home/khadas/tvm/src/runtime/threading_backend.cc:343: Warning: more than two frequencies detected! Forced big_count_ to 4\n"
     ]
    },
    {
     "name": "stdout",
     "output_type": "stream",
     "text": [
      "[Task  9/16]  Current/Best:    3.70/   9.55 GFLOPS | Progress: (56/1500) | 22.12 s"
     ]
    },
    {
     "name": "stderr",
     "output_type": "stream",
     "text": [
      "[19:21:35] /home/khadas/tvm/src/runtime/threading_backend.cc:343: Warning: more than two frequencies detected! Forced big_count_ to 4\n",
      "[19:21:36] /home/khadas/tvm/src/runtime/threading_backend.cc:343: Warning: more than two frequencies detected! Forced big_count_ to 4\n",
      "[19:21:36] /home/khadas/tvm/src/runtime/threading_backend.cc:343: Warning: more than two frequencies detected! Forced big_count_ to 4\n",
      "[19:21:37] /home/khadas/tvm/src/runtime/threading_backend.cc:343: Warning: more than two frequencies detected! Forced big_count_ to 4\n",
      "[19:21:37] /home/khadas/tvm/src/runtime/threading_backend.cc:343: Warning: more than two frequencies detected! Forced big_count_ to 4\n",
      "[19:21:37] /home/khadas/tvm/src/runtime/threading_backend.cc:343: Warning: more than two frequencies detected! Forced big_count_ to 4\n",
      "[19:21:37] /home/khadas/tvm/src/runtime/threading_backend.cc:343: Warning: more than two frequencies detected! Forced big_count_ to 4\n",
      "[19:21:37] /home/khadas/tvm/src/runtime/threading_backend.cc:343: Warning: more than two frequencies detected! Forced big_count_ to 4\n"
     ]
    },
    {
     "name": "stdout",
     "output_type": "stream",
     "text": [
      "[Task  9/16]  Current/Best:    3.75/   9.55 GFLOPS | Progress: (64/1500) | 27.21 s"
     ]
    },
    {
     "name": "stderr",
     "output_type": "stream",
     "text": [
      "[19:21:41] /home/khadas/tvm/src/runtime/threading_backend.cc:343: Warning: more than two frequencies detected! Forced big_count_ to 4\n",
      "[19:21:41] /home/khadas/tvm/src/runtime/threading_backend.cc:343: Warning: more than two frequencies detected! Forced big_count_ to 4\n",
      "[19:21:41] /home/khadas/tvm/src/runtime/threading_backend.cc:343: Warning: more than two frequencies detected! Forced big_count_ to 4\n",
      "[19:21:41] /home/khadas/tvm/src/runtime/threading_backend.cc:343: Warning: more than two frequencies detected! Forced big_count_ to 4\n",
      "[19:21:42] /home/khadas/tvm/src/runtime/threading_backend.cc:343: Warning: more than two frequencies detected! Forced big_count_ to 4\n",
      "[19:21:42] /home/khadas/tvm/src/runtime/threading_backend.cc:343: Warning: more than two frequencies detected! Forced big_count_ to 4\n",
      "[19:21:42] /home/khadas/tvm/src/runtime/threading_backend.cc:343: Warning: more than two frequencies detected! Forced big_count_ to 4\n"
     ]
    },
    {
     "name": "stdout",
     "output_type": "stream",
     "text": [
      "[Task  9/16]  Current/Best:    8.71/   9.55 GFLOPS | Progress: (72/1500) | 29.26 s"
     ]
    },
    {
     "name": "stderr",
     "output_type": "stream",
     "text": [
      "[19:21:42] /home/khadas/tvm/src/runtime/threading_backend.cc:343: Warning: more than two frequencies detected! Forced big_count_ to 4\n",
      "[19:21:43] /home/khadas/tvm/src/runtime/threading_backend.cc:343: Warning: more than two frequencies detected! Forced big_count_ to 4\n",
      "[19:21:43] /home/khadas/tvm/src/runtime/threading_backend.cc:343: Warning: more than two frequencies detected! Forced big_count_ to 4\n",
      "[19:21:43] /home/khadas/tvm/src/runtime/threading_backend.cc:343: Warning: more than two frequencies detected! Forced big_count_ to 4\n",
      "[19:21:43] /home/khadas/tvm/src/runtime/threading_backend.cc:343: Warning: more than two frequencies detected! Forced big_count_ to 4\n",
      "[19:21:44] /home/khadas/tvm/src/runtime/threading_backend.cc:343: Warning: more than two frequencies detected! Forced big_count_ to 4\n",
      "[19:21:44] /home/khadas/tvm/src/runtime/threading_backend.cc:343: Warning: more than two frequencies detected! Forced big_count_ to 4\n",
      "[19:21:44] /home/khadas/tvm/src/runtime/threading_backend.cc:343: Warning: more than two frequencies detected! Forced big_count_ to 4\n",
      "[19:21:44] /home/khadas/tvm/src/runtime/threading_backend.cc:343: Warning: more than two frequencies detected! Forced big_count_ to 4\n"
     ]
    },
    {
     "name": "stdout",
     "output_type": "stream",
     "text": [
      "[Task  9/16]  Current/Best:    8.75/   9.55 GFLOPS | Progress: (80/1500) | 31.31 s"
     ]
    },
    {
     "name": "stderr",
     "output_type": "stream",
     "text": [
      "[19:21:45] /home/khadas/tvm/src/runtime/threading_backend.cc:343: Warning: more than two frequencies detected! Forced big_count_ to 4\n",
      "[19:21:45] /home/khadas/tvm/src/runtime/threading_backend.cc:343: Warning: more than two frequencies detected! Forced big_count_ to 4\n",
      "[19:21:45] /home/khadas/tvm/src/runtime/threading_backend.cc:343: Warning: more than two frequencies detected! Forced big_count_ to 4\n",
      "[19:21:46] /home/khadas/tvm/src/runtime/threading_backend.cc:343: Warning: more than two frequencies detected! Forced big_count_ to 4\n",
      "[19:21:46] /home/khadas/tvm/src/runtime/threading_backend.cc:343: Warning: more than two frequencies detected! Forced big_count_ to 4\n",
      "[19:21:46] /home/khadas/tvm/src/runtime/threading_backend.cc:343: Warning: more than two frequencies detected! Forced big_count_ to 4\n",
      "[19:21:46] /home/khadas/tvm/src/runtime/threading_backend.cc:343: Warning: more than two frequencies detected! Forced big_count_ to 4\n"
     ]
    },
    {
     "name": "stdout",
     "output_type": "stream",
     "text": [
      "[Task  9/16]  Current/Best:    3.64/   9.55 GFLOPS | Progress: (88/1500) | 33.64 s"
     ]
    },
    {
     "name": "stderr",
     "output_type": "stream",
     "text": [
      "[19:21:46] /home/khadas/tvm/src/runtime/threading_backend.cc:343: Warning: more than two frequencies detected! Forced big_count_ to 4\n",
      "[19:21:48] /home/khadas/tvm/src/runtime/threading_backend.cc:343: Warning: more than two frequencies detected! Forced big_count_ to 4\n",
      "[19:21:48] /home/khadas/tvm/src/runtime/threading_backend.cc:343: Warning: more than two frequencies detected! Forced big_count_ to 4\n",
      "[19:21:48] /home/khadas/tvm/src/runtime/threading_backend.cc:343: Warning: more than two frequencies detected! Forced big_count_ to 4\n",
      "[19:21:48] /home/khadas/tvm/src/runtime/threading_backend.cc:343: Warning: more than two frequencies detected! Forced big_count_ to 4\n",
      "[19:21:48] /home/khadas/tvm/src/runtime/threading_backend.cc:343: Warning: more than two frequencies detected! Forced big_count_ to 4\n",
      "[19:21:49] /home/khadas/tvm/src/runtime/threading_backend.cc:343: Warning: more than two frequencies detected! Forced big_count_ to 4\n",
      "[19:21:49] /home/khadas/tvm/src/runtime/threading_backend.cc:343: Warning: more than two frequencies detected! Forced big_count_ to 4\n",
      "[19:21:49] /home/khadas/tvm/src/runtime/threading_backend.cc:343: Warning: more than two frequencies detected! Forced big_count_ to 4\n"
     ]
    },
    {
     "name": "stdout",
     "output_type": "stream",
     "text": [
      "[Task  9/16]  Current/Best:    8.57/   9.55 GFLOPS | Progress: (96/1500) | 36.07 s"
     ]
    },
    {
     "name": "stderr",
     "output_type": "stream",
     "text": [
      "[19:21:50] /home/khadas/tvm/src/runtime/threading_backend.cc:343: Warning: more than two frequencies detected! Forced big_count_ to 4\n",
      "[19:21:50] /home/khadas/tvm/src/runtime/threading_backend.cc:343: Warning: more than two frequencies detected! Forced big_count_ to 4\n",
      "[19:21:50] /home/khadas/tvm/src/runtime/threading_backend.cc:343: Warning: more than two frequencies detected! Forced big_count_ to 4\n",
      "[19:21:50] /home/khadas/tvm/src/runtime/threading_backend.cc:343: Warning: more than two frequencies detected! Forced big_count_ to 4\n",
      "[19:21:51] /home/khadas/tvm/src/runtime/threading_backend.cc:343: Warning: more than two frequencies detected! Forced big_count_ to 4\n",
      "[19:21:51] /home/khadas/tvm/src/runtime/threading_backend.cc:343: Warning: more than two frequencies detected! Forced big_count_ to 4\n",
      "[19:21:51] /home/khadas/tvm/src/runtime/threading_backend.cc:343: Warning: more than two frequencies detected! Forced big_count_ to 4\n",
      "[19:21:51] /home/khadas/tvm/src/runtime/threading_backend.cc:343: Warning: more than two frequencies detected! Forced big_count_ to 4\n"
     ]
    },
    {
     "name": "stdout",
     "output_type": "stream",
     "text": [
      "[Task  9/16]  Current/Best:    9.39/   9.55 GFLOPS | Progress: (104/1500) | 38.39 s"
     ]
    },
    {
     "name": "stderr",
     "output_type": "stream",
     "text": [
      "[19:21:53] /home/khadas/tvm/src/runtime/threading_backend.cc:343: Warning: more than two frequencies detected! Forced big_count_ to 4\n",
      "[19:21:53] /home/khadas/tvm/src/runtime/threading_backend.cc:343: Warning: more than two frequencies detected! Forced big_count_ to 4\n",
      "[19:21:53] /home/khadas/tvm/src/runtime/threading_backend.cc:343: Warning: more than two frequencies detected! Forced big_count_ to 4\n",
      "[19:21:53] /home/khadas/tvm/src/runtime/threading_backend.cc:343: Warning: more than two frequencies detected! Forced big_count_ to 4\n",
      "[19:21:54] /home/khadas/tvm/src/runtime/threading_backend.cc:343: Warning: more than two frequencies detected! Forced big_count_ to 4\n",
      "[19:21:54] /home/khadas/tvm/src/runtime/threading_backend.cc:343: Warning: more than two frequencies detected! Forced big_count_ to 4\n",
      "[19:21:54] /home/khadas/tvm/src/runtime/threading_backend.cc:343: Warning: more than two frequencies detected! Forced big_count_ to 4\n"
     ]
    },
    {
     "name": "stdout",
     "output_type": "stream",
     "text": [
      "[Task  9/16]  Current/Best:    5.96/   9.55 GFLOPS | Progress: (112/1500) | 41.27 s"
     ]
    },
    {
     "name": "stderr",
     "output_type": "stream",
     "text": [
      "[19:21:54] /home/khadas/tvm/src/runtime/threading_backend.cc:343: Warning: more than two frequencies detected! Forced big_count_ to 4\n"
     ]
    },
    {
     "name": "stdout",
     "output_type": "stream",
     "text": [
      " Done.\n",
      "[Task 10/16]  Current/Best:    0.00/   0.00 GFLOPS | Progress: (0/1500) | 0.00 s"
     ]
    },
    {
     "name": "stderr",
     "output_type": "stream",
     "text": [
      "[19:22:11] /home/khadas/tvm/src/runtime/threading_backend.cc:343: Warning: more than two frequencies detected! Forced big_count_ to 4\n",
      "[19:22:12] /home/khadas/tvm/src/runtime/threading_backend.cc:343: Warning: more than two frequencies detected! Forced big_count_ to 4\n",
      "[19:22:12] /home/khadas/tvm/src/runtime/threading_backend.cc:343: Warning: more than two frequencies detected! Forced big_count_ to 4\n",
      "[19:22:12] /home/khadas/tvm/src/runtime/threading_backend.cc:343: Warning: more than two frequencies detected! Forced big_count_ to 4\n",
      "[19:22:12] /home/khadas/tvm/src/runtime/threading_backend.cc:343: Warning: more than two frequencies detected! Forced big_count_ to 4\n"
     ]
    },
    {
     "name": "stdout",
     "output_type": "stream",
     "text": [
      "[Task 10/16]  Current/Best:    4.59/   8.41 GFLOPS | Progress: (8/1500) | 12.17 s"
     ]
    },
    {
     "name": "stderr",
     "output_type": "stream",
     "text": [
      "[19:22:27] /home/khadas/tvm/src/runtime/threading_backend.cc:343: Warning: more than two frequencies detected! Forced big_count_ to 4\n",
      "[19:22:27] /home/khadas/tvm/src/runtime/threading_backend.cc:343: Warning: more than two frequencies detected! Forced big_count_ to 4\n",
      "[19:22:27] /home/khadas/tvm/src/runtime/threading_backend.cc:343: Warning: more than two frequencies detected! Forced big_count_ to 4\n",
      "[19:22:27] /home/khadas/tvm/src/runtime/threading_backend.cc:343: Warning: more than two frequencies detected! Forced big_count_ to 4\n",
      "[19:22:27] /home/khadas/tvm/src/runtime/threading_backend.cc:343: Warning: more than two frequencies detected! Forced big_count_ to 4\n"
     ]
    },
    {
     "name": "stdout",
     "output_type": "stream",
     "text": [
      "[Task 10/16]  Current/Best:    8.57/   8.57 GFLOPS | Progress: (16/1500) | 27.36 s"
     ]
    },
    {
     "name": "stderr",
     "output_type": "stream",
     "text": [
      "[19:22:39] /home/khadas/tvm/src/runtime/threading_backend.cc:343: Warning: more than two frequencies detected! Forced big_count_ to 4\n",
      "[19:22:39] /home/khadas/tvm/src/runtime/threading_backend.cc:343: Warning: more than two frequencies detected! Forced big_count_ to 4\n",
      "[19:22:39] /home/khadas/tvm/src/runtime/threading_backend.cc:343: Warning: more than two frequencies detected! Forced big_count_ to 4\n",
      "[19:22:39] /home/khadas/tvm/src/runtime/threading_backend.cc:343: Warning: more than two frequencies detected! Forced big_count_ to 4\n"
     ]
    },
    {
     "name": "stdout",
     "output_type": "stream",
     "text": [
      "[Task 10/16]  Current/Best:    7.61/   8.57 GFLOPS | Progress: (24/1500) | 39.09 s"
     ]
    },
    {
     "name": "stderr",
     "output_type": "stream",
     "text": [
      "[19:22:53] /home/khadas/tvm/src/runtime/threading_backend.cc:343: Warning: more than two frequencies detected! Forced big_count_ to 4\n",
      "[19:22:53] /home/khadas/tvm/src/runtime/threading_backend.cc:343: Warning: more than two frequencies detected! Forced big_count_ to 4\n",
      "[19:22:53] /home/khadas/tvm/src/runtime/threading_backend.cc:343: Warning: more than two frequencies detected! Forced big_count_ to 4\n",
      "[19:22:53] /home/khadas/tvm/src/runtime/threading_backend.cc:343: Warning: more than two frequencies detected! Forced big_count_ to 4\n",
      "[19:22:53] /home/khadas/tvm/src/runtime/threading_backend.cc:343: Warning: more than two frequencies detected! Forced big_count_ to 4\n",
      "[19:22:54] /home/khadas/tvm/src/runtime/threading_backend.cc:343: Warning: more than two frequencies detected! Forced big_count_ to 4\n",
      "[19:22:54] /home/khadas/tvm/src/runtime/threading_backend.cc:343: Warning: more than two frequencies detected! Forced big_count_ to 4\n"
     ]
    },
    {
     "name": "stdout",
     "output_type": "stream",
     "text": [
      "[Task 10/16]  Current/Best:    8.05/   8.57 GFLOPS | Progress: (32/1500) | 53.77 s"
     ]
    },
    {
     "name": "stderr",
     "output_type": "stream",
     "text": [
      "[19:23:00] /home/khadas/tvm/src/runtime/threading_backend.cc:343: Warning: more than two frequencies detected! Forced big_count_ to 4\n",
      "[19:23:00] /home/khadas/tvm/src/runtime/threading_backend.cc:343: Warning: more than two frequencies detected! Forced big_count_ to 4\n",
      "[19:23:01] /home/khadas/tvm/src/runtime/threading_backend.cc:343: Warning: more than two frequencies detected! Forced big_count_ to 4\n",
      "[19:23:01] /home/khadas/tvm/src/runtime/threading_backend.cc:343: Warning: more than two frequencies detected! Forced big_count_ to 4\n",
      "[19:23:01] /home/khadas/tvm/src/runtime/threading_backend.cc:343: Warning: more than two frequencies detected! Forced big_count_ to 4\n",
      "[19:23:02] /home/khadas/tvm/src/runtime/threading_backend.cc:343: Warning: more than two frequencies detected! Forced big_count_ to 4\n",
      "[19:23:02] /home/khadas/tvm/src/runtime/threading_backend.cc:343: Warning: more than two frequencies detected! Forced big_count_ to 4\n"
     ]
    },
    {
     "name": "stdout",
     "output_type": "stream",
     "text": [
      "[Task 10/16]  Current/Best:    1.39/   8.57 GFLOPS | Progress: (40/1500) | 61.67 s"
     ]
    },
    {
     "name": "stderr",
     "output_type": "stream",
     "text": [
      "[19:23:12] /home/khadas/tvm/src/runtime/threading_backend.cc:343: Warning: more than two frequencies detected! Forced big_count_ to 4\n",
      "[19:23:12] /home/khadas/tvm/src/runtime/threading_backend.cc:343: Warning: more than two frequencies detected! Forced big_count_ to 4\n",
      "[19:23:12] /home/khadas/tvm/src/runtime/threading_backend.cc:343: Warning: more than two frequencies detected! Forced big_count_ to 4\n",
      "[19:23:13] /home/khadas/tvm/src/runtime/threading_backend.cc:343: Warning: more than two frequencies detected! Forced big_count_ to 4\n",
      "[19:23:13] /home/khadas/tvm/src/runtime/threading_backend.cc:343: Warning: more than two frequencies detected! Forced big_count_ to 4\n"
     ]
    },
    {
     "name": "stdout",
     "output_type": "stream",
     "text": [
      "[Task 10/16]  Current/Best:    0.88/   8.57 GFLOPS | Progress: (48/1500) | 73.03 s"
     ]
    },
    {
     "name": "stderr",
     "output_type": "stream",
     "text": [
      "[19:23:13] /home/khadas/tvm/src/runtime/threading_backend.cc:343: Warning: more than two frequencies detected! Forced big_count_ to 4\n",
      "[19:23:23] /home/khadas/tvm/src/runtime/threading_backend.cc:343: Warning: more than two frequencies detected! Forced big_count_ to 4\n",
      "[19:23:24] /home/khadas/tvm/src/runtime/threading_backend.cc:343: Warning: more than two frequencies detected! Forced big_count_ to 4\n",
      "[19:23:24] /home/khadas/tvm/src/runtime/threading_backend.cc:343: Warning: more than two frequencies detected! Forced big_count_ to 4\n",
      "[19:23:24] /home/khadas/tvm/src/runtime/threading_backend.cc:343: Warning: more than two frequencies detected! Forced big_count_ to 4\n",
      "[19:23:24] /home/khadas/tvm/src/runtime/threading_backend.cc:343: Warning: more than two frequencies detected! Forced big_count_ to 4\n",
      "[19:23:24] /home/khadas/tvm/src/runtime/threading_backend.cc:343: Warning: more than two frequencies detected! Forced big_count_ to 4\n"
     ]
    },
    {
     "name": "stdout",
     "output_type": "stream",
     "text": [
      "[Task 10/16]  Current/Best:    5.74/   8.57 GFLOPS | Progress: (56/1500) | 84.40 s"
     ]
    },
    {
     "name": "stderr",
     "output_type": "stream",
     "text": [
      "[19:23:37] /home/khadas/tvm/src/runtime/threading_backend.cc:343: Warning: more than two frequencies detected! Forced big_count_ to 4\n",
      "[19:23:37] /home/khadas/tvm/src/runtime/threading_backend.cc:343: Warning: more than two frequencies detected! Forced big_count_ to 4\n",
      "[19:23:37] /home/khadas/tvm/src/runtime/threading_backend.cc:343: Warning: more than two frequencies detected! Forced big_count_ to 4\n",
      "[19:23:38] /home/khadas/tvm/src/runtime/threading_backend.cc:343: Warning: more than two frequencies detected! Forced big_count_ to 4\n",
      "[19:23:38] /home/khadas/tvm/src/runtime/threading_backend.cc:343: Warning: more than two frequencies detected! Forced big_count_ to 4\n",
      "[19:23:38] /home/khadas/tvm/src/runtime/threading_backend.cc:343: Warning: more than two frequencies detected! Forced big_count_ to 4\n"
     ]
    },
    {
     "name": "stdout",
     "output_type": "stream",
     "text": [
      "[Task 10/16]  Current/Best:    0.95/   8.57 GFLOPS | Progress: (64/1500) | 104.75 s"
     ]
    },
    {
     "name": "stderr",
     "output_type": "stream",
     "text": [
      "[19:23:47] /home/khadas/tvm/src/runtime/threading_backend.cc:343: Warning: more than two frequencies detected! Forced big_count_ to 4\n",
      "[19:23:47] /home/khadas/tvm/src/runtime/threading_backend.cc:343: Warning: more than two frequencies detected! Forced big_count_ to 4\n",
      "[19:23:48] /home/khadas/tvm/src/runtime/threading_backend.cc:343: Warning: more than two frequencies detected! Forced big_count_ to 4\n",
      "[19:23:48] /home/khadas/tvm/src/runtime/threading_backend.cc:343: Warning: more than two frequencies detected! Forced big_count_ to 4\n",
      "[19:23:48] /home/khadas/tvm/src/runtime/threading_backend.cc:343: Warning: more than two frequencies detected! Forced big_count_ to 4\n",
      "[19:23:48] /home/khadas/tvm/src/runtime/threading_backend.cc:343: Warning: more than two frequencies detected! Forced big_count_ to 4\n",
      "[19:23:48] /home/khadas/tvm/src/runtime/threading_backend.cc:343: Warning: more than two frequencies detected! Forced big_count_ to 4\n"
     ]
    },
    {
     "name": "stdout",
     "output_type": "stream",
     "text": [
      "[Task 10/16]  Current/Best:    7.83/   8.80 GFLOPS | Progress: (72/1500) | 108.52 s"
     ]
    },
    {
     "name": "stderr",
     "output_type": "stream",
     "text": [
      "[19:23:49] /home/khadas/tvm/src/runtime/threading_backend.cc:343: Warning: more than two frequencies detected! Forced big_count_ to 4\n",
      "[19:23:49] /home/khadas/tvm/src/runtime/threading_backend.cc:343: Warning: more than two frequencies detected! Forced big_count_ to 4\n",
      "[19:23:49] /home/khadas/tvm/src/runtime/threading_backend.cc:343: Warning: more than two frequencies detected! Forced big_count_ to 4\n",
      "[19:23:49] /home/khadas/tvm/src/runtime/threading_backend.cc:343: Warning: more than two frequencies detected! Forced big_count_ to 4\n",
      "[19:23:50] /home/khadas/tvm/src/runtime/threading_backend.cc:343: Warning: more than two frequencies detected! Forced big_count_ to 4\n",
      "[19:23:50] /home/khadas/tvm/src/runtime/threading_backend.cc:343: Warning: more than two frequencies detected! Forced big_count_ to 4\n",
      "[19:23:50] /home/khadas/tvm/src/runtime/threading_backend.cc:343: Warning: more than two frequencies detected! Forced big_count_ to 4\n",
      "[19:23:50] /home/khadas/tvm/src/runtime/threading_backend.cc:343: Warning: more than two frequencies detected! Forced big_count_ to 4\n",
      "[19:23:50] /home/khadas/tvm/src/runtime/threading_backend.cc:343: Warning: more than two frequencies detected! Forced big_count_ to 4\n"
     ]
    },
    {
     "name": "stdout",
     "output_type": "stream",
     "text": [
      "[Task 10/16]  Current/Best:    8.94/   8.94 GFLOPS | Progress: (80/1500) | 110.36 s"
     ]
    },
    {
     "name": "stderr",
     "output_type": "stream",
     "text": [
      "[19:23:51] /home/khadas/tvm/src/runtime/threading_backend.cc:343: Warning: more than two frequencies detected! Forced big_count_ to 4\n",
      "[19:23:51] /home/khadas/tvm/src/runtime/threading_backend.cc:343: Warning: more than two frequencies detected! Forced big_count_ to 4\n",
      "[19:23:52] /home/khadas/tvm/src/runtime/threading_backend.cc:343: Warning: more than two frequencies detected! Forced big_count_ to 4\n",
      "[19:23:52] /home/khadas/tvm/src/runtime/threading_backend.cc:343: Warning: more than two frequencies detected! Forced big_count_ to 4\n",
      "[19:23:52] /home/khadas/tvm/src/runtime/threading_backend.cc:343: Warning: more than two frequencies detected! Forced big_count_ to 4\n",
      "[19:23:52] /home/khadas/tvm/src/runtime/threading_backend.cc:343: Warning: more than two frequencies detected! Forced big_count_ to 4\n",
      "[19:23:52] /home/khadas/tvm/src/runtime/threading_backend.cc:343: Warning: more than two frequencies detected! Forced big_count_ to 4\n"
     ]
    },
    {
     "name": "stdout",
     "output_type": "stream",
     "text": [
      "[Task 10/16]  Current/Best:    4.55/   9.47 GFLOPS | Progress: (88/1500) | 112.45 s"
     ]
    },
    {
     "name": "stderr",
     "output_type": "stream",
     "text": [
      "[19:23:53] /home/khadas/tvm/src/runtime/threading_backend.cc:343: Warning: more than two frequencies detected! Forced big_count_ to 4\n",
      "[19:23:53] /home/khadas/tvm/src/runtime/threading_backend.cc:343: Warning: more than two frequencies detected! Forced big_count_ to 4\n",
      "[19:23:53] /home/khadas/tvm/src/runtime/threading_backend.cc:343: Warning: more than two frequencies detected! Forced big_count_ to 4\n",
      "[19:23:54] /home/khadas/tvm/src/runtime/threading_backend.cc:343: Warning: more than two frequencies detected! Forced big_count_ to 4\n",
      "[19:23:54] /home/khadas/tvm/src/runtime/threading_backend.cc:343: Warning: more than two frequencies detected! Forced big_count_ to 4\n",
      "[19:23:54] /home/khadas/tvm/src/runtime/threading_backend.cc:343: Warning: more than two frequencies detected! Forced big_count_ to 4\n",
      "[19:23:54] /home/khadas/tvm/src/runtime/threading_backend.cc:343: Warning: more than two frequencies detected! Forced big_count_ to 4\n",
      "[19:23:54] /home/khadas/tvm/src/runtime/threading_backend.cc:343: Warning: more than two frequencies detected! Forced big_count_ to 4\n"
     ]
    },
    {
     "name": "stdout",
     "output_type": "stream",
     "text": [
      "[Task 10/16]  Current/Best:    6.54/   9.47 GFLOPS | Progress: (96/1500) | 114.50 s"
     ]
    },
    {
     "name": "stderr",
     "output_type": "stream",
     "text": [
      "[19:23:55] /home/khadas/tvm/src/runtime/threading_backend.cc:343: Warning: more than two frequencies detected! Forced big_count_ to 4\n",
      "[19:23:56] /home/khadas/tvm/src/runtime/threading_backend.cc:343: Warning: more than two frequencies detected! Forced big_count_ to 4\n",
      "[19:23:56] /home/khadas/tvm/src/runtime/threading_backend.cc:343: Warning: more than two frequencies detected! Forced big_count_ to 4\n",
      "[19:23:56] /home/khadas/tvm/src/runtime/threading_backend.cc:343: Warning: more than two frequencies detected! Forced big_count_ to 4\n",
      "[19:23:56] /home/khadas/tvm/src/runtime/threading_backend.cc:343: Warning: more than two frequencies detected! Forced big_count_ to 4\n",
      "[19:23:57] /home/khadas/tvm/src/runtime/threading_backend.cc:343: Warning: more than two frequencies detected! Forced big_count_ to 4\n",
      "[19:23:57] /home/khadas/tvm/src/runtime/threading_backend.cc:343: Warning: more than two frequencies detected! Forced big_count_ to 4\n",
      "[19:23:57] /home/khadas/tvm/src/runtime/threading_backend.cc:343: Warning: more than two frequencies detected! Forced big_count_ to 4\n",
      "[19:23:57] /home/khadas/tvm/src/runtime/threading_backend.cc:343: Warning: more than two frequencies detected! Forced big_count_ to 4\n"
     ]
    },
    {
     "name": "stdout",
     "output_type": "stream",
     "text": [
      "[Task 10/16]  Current/Best:    7.19/   9.47 GFLOPS | Progress: (104/1500) | 117.08 s"
     ]
    },
    {
     "name": "stderr",
     "output_type": "stream",
     "text": [
      "[19:23:58] /home/khadas/tvm/src/runtime/threading_backend.cc:343: Warning: more than two frequencies detected! Forced big_count_ to 4\n",
      "[19:23:58] /home/khadas/tvm/src/runtime/threading_backend.cc:343: Warning: more than two frequencies detected! Forced big_count_ to 4\n",
      "[19:23:58] /home/khadas/tvm/src/runtime/threading_backend.cc:343: Warning: more than two frequencies detected! Forced big_count_ to 4\n",
      "[19:23:59] /home/khadas/tvm/src/runtime/threading_backend.cc:343: Warning: more than two frequencies detected! Forced big_count_ to 4\n",
      "[19:23:59] /home/khadas/tvm/src/runtime/threading_backend.cc:343: Warning: more than two frequencies detected! Forced big_count_ to 4\n",
      "[19:23:59] /home/khadas/tvm/src/runtime/threading_backend.cc:343: Warning: more than two frequencies detected! Forced big_count_ to 4\n",
      "[19:23:59] /home/khadas/tvm/src/runtime/threading_backend.cc:343: Warning: more than two frequencies detected! Forced big_count_ to 4\n"
     ]
    },
    {
     "name": "stdout",
     "output_type": "stream",
     "text": [
      "[Task 10/16]  Current/Best:    3.23/   9.47 GFLOPS | Progress: (112/1500) | 119.39 s"
     ]
    },
    {
     "name": "stderr",
     "output_type": "stream",
     "text": [
      "[19:23:59] /home/khadas/tvm/src/runtime/threading_backend.cc:343: Warning: more than two frequencies detected! Forced big_count_ to 4\n",
      "[19:24:03] /home/khadas/tvm/src/runtime/threading_backend.cc:343: Warning: more than two frequencies detected! Forced big_count_ to 4\n",
      "[19:24:03] /home/khadas/tvm/src/runtime/threading_backend.cc:343: Warning: more than two frequencies detected! Forced big_count_ to 4\n",
      "[19:24:04] /home/khadas/tvm/src/runtime/threading_backend.cc:343: Warning: more than two frequencies detected! Forced big_count_ to 4\n",
      "[19:24:04] /home/khadas/tvm/src/runtime/threading_backend.cc:343: Warning: more than two frequencies detected! Forced big_count_ to 4\n",
      "[19:24:04] /home/khadas/tvm/src/runtime/threading_backend.cc:343: Warning: more than two frequencies detected! Forced big_count_ to 4\n",
      "[19:24:04] /home/khadas/tvm/src/runtime/threading_backend.cc:343: Warning: more than two frequencies detected! Forced big_count_ to 4\n",
      "[19:24:04] /home/khadas/tvm/src/runtime/threading_backend.cc:343: Warning: more than two frequencies detected! Forced big_count_ to 4\n"
     ]
    },
    {
     "name": "stdout",
     "output_type": "stream",
     "text": [
      "[Task 10/16]  Current/Best:    2.60/   9.47 GFLOPS | Progress: (120/1500) | 124.63 s"
     ]
    },
    {
     "name": "stderr",
     "output_type": "stream",
     "text": [
      "[19:24:05] /home/khadas/tvm/src/runtime/threading_backend.cc:343: Warning: more than two frequencies detected! Forced big_count_ to 4\n",
      "[19:24:15] /home/khadas/tvm/src/runtime/threading_backend.cc:343: Warning: more than two frequencies detected! Forced big_count_ to 4\n",
      "[19:24:15] /home/khadas/tvm/src/runtime/threading_backend.cc:343: Warning: more than two frequencies detected! Forced big_count_ to 4\n",
      "[19:24:15] /home/khadas/tvm/src/runtime/threading_backend.cc:343: Warning: more than two frequencies detected! Forced big_count_ to 4\n",
      "[19:24:16] /home/khadas/tvm/src/runtime/threading_backend.cc:343: Warning: more than two frequencies detected! Forced big_count_ to 4\n",
      "[19:24:16] /home/khadas/tvm/src/runtime/threading_backend.cc:343: Warning: more than two frequencies detected! Forced big_count_ to 4\n",
      "[19:24:16] /home/khadas/tvm/src/runtime/threading_backend.cc:343: Warning: more than two frequencies detected! Forced big_count_ to 4\n"
     ]
    },
    {
     "name": "stdout",
     "output_type": "stream",
     "text": [
      "[Task 10/16]  Current/Best:    2.11/   9.47 GFLOPS | Progress: (128/1500) | 139.31 s"
     ]
    },
    {
     "name": "stderr",
     "output_type": "stream",
     "text": [
      "[19:24:33] /home/khadas/tvm/src/runtime/threading_backend.cc:343: Warning: more than two frequencies detected! Forced big_count_ to 4\n",
      "[19:24:33] /home/khadas/tvm/src/runtime/threading_backend.cc:343: Warning: more than two frequencies detected! Forced big_count_ to 4\n",
      "[19:24:34] /home/khadas/tvm/src/runtime/threading_backend.cc:343: Warning: more than two frequencies detected! Forced big_count_ to 4\n",
      "[19:24:34] /home/khadas/tvm/src/runtime/threading_backend.cc:343: Warning: more than two frequencies detected! Forced big_count_ to 4\n"
     ]
    },
    {
     "name": "stdout",
     "output_type": "stream",
     "text": [
      "[Task 10/16]  Current/Best:    2.27/   9.47 GFLOPS | Progress: (136/1500) | 153.89 s"
     ]
    },
    {
     "name": "stderr",
     "output_type": "stream",
     "text": [
      "[19:24:34] /home/khadas/tvm/src/runtime/threading_backend.cc:343: Warning: more than two frequencies detected! Forced big_count_ to 4\n",
      "[19:24:48] /home/khadas/tvm/src/runtime/threading_backend.cc:343: Warning: more than two frequencies detected! Forced big_count_ to 4\n",
      "[19:24:48] /home/khadas/tvm/src/runtime/threading_backend.cc:343: Warning: more than two frequencies detected! Forced big_count_ to 4\n",
      "[19:24:49] /home/khadas/tvm/src/runtime/threading_backend.cc:343: Warning: more than two frequencies detected! Forced big_count_ to 4\n",
      "[19:24:49] /home/khadas/tvm/src/runtime/threading_backend.cc:343: Warning: more than two frequencies detected! Forced big_count_ to 4\n"
     ]
    },
    {
     "name": "stdout",
     "output_type": "stream",
     "text": [
      "[Task 10/16]  Current/Best:    1.56/   9.47 GFLOPS | Progress: (144/1500) | 168.73 s"
     ]
    },
    {
     "name": "stderr",
     "output_type": "stream",
     "text": [
      "[19:25:03] /home/khadas/tvm/src/runtime/threading_backend.cc:343: Warning: more than two frequencies detected! Forced big_count_ to 4\n",
      "[19:25:04] /home/khadas/tvm/src/runtime/threading_backend.cc:343: Warning: more than two frequencies detected! Forced big_count_ to 4\n",
      "[19:25:04] /home/khadas/tvm/src/runtime/threading_backend.cc:343: Warning: more than two frequencies detected! Forced big_count_ to 4\n"
     ]
    },
    {
     "name": "stdout",
     "output_type": "stream",
     "text": [
      "[Task 10/16]  Current/Best:    2.51/   9.47 GFLOPS | Progress: (152/1500) | 184.27 s"
     ]
    },
    {
     "name": "stderr",
     "output_type": "stream",
     "text": [
      "[19:25:04] /home/khadas/tvm/src/runtime/threading_backend.cc:343: Warning: more than two frequencies detected! Forced big_count_ to 4\n",
      "[19:25:19] /home/khadas/tvm/src/runtime/threading_backend.cc:343: Warning: more than two frequencies detected! Forced big_count_ to 4\n",
      "[19:25:19] /home/khadas/tvm/src/runtime/threading_backend.cc:343: Warning: more than two frequencies detected! Forced big_count_ to 4\n",
      "[19:25:19] /home/khadas/tvm/src/runtime/threading_backend.cc:343: Warning: more than two frequencies detected! Forced big_count_ to 4\n"
     ]
    },
    {
     "name": "stdout",
     "output_type": "stream",
     "text": [
      "[Task 10/16]  Current/Best:    3.37/   9.47 GFLOPS | Progress: (160/1500) | 198.95 s"
     ]
    },
    {
     "name": "stderr",
     "output_type": "stream",
     "text": [
      "[19:25:34] /home/khadas/tvm/src/runtime/threading_backend.cc:343: Warning: more than two frequencies detected! Forced big_count_ to 4\n",
      "[19:25:34] /home/khadas/tvm/src/runtime/threading_backend.cc:343: Warning: more than two frequencies detected! Forced big_count_ to 4\n"
     ]
    },
    {
     "name": "stdout",
     "output_type": "stream",
     "text": [
      "[Task 10/16]  Current/Best:    3.55/   9.47 GFLOPS | Progress: (168/1500) | 214.22 s"
     ]
    },
    {
     "name": "stderr",
     "output_type": "stream",
     "text": [
      "[19:25:34] /home/khadas/tvm/src/runtime/threading_backend.cc:343: Warning: more than two frequencies detected! Forced big_count_ to 4\n",
      "[19:25:49] /home/khadas/tvm/src/runtime/threading_backend.cc:343: Warning: more than two frequencies detected! Forced big_count_ to 4\n",
      "[19:25:49] /home/khadas/tvm/src/runtime/threading_backend.cc:343: Warning: more than two frequencies detected! Forced big_count_ to 4\n"
     ]
    },
    {
     "name": "stdout",
     "output_type": "stream",
     "text": [
      "[Task 10/16]  Current/Best:    1.26/   9.47 GFLOPS | Progress: (176/1500) | 229.44 s"
     ]
    },
    {
     "name": "stderr",
     "output_type": "stream",
     "text": [
      "[19:25:49] /home/khadas/tvm/src/runtime/threading_backend.cc:343: Warning: more than two frequencies detected! Forced big_count_ to 4\n"
     ]
    },
    {
     "name": "stdout",
     "output_type": "stream",
     "text": [
      " Done.\n",
      "[Task 11/16]  Current/Best:    3.26/   7.10 GFLOPS | Progress: (8/1500) | 6.43 s"
     ]
    },
    {
     "name": "stderr",
     "output_type": "stream",
     "text": [
      "[19:26:14] /home/khadas/tvm/src/runtime/threading_backend.cc:343: Warning: more than two frequencies detected! Forced big_count_ to 4\n"
     ]
    },
    {
     "name": "stdout",
     "output_type": "stream",
     "text": [
      "[Task 11/16]  Current/Best:    5.92/   7.10 GFLOPS | Progress: (24/1500) | 10.81 s"
     ]
    },
    {
     "name": "stderr",
     "output_type": "stream",
     "text": [
      "[19:26:17] /home/khadas/tvm/src/runtime/threading_backend.cc:343: Warning: more than two frequencies detected! Forced big_count_ to 4\n"
     ]
    },
    {
     "name": "stdout",
     "output_type": "stream",
     "text": [
      "[Task 11/16]  Current/Best:    6.47/   7.10 GFLOPS | Progress: (32/1500) | 12.56 s"
     ]
    },
    {
     "name": "stderr",
     "output_type": "stream",
     "text": [
      "[19:26:19] /home/khadas/tvm/src/runtime/threading_backend.cc:343: Warning: more than two frequencies detected! Forced big_count_ to 4\n",
      "[19:26:20] /home/khadas/tvm/src/runtime/threading_backend.cc:343: Warning: more than two frequencies detected! Forced big_count_ to 4\n",
      "[19:26:20] /home/khadas/tvm/src/runtime/threading_backend.cc:343: Warning: more than two frequencies detected! Forced big_count_ to 4\n",
      "[19:26:20] /home/khadas/tvm/src/runtime/threading_backend.cc:343: Warning: more than two frequencies detected! Forced big_count_ to 4\n",
      "[19:26:21] /home/khadas/tvm/src/runtime/threading_backend.cc:343: Warning: more than two frequencies detected! Forced big_count_ to 4\n"
     ]
    },
    {
     "name": "stdout",
     "output_type": "stream",
     "text": [
      "[Task 11/16]  Current/Best:    5.98/   7.10 GFLOPS | Progress: (48/1500) | 17.07 s"
     ]
    },
    {
     "name": "stderr",
     "output_type": "stream",
     "text": [
      "[19:26:23] /home/khadas/tvm/src/runtime/threading_backend.cc:343: Warning: more than two frequencies detected! Forced big_count_ to 4\n",
      "[19:26:25] /home/khadas/tvm/src/runtime/threading_backend.cc:343: Warning: more than two frequencies detected! Forced big_count_ to 4\n",
      "[19:26:25] /home/khadas/tvm/src/runtime/threading_backend.cc:343: Warning: more than two frequencies detected! Forced big_count_ to 4\n"
     ]
    },
    {
     "name": "stdout",
     "output_type": "stream",
     "text": [
      "[Task 11/16]  Current/Best:    6.56/   7.10 GFLOPS | Progress: (56/1500) | 19.10 s"
     ]
    },
    {
     "name": "stderr",
     "output_type": "stream",
     "text": [
      "[19:26:29] /home/khadas/tvm/src/runtime/threading_backend.cc:343: Warning: more than two frequencies detected! Forced big_count_ to 4\n",
      "[19:26:29] /home/khadas/tvm/src/runtime/threading_backend.cc:343: Warning: more than two frequencies detected! Forced big_count_ to 4\n",
      "[19:26:29] /home/khadas/tvm/src/runtime/threading_backend.cc:343: Warning: more than two frequencies detected! Forced big_count_ to 4\n"
     ]
    },
    {
     "name": "stdout",
     "output_type": "stream",
     "text": [
      "[Task 11/16]  Current/Best:    6.40/   7.10 GFLOPS | Progress: (64/1500) | 28.31 s"
     ]
    },
    {
     "name": "stderr",
     "output_type": "stream",
     "text": [
      "[19:26:35] /home/khadas/tvm/src/runtime/threading_backend.cc:343: Warning: more than two frequencies detected! Forced big_count_ to 4\n",
      "[19:26:35] /home/khadas/tvm/src/runtime/threading_backend.cc:343: Warning: more than two frequencies detected! Forced big_count_ to 4\n",
      "[19:26:36] /home/khadas/tvm/src/runtime/threading_backend.cc:343: Warning: more than two frequencies detected! Forced big_count_ to 4\n",
      "[19:26:36] /home/khadas/tvm/src/runtime/threading_backend.cc:343: Warning: more than two frequencies detected! Forced big_count_ to 4\n"
     ]
    },
    {
     "name": "stdout",
     "output_type": "stream",
     "text": [
      "[Task 11/16]  Current/Best:    4.27/   7.10 GFLOPS | Progress: (72/1500) | 30.13 s"
     ]
    },
    {
     "name": "stderr",
     "output_type": "stream",
     "text": [
      "[19:26:37] /home/khadas/tvm/src/runtime/threading_backend.cc:343: Warning: more than two frequencies detected! Forced big_count_ to 4\n",
      "[19:26:37] /home/khadas/tvm/src/runtime/threading_backend.cc:343: Warning: more than two frequencies detected! Forced big_count_ to 4\n",
      "[19:26:37] /home/khadas/tvm/src/runtime/threading_backend.cc:343: Warning: more than two frequencies detected! Forced big_count_ to 4\n",
      "[19:26:38] /home/khadas/tvm/src/runtime/threading_backend.cc:343: Warning: more than two frequencies detected! Forced big_count_ to 4\n",
      "[19:26:38] /home/khadas/tvm/src/runtime/threading_backend.cc:343: Warning: more than two frequencies detected! Forced big_count_ to 4\n",
      "[19:26:38] /home/khadas/tvm/src/runtime/threading_backend.cc:343: Warning: more than two frequencies detected! Forced big_count_ to 4\n"
     ]
    },
    {
     "name": "stdout",
     "output_type": "stream",
     "text": [
      "[Task 11/16]  Current/Best:    6.98/   7.10 GFLOPS | Progress: (80/1500) | 32.17 s"
     ]
    },
    {
     "name": "stderr",
     "output_type": "stream",
     "text": [
      "[19:26:38] /home/khadas/tvm/src/runtime/threading_backend.cc:343: Warning: more than two frequencies detected! Forced big_count_ to 4\n",
      "[19:26:39] /home/khadas/tvm/src/runtime/threading_backend.cc:343: Warning: more than two frequencies detected! Forced big_count_ to 4\n",
      "[19:26:40] /home/khadas/tvm/src/runtime/threading_backend.cc:343: Warning: more than two frequencies detected! Forced big_count_ to 4\n",
      "[19:26:40] /home/khadas/tvm/src/runtime/threading_backend.cc:343: Warning: more than two frequencies detected! Forced big_count_ to 4\n",
      "[19:26:40] /home/khadas/tvm/src/runtime/threading_backend.cc:343: Warning: more than two frequencies detected! Forced big_count_ to 4\n",
      "[19:26:40] /home/khadas/tvm/src/runtime/threading_backend.cc:343: Warning: more than two frequencies detected! Forced big_count_ to 4\n",
      "[19:26:41] /home/khadas/tvm/src/runtime/threading_backend.cc:343: Warning: more than two frequencies detected! Forced big_count_ to 4\n"
     ]
    },
    {
     "name": "stdout",
     "output_type": "stream",
     "text": [
      "[Task 11/16]  Current/Best:    6.55/   7.10 GFLOPS | Progress: (88/1500) | 34.51 s"
     ]
    },
    {
     "name": "stderr",
     "output_type": "stream",
     "text": [
      "[19:26:41] /home/khadas/tvm/src/runtime/threading_backend.cc:343: Warning: more than two frequencies detected! Forced big_count_ to 4\n",
      "[19:26:41] /home/khadas/tvm/src/runtime/threading_backend.cc:343: Warning: more than two frequencies detected! Forced big_count_ to 4\n",
      "[19:26:42] /home/khadas/tvm/src/runtime/threading_backend.cc:343: Warning: more than two frequencies detected! Forced big_count_ to 4\n",
      "[19:26:42] /home/khadas/tvm/src/runtime/threading_backend.cc:343: Warning: more than two frequencies detected! Forced big_count_ to 4\n"
     ]
    },
    {
     "name": "stdout",
     "output_type": "stream",
     "text": [
      "[Task 11/16]  Current/Best:    3.29/   7.10 GFLOPS | Progress: (96/1500) | 36.52 s"
     ]
    },
    {
     "name": "stderr",
     "output_type": "stream",
     "text": [
      "[19:26:43] /home/khadas/tvm/src/runtime/threading_backend.cc:343: Warning: more than two frequencies detected! Forced big_count_ to 4\n",
      "[19:26:43] /home/khadas/tvm/src/runtime/threading_backend.cc:343: Warning: more than two frequencies detected! Forced big_count_ to 4\n",
      "[19:26:44] /home/khadas/tvm/src/runtime/threading_backend.cc:343: Warning: more than two frequencies detected! Forced big_count_ to 4\n",
      "[19:26:44] /home/khadas/tvm/src/runtime/threading_backend.cc:343: Warning: more than two frequencies detected! Forced big_count_ to 4\n",
      "[19:26:44] /home/khadas/tvm/src/runtime/threading_backend.cc:343: Warning: more than two frequencies detected! Forced big_count_ to 4\n",
      "[19:26:44] /home/khadas/tvm/src/runtime/threading_backend.cc:343: Warning: more than two frequencies detected! Forced big_count_ to 4\n",
      "[19:26:44] /home/khadas/tvm/src/runtime/threading_backend.cc:343: Warning: more than two frequencies detected! Forced big_count_ to 4\n",
      "[19:26:45] /home/khadas/tvm/src/runtime/threading_backend.cc:343: Warning: more than two frequencies detected! Forced big_count_ to 4\n"
     ]
    },
    {
     "name": "stdout",
     "output_type": "stream",
     "text": [
      "[Task 11/16]  Current/Best:    5.52/   7.10 GFLOPS | Progress: (104/1500) | 38.75 s"
     ]
    },
    {
     "name": "stderr",
     "output_type": "stream",
     "text": [
      "[19:26:45] /home/khadas/tvm/src/runtime/threading_backend.cc:343: Warning: more than two frequencies detected! Forced big_count_ to 4\n"
     ]
    },
    {
     "name": "stdout",
     "output_type": "stream",
     "text": [
      " Done.\n",
      "[Task 12/16]  Current/Best:    0.00/   0.00 GFLOPS | Progress: (0/1500) | 0.00 s"
     ]
    },
    {
     "name": "stderr",
     "output_type": "stream",
     "text": [
      "[19:26:56] /home/khadas/tvm/src/runtime/threading_backend.cc:343: Warning: more than two frequencies detected! Forced big_count_ to 4\n",
      "[19:26:56] /home/khadas/tvm/src/runtime/threading_backend.cc:343: Warning: more than two frequencies detected! Forced big_count_ to 4\n",
      "[19:26:56] /home/khadas/tvm/src/runtime/threading_backend.cc:343: Warning: more than two frequencies detected! Forced big_count_ to 4\n",
      "[19:26:56] /home/khadas/tvm/src/runtime/threading_backend.cc:343: Warning: more than two frequencies detected! Forced big_count_ to 4\n",
      "[19:26:57] /home/khadas/tvm/src/runtime/threading_backend.cc:343: Warning: more than two frequencies detected! Forced big_count_ to 4\n",
      "[19:26:57] /home/khadas/tvm/src/runtime/threading_backend.cc:343: Warning: more than two frequencies detected! Forced big_count_ to 4\n",
      "[19:26:57] /home/khadas/tvm/src/runtime/threading_backend.cc:343: Warning: more than two frequencies detected! Forced big_count_ to 4\n"
     ]
    },
    {
     "name": "stdout",
     "output_type": "stream",
     "text": [
      "[Task 12/16]  Current/Best:    2.95/   5.77 GFLOPS | Progress: (8/1500) | 5.37 s"
     ]
    },
    {
     "name": "stderr",
     "output_type": "stream",
     "text": [
      "[19:26:57] /home/khadas/tvm/src/runtime/threading_backend.cc:343: Warning: more than two frequencies detected! Forced big_count_ to 4\n",
      "[19:27:07] /home/khadas/tvm/src/runtime/threading_backend.cc:343: Warning: more than two frequencies detected! Forced big_count_ to 4\n",
      "[19:27:08] /home/khadas/tvm/src/runtime/threading_backend.cc:343: Warning: more than two frequencies detected! Forced big_count_ to 4\n",
      "[19:27:08] /home/khadas/tvm/src/runtime/threading_backend.cc:343: Warning: more than two frequencies detected! Forced big_count_ to 4\n",
      "[19:27:08] /home/khadas/tvm/src/runtime/threading_backend.cc:343: Warning: more than two frequencies detected! Forced big_count_ to 4\n",
      "[19:27:08] /home/khadas/tvm/src/runtime/threading_backend.cc:343: Warning: more than two frequencies detected! Forced big_count_ to 4\n",
      "[19:27:08] /home/khadas/tvm/src/runtime/threading_backend.cc:343: Warning: more than two frequencies detected! Forced big_count_ to 4\n"
     ]
    },
    {
     "name": "stdout",
     "output_type": "stream",
     "text": [
      "[Task 12/16]  Current/Best:    2.44/   5.94 GFLOPS | Progress: (16/1500) | 16.77 s"
     ]
    },
    {
     "name": "stderr",
     "output_type": "stream",
     "text": [
      "[19:27:08] /home/khadas/tvm/src/runtime/threading_backend.cc:343: Warning: more than two frequencies detected! Forced big_count_ to 4\n",
      "[19:27:19] /home/khadas/tvm/src/runtime/threading_backend.cc:343: Warning: more than two frequencies detected! Forced big_count_ to 4\n",
      "[19:27:19] /home/khadas/tvm/src/runtime/threading_backend.cc:343: Warning: more than two frequencies detected! Forced big_count_ to 4\n",
      "[19:27:19] /home/khadas/tvm/src/runtime/threading_backend.cc:343: Warning: more than two frequencies detected! Forced big_count_ to 4\n",
      "[19:27:20] /home/khadas/tvm/src/runtime/threading_backend.cc:343: Warning: more than two frequencies detected! Forced big_count_ to 4\n",
      "[19:27:20] /home/khadas/tvm/src/runtime/threading_backend.cc:343: Warning: more than two frequencies detected! Forced big_count_ to 4\n"
     ]
    },
    {
     "name": "stdout",
     "output_type": "stream",
     "text": [
      "[Task 12/16]  Current/Best:    5.15/   5.94 GFLOPS | Progress: (24/1500) | 28.05 s"
     ]
    },
    {
     "name": "stderr",
     "output_type": "stream",
     "text": [
      "[19:27:30] /home/khadas/tvm/src/runtime/threading_backend.cc:343: Warning: more than two frequencies detected! Forced big_count_ to 4\n",
      "[19:27:30] /home/khadas/tvm/src/runtime/threading_backend.cc:343: Warning: more than two frequencies detected! Forced big_count_ to 4\n",
      "[19:27:30] /home/khadas/tvm/src/runtime/threading_backend.cc:343: Warning: more than two frequencies detected! Forced big_count_ to 4\n",
      "[19:27:31] /home/khadas/tvm/src/runtime/threading_backend.cc:343: Warning: more than two frequencies detected! Forced big_count_ to 4\n",
      "[19:27:31] /home/khadas/tvm/src/runtime/threading_backend.cc:343: Warning: more than two frequencies detected! Forced big_count_ to 4\n"
     ]
    },
    {
     "name": "stdout",
     "output_type": "stream",
     "text": [
      "[Task 12/16]  Current/Best:    2.52/   6.66 GFLOPS | Progress: (32/1500) | 39.27 s"
     ]
    },
    {
     "name": "stderr",
     "output_type": "stream",
     "text": [
      "[19:27:31] /home/khadas/tvm/src/runtime/threading_backend.cc:343: Warning: more than two frequencies detected! Forced big_count_ to 4\n",
      "[19:27:44] /home/khadas/tvm/src/runtime/threading_backend.cc:343: Warning: more than two frequencies detected! Forced big_count_ to 4\n",
      "[19:27:44] /home/khadas/tvm/src/runtime/threading_backend.cc:343: Warning: more than two frequencies detected! Forced big_count_ to 4\n",
      "[19:27:45] /home/khadas/tvm/src/runtime/threading_backend.cc:343: Warning: more than two frequencies detected! Forced big_count_ to 4\n",
      "[19:27:45] /home/khadas/tvm/src/runtime/threading_backend.cc:343: Warning: more than two frequencies detected! Forced big_count_ to 4\n",
      "[19:27:45] /home/khadas/tvm/src/runtime/threading_backend.cc:343: Warning: more than two frequencies detected! Forced big_count_ to 4\n"
     ]
    },
    {
     "name": "stdout",
     "output_type": "stream",
     "text": [
      "[Task 12/16]  Current/Best:    2.75/   6.66 GFLOPS | Progress: (40/1500) | 53.56 s"
     ]
    },
    {
     "name": "stderr",
     "output_type": "stream",
     "text": [
      "[19:27:48] /home/khadas/tvm/src/runtime/threading_backend.cc:343: Warning: more than two frequencies detected! Forced big_count_ to 4\n",
      "[19:27:48] /home/khadas/tvm/src/runtime/threading_backend.cc:343: Warning: more than two frequencies detected! Forced big_count_ to 4\n",
      "[19:27:48] /home/khadas/tvm/src/runtime/threading_backend.cc:343: Warning: more than two frequencies detected! Forced big_count_ to 4\n",
      "[19:27:48] /home/khadas/tvm/src/runtime/threading_backend.cc:343: Warning: more than two frequencies detected! Forced big_count_ to 4\n",
      "[19:27:48] /home/khadas/tvm/src/runtime/threading_backend.cc:343: Warning: more than two frequencies detected! Forced big_count_ to 4\n",
      "[19:27:49] /home/khadas/tvm/src/runtime/threading_backend.cc:343: Warning: more than two frequencies detected! Forced big_count_ to 4\n",
      "[19:27:49] /home/khadas/tvm/src/runtime/threading_backend.cc:343: Warning: more than two frequencies detected! Forced big_count_ to 4\n"
     ]
    },
    {
     "name": "stdout",
     "output_type": "stream",
     "text": [
      "[Task 12/16]  Current/Best:    5.27/   6.66 GFLOPS | Progress: (48/1500) | 57.32 s"
     ]
    },
    {
     "name": "stderr",
     "output_type": "stream",
     "text": [
      "[19:27:49] /home/khadas/tvm/src/runtime/threading_backend.cc:343: Warning: more than two frequencies detected! Forced big_count_ to 4\n",
      "[19:27:59] /home/khadas/tvm/src/runtime/threading_backend.cc:343: Warning: more than two frequencies detected! Forced big_count_ to 4\n",
      "[19:28:00] /home/khadas/tvm/src/runtime/threading_backend.cc:343: Warning: more than two frequencies detected! Forced big_count_ to 4\n",
      "[19:28:00] /home/khadas/tvm/src/runtime/threading_backend.cc:343: Warning: more than two frequencies detected! Forced big_count_ to 4\n",
      "[19:28:00] /home/khadas/tvm/src/runtime/threading_backend.cc:343: Warning: more than two frequencies detected! Forced big_count_ to 4\n"
     ]
    },
    {
     "name": "stdout",
     "output_type": "stream",
     "text": [
      "[Task 12/16]  Current/Best:    3.30/   6.66 GFLOPS | Progress: (56/1500) | 68.40 s"
     ]
    },
    {
     "name": "stderr",
     "output_type": "stream",
     "text": [
      "[19:28:00] /home/khadas/tvm/src/runtime/threading_backend.cc:343: Warning: more than two frequencies detected! Forced big_count_ to 4\n",
      "[19:28:13] /home/khadas/tvm/src/runtime/threading_backend.cc:343: Warning: more than two frequencies detected! Forced big_count_ to 4\n",
      "[19:28:13] /home/khadas/tvm/src/runtime/threading_backend.cc:343: Warning: more than two frequencies detected! Forced big_count_ to 4\n",
      "[19:28:14] /home/khadas/tvm/src/runtime/threading_backend.cc:343: Warning: more than two frequencies detected! Forced big_count_ to 4\n",
      "[19:28:14] /home/khadas/tvm/src/runtime/threading_backend.cc:343: Warning: more than two frequencies detected! Forced big_count_ to 4\n",
      "[19:28:14] /home/khadas/tvm/src/runtime/threading_backend.cc:343: Warning: more than two frequencies detected! Forced big_count_ to 4\n",
      "[19:28:14] /home/khadas/tvm/src/runtime/threading_backend.cc:343: Warning: more than two frequencies detected! Forced big_count_ to 4\n",
      "[19:28:14] /home/khadas/tvm/src/runtime/threading_backend.cc:343: Warning: more than two frequencies detected! Forced big_count_ to 4\n"
     ]
    },
    {
     "name": "stdout",
     "output_type": "stream",
     "text": [
      "[Task 12/16]  Current/Best:    2.07/   6.66 GFLOPS | Progress: (64/1500) | 89.21 s"
     ]
    },
    {
     "name": "stderr",
     "output_type": "stream",
     "text": [
      "[19:28:23] /home/khadas/tvm/src/runtime/threading_backend.cc:343: Warning: more than two frequencies detected! Forced big_count_ to 4\n",
      "[19:28:23] /home/khadas/tvm/src/runtime/threading_backend.cc:343: Warning: more than two frequencies detected! Forced big_count_ to 4\n",
      "[19:28:24] /home/khadas/tvm/src/runtime/threading_backend.cc:343: Warning: more than two frequencies detected! Forced big_count_ to 4\n",
      "[19:28:24] /home/khadas/tvm/src/runtime/threading_backend.cc:343: Warning: more than two frequencies detected! Forced big_count_ to 4\n",
      "[19:28:24] /home/khadas/tvm/src/runtime/threading_backend.cc:343: Warning: more than two frequencies detected! Forced big_count_ to 4\n",
      "[19:28:24] /home/khadas/tvm/src/runtime/threading_backend.cc:343: Warning: more than two frequencies detected! Forced big_count_ to 4\n",
      "[19:28:24] /home/khadas/tvm/src/runtime/threading_backend.cc:343: Warning: more than two frequencies detected! Forced big_count_ to 4\n"
     ]
    },
    {
     "name": "stdout",
     "output_type": "stream",
     "text": [
      "[Task 12/16]  Current/Best:    6.65/   6.68 GFLOPS | Progress: (72/1500) | 92.77 s"
     ]
    },
    {
     "name": "stderr",
     "output_type": "stream",
     "text": [
      "[19:28:24] /home/khadas/tvm/src/runtime/threading_backend.cc:343: Warning: more than two frequencies detected! Forced big_count_ to 4\n",
      "[19:28:25] /home/khadas/tvm/src/runtime/threading_backend.cc:343: Warning: more than two frequencies detected! Forced big_count_ to 4\n",
      "[19:28:25] /home/khadas/tvm/src/runtime/threading_backend.cc:343: Warning: more than two frequencies detected! Forced big_count_ to 4\n",
      "[19:28:25] /home/khadas/tvm/src/runtime/threading_backend.cc:343: Warning: more than two frequencies detected! Forced big_count_ to 4\n",
      "[19:28:26] /home/khadas/tvm/src/runtime/threading_backend.cc:343: Warning: more than two frequencies detected! Forced big_count_ to 4\n",
      "[19:28:26] /home/khadas/tvm/src/runtime/threading_backend.cc:343: Warning: more than two frequencies detected! Forced big_count_ to 4\n",
      "[19:28:26] /home/khadas/tvm/src/runtime/threading_backend.cc:343: Warning: more than two frequencies detected! Forced big_count_ to 4\n",
      "[19:28:26] /home/khadas/tvm/src/runtime/threading_backend.cc:343: Warning: more than two frequencies detected! Forced big_count_ to 4\n"
     ]
    },
    {
     "name": "stdout",
     "output_type": "stream",
     "text": [
      "[Task 12/16]  Current/Best:    2.89/   6.83 GFLOPS | Progress: (80/1500) | 94.65 s"
     ]
    },
    {
     "name": "stderr",
     "output_type": "stream",
     "text": [
      "[19:28:26] /home/khadas/tvm/src/runtime/threading_backend.cc:343: Warning: more than two frequencies detected! Forced big_count_ to 4\n",
      "[19:28:27] /home/khadas/tvm/src/runtime/threading_backend.cc:343: Warning: more than two frequencies detected! Forced big_count_ to 4\n",
      "[19:28:27] /home/khadas/tvm/src/runtime/threading_backend.cc:343: Warning: more than two frequencies detected! Forced big_count_ to 4\n",
      "[19:28:27] /home/khadas/tvm/src/runtime/threading_backend.cc:343: Warning: more than two frequencies detected! Forced big_count_ to 4\n",
      "[19:28:27] /home/khadas/tvm/src/runtime/threading_backend.cc:343: Warning: more than two frequencies detected! Forced big_count_ to 4\n",
      "[19:28:28] /home/khadas/tvm/src/runtime/threading_backend.cc:343: Warning: more than two frequencies detected! Forced big_count_ to 4\n",
      "[19:28:28] /home/khadas/tvm/src/runtime/threading_backend.cc:343: Warning: more than two frequencies detected! Forced big_count_ to 4\n",
      "[19:28:28] /home/khadas/tvm/src/runtime/threading_backend.cc:343: Warning: more than two frequencies detected! Forced big_count_ to 4\n",
      "[19:28:28] /home/khadas/tvm/src/runtime/threading_backend.cc:343: Warning: more than two frequencies detected! Forced big_count_ to 4\n"
     ]
    },
    {
     "name": "stdout",
     "output_type": "stream",
     "text": [
      "[Task 12/16]  Current/Best:    3.74/   6.83 GFLOPS | Progress: (88/1500) | 96.54 s"
     ]
    },
    {
     "name": "stderr",
     "output_type": "stream",
     "text": [
      "[19:28:29] /home/khadas/tvm/src/runtime/threading_backend.cc:343: Warning: more than two frequencies detected! Forced big_count_ to 4\n",
      "[19:28:29] /home/khadas/tvm/src/runtime/threading_backend.cc:343: Warning: more than two frequencies detected! Forced big_count_ to 4\n",
      "[19:28:29] /home/khadas/tvm/src/runtime/threading_backend.cc:343: Warning: more than two frequencies detected! Forced big_count_ to 4\n",
      "[19:28:30] /home/khadas/tvm/src/runtime/threading_backend.cc:343: Warning: more than two frequencies detected! Forced big_count_ to 4\n",
      "[19:28:30] /home/khadas/tvm/src/runtime/threading_backend.cc:343: Warning: more than two frequencies detected! Forced big_count_ to 4\n",
      "[19:28:30] /home/khadas/tvm/src/runtime/threading_backend.cc:343: Warning: more than two frequencies detected! Forced big_count_ to 4\n",
      "[19:28:30] /home/khadas/tvm/src/runtime/threading_backend.cc:343: Warning: more than two frequencies detected! Forced big_count_ to 4\n"
     ]
    },
    {
     "name": "stdout",
     "output_type": "stream",
     "text": [
      "[Task 12/16]  Current/Best:    1.74/   6.83 GFLOPS | Progress: (96/1500) | 98.62 s"
     ]
    },
    {
     "name": "stderr",
     "output_type": "stream",
     "text": [
      "[19:28:30] /home/khadas/tvm/src/runtime/threading_backend.cc:343: Warning: more than two frequencies detected! Forced big_count_ to 4\n",
      "[19:28:31] /home/khadas/tvm/src/runtime/threading_backend.cc:343: Warning: more than two frequencies detected! Forced big_count_ to 4\n",
      "[19:28:31] /home/khadas/tvm/src/runtime/threading_backend.cc:343: Warning: more than two frequencies detected! Forced big_count_ to 4\n",
      "[19:28:32] /home/khadas/tvm/src/runtime/threading_backend.cc:343: Warning: more than two frequencies detected! Forced big_count_ to 4\n",
      "[19:28:32] /home/khadas/tvm/src/runtime/threading_backend.cc:343: Warning: more than two frequencies detected! Forced big_count_ to 4\n",
      "[19:28:32] /home/khadas/tvm/src/runtime/threading_backend.cc:343: Warning: more than two frequencies detected! Forced big_count_ to 4\n",
      "[19:28:32] /home/khadas/tvm/src/runtime/threading_backend.cc:343: Warning: more than two frequencies detected! Forced big_count_ to 4\n",
      "[19:28:32] /home/khadas/tvm/src/runtime/threading_backend.cc:343: Warning: more than two frequencies detected! Forced big_count_ to 4\n",
      "[19:28:33] /home/khadas/tvm/src/runtime/threading_backend.cc:343: Warning: more than two frequencies detected! Forced big_count_ to 4\n"
     ]
    },
    {
     "name": "stdout",
     "output_type": "stream",
     "text": [
      "[Task 12/16]  Current/Best:    3.16/   6.83 GFLOPS | Progress: (104/1500) | 100.82 s"
     ]
    },
    {
     "name": "stderr",
     "output_type": "stream",
     "text": [
      "[19:28:43] /home/khadas/tvm/src/runtime/threading_backend.cc:343: Warning: more than two frequencies detected! Forced big_count_ to 4\n",
      "[19:28:43] /home/khadas/tvm/src/runtime/threading_backend.cc:343: Warning: more than two frequencies detected! Forced big_count_ to 4\n",
      "[19:28:43] /home/khadas/tvm/src/runtime/threading_backend.cc:343: Warning: more than two frequencies detected! Forced big_count_ to 4\n",
      "[19:28:43] /home/khadas/tvm/src/runtime/threading_backend.cc:343: Warning: more than two frequencies detected! Forced big_count_ to 4\n",
      "[19:28:44] /home/khadas/tvm/src/runtime/threading_backend.cc:343: Warning: more than two frequencies detected! Forced big_count_ to 4\n"
     ]
    },
    {
     "name": "stdout",
     "output_type": "stream",
     "text": [
      "[Task 12/16]  Current/Best:    3.37/   6.83 GFLOPS | Progress: (112/1500) | 112.35 s"
     ]
    },
    {
     "name": "stderr",
     "output_type": "stream",
     "text": [
      "[19:28:44] /home/khadas/tvm/src/runtime/threading_backend.cc:343: Warning: more than two frequencies detected! Forced big_count_ to 4\n",
      "[19:28:54] /home/khadas/tvm/src/runtime/threading_backend.cc:343: Warning: more than two frequencies detected! Forced big_count_ to 4\n",
      "[19:28:55] /home/khadas/tvm/src/runtime/threading_backend.cc:343: Warning: more than two frequencies detected! Forced big_count_ to 4\n",
      "[19:28:55] /home/khadas/tvm/src/runtime/threading_backend.cc:343: Warning: more than two frequencies detected! Forced big_count_ to 4\n",
      "[19:28:55] /home/khadas/tvm/src/runtime/threading_backend.cc:343: Warning: more than two frequencies detected! Forced big_count_ to 4\n",
      "[19:28:55] /home/khadas/tvm/src/runtime/threading_backend.cc:343: Warning: more than two frequencies detected! Forced big_count_ to 4\n",
      "[19:28:55] /home/khadas/tvm/src/runtime/threading_backend.cc:343: Warning: more than two frequencies detected! Forced big_count_ to 4\n",
      "[19:28:56] /home/khadas/tvm/src/runtime/threading_backend.cc:343: Warning: more than two frequencies detected! Forced big_count_ to 4\n"
     ]
    },
    {
     "name": "stdout",
     "output_type": "stream",
     "text": [
      "[Task 12/16]  Current/Best:    2.15/   6.83 GFLOPS | Progress: (120/1500) | 123.82 s"
     ]
    },
    {
     "name": "stderr",
     "output_type": "stream",
     "text": [
      "[19:29:06] /home/khadas/tvm/src/runtime/threading_backend.cc:343: Warning: more than two frequencies detected! Forced big_count_ to 4\n",
      "[19:29:06] /home/khadas/tvm/src/runtime/threading_backend.cc:343: Warning: more than two frequencies detected! Forced big_count_ to 4\n",
      "[19:29:06] /home/khadas/tvm/src/runtime/threading_backend.cc:343: Warning: more than two frequencies detected! Forced big_count_ to 4\n",
      "[19:29:07] /home/khadas/tvm/src/runtime/threading_backend.cc:343: Warning: more than two frequencies detected! Forced big_count_ to 4\n",
      "[19:29:07] /home/khadas/tvm/src/runtime/threading_backend.cc:343: Warning: more than two frequencies detected! Forced big_count_ to 4\n"
     ]
    },
    {
     "name": "stdout",
     "output_type": "stream",
     "text": [
      "[Task 12/16]  Current/Best:    3.27/   6.83 GFLOPS | Progress: (128/1500) | 136.70 s"
     ]
    },
    {
     "name": "stderr",
     "output_type": "stream",
     "text": [
      "[19:29:22] /home/khadas/tvm/src/runtime/threading_backend.cc:343: Warning: more than two frequencies detected! Forced big_count_ to 4\n",
      "[19:29:22] /home/khadas/tvm/src/runtime/threading_backend.cc:343: Warning: more than two frequencies detected! Forced big_count_ to 4\n",
      "[19:29:22] /home/khadas/tvm/src/runtime/threading_backend.cc:343: Warning: more than two frequencies detected! Forced big_count_ to 4\n"
     ]
    },
    {
     "name": "stdout",
     "output_type": "stream",
     "text": [
      "[Task 12/16]  Current/Best:    1.00/   6.83 GFLOPS | Progress: (136/1500) | 150.95 s"
     ]
    },
    {
     "name": "stderr",
     "output_type": "stream",
     "text": [
      "[19:29:23] /home/khadas/tvm/src/runtime/threading_backend.cc:343: Warning: more than two frequencies detected! Forced big_count_ to 4\n",
      "[19:29:33] /home/khadas/tvm/src/runtime/threading_backend.cc:343: Warning: more than two frequencies detected! Forced big_count_ to 4\n"
     ]
    },
    {
     "name": "stdout",
     "output_type": "stream",
     "text": [
      "[Task 12/16]  Current/Best:    1.15/   6.83 GFLOPS | Progress: (140/1500) | 161.42 s Done.\n",
      "[Task 13/16]  Current/Best:    5.94/   6.64 GFLOPS | Progress: (32/1500) | 11.43 s"
     ]
    },
    {
     "name": "stderr",
     "output_type": "stream",
     "text": [
      "[19:30:01] /home/khadas/tvm/src/runtime/threading_backend.cc:343: Warning: more than two frequencies detected! Forced big_count_ to 4\n",
      "[19:30:02] /home/khadas/tvm/src/runtime/threading_backend.cc:343: Warning: more than two frequencies detected! Forced big_count_ to 4\n",
      "[19:30:02] /home/khadas/tvm/src/runtime/threading_backend.cc:343: Warning: more than two frequencies detected! Forced big_count_ to 4\n"
     ]
    },
    {
     "name": "stdout",
     "output_type": "stream",
     "text": [
      "[Task 13/16]  Current/Best:    4.87/   6.64 GFLOPS | Progress: (40/1500) | 13.55 s"
     ]
    },
    {
     "name": "stderr",
     "output_type": "stream",
     "text": [
      "[19:30:03] /home/khadas/tvm/src/runtime/threading_backend.cc:343: Warning: more than two frequencies detected! Forced big_count_ to 4\n"
     ]
    },
    {
     "name": "stdout",
     "output_type": "stream",
     "text": [
      "[Task 13/16]  Current/Best:    6.25/   6.64 GFLOPS | Progress: (48/1500) | 15.49 s"
     ]
    },
    {
     "name": "stderr",
     "output_type": "stream",
     "text": [
      "[19:30:05] /home/khadas/tvm/src/runtime/threading_backend.cc:343: Warning: more than two frequencies detected! Forced big_count_ to 4\n",
      "[19:30:06] /home/khadas/tvm/src/runtime/threading_backend.cc:343: Warning: more than two frequencies detected! Forced big_count_ to 4\n",
      "[19:30:06] /home/khadas/tvm/src/runtime/threading_backend.cc:343: Warning: more than two frequencies detected! Forced big_count_ to 4\n",
      "[19:30:06] /home/khadas/tvm/src/runtime/threading_backend.cc:343: Warning: more than two frequencies detected! Forced big_count_ to 4\n"
     ]
    },
    {
     "name": "stdout",
     "output_type": "stream",
     "text": [
      "[Task 13/16]  Current/Best:    3.56/   6.64 GFLOPS | Progress: (56/1500) | 17.92 s"
     ]
    },
    {
     "name": "stderr",
     "output_type": "stream",
     "text": [
      "[19:30:07] /home/khadas/tvm/src/runtime/threading_backend.cc:343: Warning: more than two frequencies detected! Forced big_count_ to 4\n",
      "[19:30:09] /home/khadas/tvm/src/runtime/threading_backend.cc:343: Warning: more than two frequencies detected! Forced big_count_ to 4\n",
      "[19:30:09] /home/khadas/tvm/src/runtime/threading_backend.cc:343: Warning: more than two frequencies detected! Forced big_count_ to 4\n",
      "[19:30:09] /home/khadas/tvm/src/runtime/threading_backend.cc:343: Warning: more than two frequencies detected! Forced big_count_ to 4\n",
      "[19:30:09] /home/khadas/tvm/src/runtime/threading_backend.cc:343: Warning: more than two frequencies detected! Forced big_count_ to 4\n",
      "[19:30:09] /home/khadas/tvm/src/runtime/threading_backend.cc:343: Warning: more than two frequencies detected! Forced big_count_ to 4\n",
      "[19:30:10] /home/khadas/tvm/src/runtime/threading_backend.cc:343: Warning: more than two frequencies detected! Forced big_count_ to 4\n"
     ]
    },
    {
     "name": "stdout",
     "output_type": "stream",
     "text": [
      "[Task 13/16]  Current/Best:    2.98/   6.64 GFLOPS | Progress: (64/1500) | 23.32 s"
     ]
    },
    {
     "name": "stderr",
     "output_type": "stream",
     "text": [
      "[19:30:14] /home/khadas/tvm/src/runtime/threading_backend.cc:343: Warning: more than two frequencies detected! Forced big_count_ to 4\n",
      "[19:30:15] /home/khadas/tvm/src/runtime/threading_backend.cc:343: Warning: more than two frequencies detected! Forced big_count_ to 4\n",
      "[19:30:15] /home/khadas/tvm/src/runtime/threading_backend.cc:343: Warning: more than two frequencies detected! Forced big_count_ to 4\n",
      "[19:30:15] /home/khadas/tvm/src/runtime/threading_backend.cc:343: Warning: more than two frequencies detected! Forced big_count_ to 4\n",
      "[19:30:15] /home/khadas/tvm/src/runtime/threading_backend.cc:343: Warning: more than two frequencies detected! Forced big_count_ to 4\n"
     ]
    },
    {
     "name": "stdout",
     "output_type": "stream",
     "text": [
      "[Task 13/16]  Current/Best:    2.49/   6.64 GFLOPS | Progress: (72/1500) | 26.85 s"
     ]
    },
    {
     "name": "stderr",
     "output_type": "stream",
     "text": [
      "[19:30:16] /home/khadas/tvm/src/runtime/threading_backend.cc:343: Warning: more than two frequencies detected! Forced big_count_ to 4\n",
      "[19:30:17] /home/khadas/tvm/src/runtime/threading_backend.cc:343: Warning: more than two frequencies detected! Forced big_count_ to 4\n",
      "[19:30:17] /home/khadas/tvm/src/runtime/threading_backend.cc:343: Warning: more than two frequencies detected! Forced big_count_ to 4\n",
      "[19:30:17] /home/khadas/tvm/src/runtime/threading_backend.cc:343: Warning: more than two frequencies detected! Forced big_count_ to 4\n",
      "[19:30:17] /home/khadas/tvm/src/runtime/threading_backend.cc:343: Warning: more than two frequencies detected! Forced big_count_ to 4\n",
      "[19:30:17] /home/khadas/tvm/src/runtime/threading_backend.cc:343: Warning: more than two frequencies detected! Forced big_count_ to 4\n",
      "[19:30:18] /home/khadas/tvm/src/runtime/threading_backend.cc:343: Warning: more than two frequencies detected! Forced big_count_ to 4\n",
      "[19:30:18] /home/khadas/tvm/src/runtime/threading_backend.cc:343: Warning: more than two frequencies detected! Forced big_count_ to 4\n"
     ]
    },
    {
     "name": "stdout",
     "output_type": "stream",
     "text": [
      "[Task 13/16]  Current/Best:    2.29/   6.64 GFLOPS | Progress: (80/1500) | 29.28 s"
     ]
    },
    {
     "name": "stderr",
     "output_type": "stream",
     "text": [
      "[19:30:18] /home/khadas/tvm/src/runtime/threading_backend.cc:343: Warning: more than two frequencies detected! Forced big_count_ to 4\n",
      "[19:30:19] /home/khadas/tvm/src/runtime/threading_backend.cc:343: Warning: more than two frequencies detected! Forced big_count_ to 4\n",
      "[19:30:19] /home/khadas/tvm/src/runtime/threading_backend.cc:343: Warning: more than two frequencies detected! Forced big_count_ to 4\n",
      "[19:30:19] /home/khadas/tvm/src/runtime/threading_backend.cc:343: Warning: more than two frequencies detected! Forced big_count_ to 4\n",
      "[19:30:19] /home/khadas/tvm/src/runtime/threading_backend.cc:343: Warning: more than two frequencies detected! Forced big_count_ to 4\n",
      "[19:30:20] /home/khadas/tvm/src/runtime/threading_backend.cc:343: Warning: more than two frequencies detected! Forced big_count_ to 4\n",
      "[19:30:20] /home/khadas/tvm/src/runtime/threading_backend.cc:343: Warning: more than two frequencies detected! Forced big_count_ to 4\n",
      "[19:30:20] /home/khadas/tvm/src/runtime/threading_backend.cc:343: Warning: more than two frequencies detected! Forced big_count_ to 4\n",
      "[19:30:20] /home/khadas/tvm/src/runtime/threading_backend.cc:343: Warning: more than two frequencies detected! Forced big_count_ to 4\n"
     ]
    },
    {
     "name": "stdout",
     "output_type": "stream",
     "text": [
      "[Task 13/16]  Current/Best:    3.69/   6.64 GFLOPS | Progress: (88/1500) | 31.43 s"
     ]
    },
    {
     "name": "stderr",
     "output_type": "stream",
     "text": [
      "[19:30:22] /home/khadas/tvm/src/runtime/threading_backend.cc:343: Warning: more than two frequencies detected! Forced big_count_ to 4\n",
      "[19:30:23] /home/khadas/tvm/src/runtime/threading_backend.cc:343: Warning: more than two frequencies detected! Forced big_count_ to 4\n",
      "[19:30:23] /home/khadas/tvm/src/runtime/threading_backend.cc:343: Warning: more than two frequencies detected! Forced big_count_ to 4\n",
      "[19:30:23] /home/khadas/tvm/src/runtime/threading_backend.cc:343: Warning: more than two frequencies detected! Forced big_count_ to 4\n",
      "[19:30:23] /home/khadas/tvm/src/runtime/threading_backend.cc:343: Warning: more than two frequencies detected! Forced big_count_ to 4\n",
      "[19:30:23] /home/khadas/tvm/src/runtime/threading_backend.cc:343: Warning: more than two frequencies detected! Forced big_count_ to 4\n",
      "[19:30:23] /home/khadas/tvm/src/runtime/threading_backend.cc:343: Warning: more than two frequencies detected! Forced big_count_ to 4\n"
     ]
    },
    {
     "name": "stdout",
     "output_type": "stream",
     "text": [
      "[Task 13/16]  Current/Best:    3.68/   6.64 GFLOPS | Progress: (96/1500) | 34.94 s"
     ]
    },
    {
     "name": "stderr",
     "output_type": "stream",
     "text": [
      "[19:30:24] /home/khadas/tvm/src/runtime/threading_backend.cc:343: Warning: more than two frequencies detected! Forced big_count_ to 4\n",
      "[19:30:24] /home/khadas/tvm/src/runtime/threading_backend.cc:343: Warning: more than two frequencies detected! Forced big_count_ to 4\n",
      "[19:30:24] /home/khadas/tvm/src/runtime/threading_backend.cc:343: Warning: more than two frequencies detected! Forced big_count_ to 4\n",
      "[19:30:25] /home/khadas/tvm/src/runtime/threading_backend.cc:343: Warning: more than two frequencies detected! Forced big_count_ to 4\n",
      "[19:30:25] /home/khadas/tvm/src/runtime/threading_backend.cc:343: Warning: more than two frequencies detected! Forced big_count_ to 4\n",
      "[19:30:25] /home/khadas/tvm/src/runtime/threading_backend.cc:343: Warning: more than two frequencies detected! Forced big_count_ to 4\n",
      "[19:30:25] /home/khadas/tvm/src/runtime/threading_backend.cc:343: Warning: more than two frequencies detected! Forced big_count_ to 4\n",
      "[19:30:25] /home/khadas/tvm/src/runtime/threading_backend.cc:343: Warning: more than two frequencies detected! Forced big_count_ to 4\n"
     ]
    },
    {
     "name": "stdout",
     "output_type": "stream",
     "text": [
      "[Task 13/16]  Current/Best:    3.88/   6.64 GFLOPS | Progress: (104/1500) | 36.90 s"
     ]
    },
    {
     "name": "stderr",
     "output_type": "stream",
     "text": [
      "[19:30:26] /home/khadas/tvm/src/runtime/threading_backend.cc:343: Warning: more than two frequencies detected! Forced big_count_ to 4\n",
      "[19:30:26] /home/khadas/tvm/src/runtime/threading_backend.cc:343: Warning: more than two frequencies detected! Forced big_count_ to 4\n",
      "[19:30:26] /home/khadas/tvm/src/runtime/threading_backend.cc:343: Warning: more than two frequencies detected! Forced big_count_ to 4\n",
      "[19:30:26] /home/khadas/tvm/src/runtime/threading_backend.cc:343: Warning: more than two frequencies detected! Forced big_count_ to 4\n",
      "[19:30:27] /home/khadas/tvm/src/runtime/threading_backend.cc:343: Warning: more than two frequencies detected! Forced big_count_ to 4\n",
      "[19:30:27] /home/khadas/tvm/src/runtime/threading_backend.cc:343: Warning: more than two frequencies detected! Forced big_count_ to 4\n",
      "[19:30:27] /home/khadas/tvm/src/runtime/threading_backend.cc:343: Warning: more than two frequencies detected! Forced big_count_ to 4\n",
      "[19:30:27] /home/khadas/tvm/src/runtime/threading_backend.cc:343: Warning: more than two frequencies detected! Forced big_count_ to 4\n",
      "[19:30:27] /home/khadas/tvm/src/runtime/threading_backend.cc:343: Warning: more than two frequencies detected! Forced big_count_ to 4\n"
     ]
    },
    {
     "name": "stdout",
     "output_type": "stream",
     "text": [
      "[Task 13/16]  Current/Best:    3.84/   6.64 GFLOPS | Progress: (112/1500) | 38.70 s"
     ]
    },
    {
     "name": "stderr",
     "output_type": "stream",
     "text": [
      "[19:30:29] /home/khadas/tvm/src/runtime/threading_backend.cc:343: Warning: more than two frequencies detected! Forced big_count_ to 4\n",
      "[19:30:29] /home/khadas/tvm/src/runtime/threading_backend.cc:343: Warning: more than two frequencies detected! Forced big_count_ to 4\n",
      "[19:30:29] /home/khadas/tvm/src/runtime/threading_backend.cc:343: Warning: more than two frequencies detected! Forced big_count_ to 4\n",
      "[19:30:30] /home/khadas/tvm/src/runtime/threading_backend.cc:343: Warning: more than two frequencies detected! Forced big_count_ to 4\n",
      "[19:30:30] /home/khadas/tvm/src/runtime/threading_backend.cc:343: Warning: more than two frequencies detected! Forced big_count_ to 4\n",
      "[19:30:30] /home/khadas/tvm/src/runtime/threading_backend.cc:343: Warning: more than two frequencies detected! Forced big_count_ to 4\n"
     ]
    },
    {
     "name": "stdout",
     "output_type": "stream",
     "text": [
      "[Task 13/16]  Current/Best:    3.79/   6.64 GFLOPS | Progress: (120/1500) | 41.72 s"
     ]
    },
    {
     "name": "stderr",
     "output_type": "stream",
     "text": [
      "[19:30:30] /home/khadas/tvm/src/runtime/threading_backend.cc:343: Warning: more than two frequencies detected! Forced big_count_ to 4\n"
     ]
    },
    {
     "name": "stdout",
     "output_type": "stream",
     "text": [
      " Done.\n",
      "[Task 14/16]  Current/Best:    0.00/   0.00 GFLOPS | Progress: (0/1500) | 0.00 s"
     ]
    },
    {
     "name": "stderr",
     "output_type": "stream",
     "text": [
      "[19:30:44] /home/khadas/tvm/src/runtime/threading_backend.cc:343: Warning: more than two frequencies detected! Forced big_count_ to 4\n",
      "[19:30:45] /home/khadas/tvm/src/runtime/threading_backend.cc:343: Warning: more than two frequencies detected! Forced big_count_ to 4\n",
      "[19:30:45] /home/khadas/tvm/src/runtime/threading_backend.cc:343: Warning: more than two frequencies detected! Forced big_count_ to 4\n",
      "[19:30:45] /home/khadas/tvm/src/runtime/threading_backend.cc:343: Warning: more than two frequencies detected! Forced big_count_ to 4\n",
      "[19:30:45] /home/khadas/tvm/src/runtime/threading_backend.cc:343: Warning: more than two frequencies detected! Forced big_count_ to 4\n",
      "[19:30:45] /home/khadas/tvm/src/runtime/threading_backend.cc:343: Warning: more than two frequencies detected! Forced big_count_ to 4\n",
      "[19:30:45] /home/khadas/tvm/src/runtime/threading_backend.cc:343: Warning: more than two frequencies detected! Forced big_count_ to 4\n"
     ]
    },
    {
     "name": "stdout",
     "output_type": "stream",
     "text": [
      "[Task 14/16]  Current/Best:    2.85/   3.89 GFLOPS | Progress: (8/1500) | 4.64 s"
     ]
    },
    {
     "name": "stderr",
     "output_type": "stream",
     "text": [
      "[19:30:46] /home/khadas/tvm/src/runtime/threading_backend.cc:343: Warning: more than two frequencies detected! Forced big_count_ to 4\n",
      "[19:30:50] /home/khadas/tvm/src/runtime/threading_backend.cc:343: Warning: more than two frequencies detected! Forced big_count_ to 4\n",
      "[19:30:51] /home/khadas/tvm/src/runtime/threading_backend.cc:343: Warning: more than two frequencies detected! Forced big_count_ to 4\n",
      "[19:30:51] /home/khadas/tvm/src/runtime/threading_backend.cc:343: Warning: more than two frequencies detected! Forced big_count_ to 4\n",
      "[19:30:51] /home/khadas/tvm/src/runtime/threading_backend.cc:343: Warning: more than two frequencies detected! Forced big_count_ to 4\n",
      "[19:30:51] /home/khadas/tvm/src/runtime/threading_backend.cc:343: Warning: more than two frequencies detected! Forced big_count_ to 4\n",
      "[19:30:51] /home/khadas/tvm/src/runtime/threading_backend.cc:343: Warning: more than two frequencies detected! Forced big_count_ to 4\n",
      "[19:30:52] /home/khadas/tvm/src/runtime/threading_backend.cc:343: Warning: more than two frequencies detected! Forced big_count_ to 4\n",
      "[19:30:52] /home/khadas/tvm/src/runtime/threading_backend.cc:343: Warning: more than two frequencies detected! Forced big_count_ to 4\n"
     ]
    },
    {
     "name": "stdout",
     "output_type": "stream",
     "text": [
      "[Task 14/16]  Current/Best:    3.09/   3.92 GFLOPS | Progress: (16/1500) | 10.73 s"
     ]
    },
    {
     "name": "stderr",
     "output_type": "stream",
     "text": [
      "[19:30:52] /home/khadas/tvm/src/runtime/threading_backend.cc:343: Warning: more than two frequencies detected! Forced big_count_ to 4\n",
      "[19:30:53] /home/khadas/tvm/src/runtime/threading_backend.cc:343: Warning: more than two frequencies detected! Forced big_count_ to 4\n",
      "[19:30:53] /home/khadas/tvm/src/runtime/threading_backend.cc:343: Warning: more than two frequencies detected! Forced big_count_ to 4\n",
      "[19:30:53] /home/khadas/tvm/src/runtime/threading_backend.cc:343: Warning: more than two frequencies detected! Forced big_count_ to 4\n",
      "[19:30:53] /home/khadas/tvm/src/runtime/threading_backend.cc:343: Warning: more than two frequencies detected! Forced big_count_ to 4\n",
      "[19:30:53] /home/khadas/tvm/src/runtime/threading_backend.cc:343: Warning: more than two frequencies detected! Forced big_count_ to 4\n",
      "[19:30:54] /home/khadas/tvm/src/runtime/threading_backend.cc:343: Warning: more than two frequencies detected! Forced big_count_ to 4\n"
     ]
    },
    {
     "name": "stdout",
     "output_type": "stream",
     "text": [
      "[Task 14/16]  Current/Best:    2.62/   3.95 GFLOPS | Progress: (24/1500) | 12.79 s"
     ]
    },
    {
     "name": "stderr",
     "output_type": "stream",
     "text": [
      "[19:30:54] /home/khadas/tvm/src/runtime/threading_backend.cc:343: Warning: more than two frequencies detected! Forced big_count_ to 4\n",
      "[19:30:54] /home/khadas/tvm/src/runtime/threading_backend.cc:343: Warning: more than two frequencies detected! Forced big_count_ to 4\n",
      "[19:30:54] /home/khadas/tvm/src/runtime/threading_backend.cc:343: Warning: more than two frequencies detected! Forced big_count_ to 4\n",
      "[19:30:55] /home/khadas/tvm/src/runtime/threading_backend.cc:343: Warning: more than two frequencies detected! Forced big_count_ to 4\n",
      "[19:30:55] /home/khadas/tvm/src/runtime/threading_backend.cc:343: Warning: more than two frequencies detected! Forced big_count_ to 4\n",
      "[19:30:55] /home/khadas/tvm/src/runtime/threading_backend.cc:343: Warning: more than two frequencies detected! Forced big_count_ to 4\n",
      "[19:30:55] /home/khadas/tvm/src/runtime/threading_backend.cc:343: Warning: more than two frequencies detected! Forced big_count_ to 4\n",
      "[19:30:55] /home/khadas/tvm/src/runtime/threading_backend.cc:343: Warning: more than two frequencies detected! Forced big_count_ to 4\n"
     ]
    },
    {
     "name": "stdout",
     "output_type": "stream",
     "text": [
      "[Task 14/16]  Current/Best:    3.85/   3.95 GFLOPS | Progress: (32/1500) | 14.63 s"
     ]
    },
    {
     "name": "stderr",
     "output_type": "stream",
     "text": [
      "[19:30:56] /home/khadas/tvm/src/runtime/threading_backend.cc:343: Warning: more than two frequencies detected! Forced big_count_ to 4\n",
      "[19:31:06] /home/khadas/tvm/src/runtime/threading_backend.cc:343: Warning: more than two frequencies detected! Forced big_count_ to 4\n",
      "[19:31:06] /home/khadas/tvm/src/runtime/threading_backend.cc:343: Warning: more than two frequencies detected! Forced big_count_ to 4\n",
      "[19:31:06] /home/khadas/tvm/src/runtime/threading_backend.cc:343: Warning: more than two frequencies detected! Forced big_count_ to 4\n",
      "[19:31:06] /home/khadas/tvm/src/runtime/threading_backend.cc:343: Warning: more than two frequencies detected! Forced big_count_ to 4\n",
      "[19:31:07] /home/khadas/tvm/src/runtime/threading_backend.cc:343: Warning: more than two frequencies detected! Forced big_count_ to 4\n",
      "[19:31:07] /home/khadas/tvm/src/runtime/threading_backend.cc:343: Warning: more than two frequencies detected! Forced big_count_ to 4\n"
     ]
    },
    {
     "name": "stdout",
     "output_type": "stream",
     "text": [
      "[Task 14/16]  Current/Best:    3.37/   3.95 GFLOPS | Progress: (40/1500) | 26.04 s"
     ]
    },
    {
     "name": "stderr",
     "output_type": "stream",
     "text": [
      "[19:31:07] /home/khadas/tvm/src/runtime/threading_backend.cc:343: Warning: more than two frequencies detected! Forced big_count_ to 4\n",
      "[19:31:12] /home/khadas/tvm/src/runtime/threading_backend.cc:343: Warning: more than two frequencies detected! Forced big_count_ to 4\n",
      "[19:31:12] /home/khadas/tvm/src/runtime/threading_backend.cc:343: Warning: more than two frequencies detected! Forced big_count_ to 4\n",
      "[19:31:13] /home/khadas/tvm/src/runtime/threading_backend.cc:343: Warning: more than two frequencies detected! Forced big_count_ to 4\n",
      "[19:31:13] /home/khadas/tvm/src/runtime/threading_backend.cc:343: Warning: more than two frequencies detected! Forced big_count_ to 4\n",
      "[19:31:13] /home/khadas/tvm/src/runtime/threading_backend.cc:343: Warning: more than two frequencies detected! Forced big_count_ to 4\n"
     ]
    },
    {
     "name": "stdout",
     "output_type": "stream",
     "text": [
      "[Task 14/16]  Current/Best:    3.41/   3.95 GFLOPS | Progress: (48/1500) | 32.22 s"
     ]
    },
    {
     "name": "stderr",
     "output_type": "stream",
     "text": [
      "[19:31:13] /home/khadas/tvm/src/runtime/threading_backend.cc:343: Warning: more than two frequencies detected! Forced big_count_ to 4\n",
      "[19:31:16] /home/khadas/tvm/src/runtime/threading_backend.cc:343: Warning: more than two frequencies detected! Forced big_count_ to 4\n",
      "[19:31:16] /home/khadas/tvm/src/runtime/threading_backend.cc:343: Warning: more than two frequencies detected! Forced big_count_ to 4\n",
      "[19:31:16] /home/khadas/tvm/src/runtime/threading_backend.cc:343: Warning: more than two frequencies detected! Forced big_count_ to 4\n",
      "[19:31:16] /home/khadas/tvm/src/runtime/threading_backend.cc:343: Warning: more than two frequencies detected! Forced big_count_ to 4\n",
      "[19:31:16] /home/khadas/tvm/src/runtime/threading_backend.cc:343: Warning: more than two frequencies detected! Forced big_count_ to 4\n"
     ]
    },
    {
     "name": "stdout",
     "output_type": "stream",
     "text": [
      "[Task 14/16]  Current/Best:    2.09/   3.95 GFLOPS | Progress: (56/1500) | 35.55 s"
     ]
    },
    {
     "name": "stderr",
     "output_type": "stream",
     "text": [
      "[19:31:17] /home/khadas/tvm/src/runtime/threading_backend.cc:343: Warning: more than two frequencies detected! Forced big_count_ to 4\n",
      "[19:31:27] /home/khadas/tvm/src/runtime/threading_backend.cc:343: Warning: more than two frequencies detected! Forced big_count_ to 4\n",
      "[19:31:27] /home/khadas/tvm/src/runtime/threading_backend.cc:343: Warning: more than two frequencies detected! Forced big_count_ to 4\n",
      "[19:31:27] /home/khadas/tvm/src/runtime/threading_backend.cc:343: Warning: more than two frequencies detected! Forced big_count_ to 4\n",
      "[19:31:28] /home/khadas/tvm/src/runtime/threading_backend.cc:343: Warning: more than two frequencies detected! Forced big_count_ to 4\n",
      "[19:31:28] /home/khadas/tvm/src/runtime/threading_backend.cc:343: Warning: more than two frequencies detected! Forced big_count_ to 4\n"
     ]
    },
    {
     "name": "stdout",
     "output_type": "stream",
     "text": [
      "[Task 14/16]  Current/Best:    1.83/   3.95 GFLOPS | Progress: (64/1500) | 47.97 s"
     ]
    },
    {
     "name": "stderr",
     "output_type": "stream",
     "text": [
      "[19:31:39] /home/khadas/tvm/src/runtime/threading_backend.cc:343: Warning: more than two frequencies detected! Forced big_count_ to 4\n",
      "[19:31:39] /home/khadas/tvm/src/runtime/threading_backend.cc:343: Warning: more than two frequencies detected! Forced big_count_ to 4\n",
      "[19:31:40] /home/khadas/tvm/src/runtime/threading_backend.cc:343: Warning: more than two frequencies detected! Forced big_count_ to 4\n",
      "[19:31:40] /home/khadas/tvm/src/runtime/threading_backend.cc:343: Warning: more than two frequencies detected! Forced big_count_ to 4\n"
     ]
    },
    {
     "name": "stdout",
     "output_type": "stream",
     "text": [
      "[Task 14/16]  Current/Best:    1.38/   3.95 GFLOPS | Progress: (72/1500) | 58.99 s"
     ]
    },
    {
     "name": "stderr",
     "output_type": "stream",
     "text": [
      "[19:31:40] /home/khadas/tvm/src/runtime/threading_backend.cc:343: Warning: more than two frequencies detected! Forced big_count_ to 4\n"
     ]
    },
    {
     "name": "stdout",
     "output_type": "stream",
     "text": [
      " Done.\n",
      "[Task 15/16]  Current/Best:    0.00/   0.00 GFLOPS | Progress: (0/1500) | 0.00 s"
     ]
    },
    {
     "name": "stderr",
     "output_type": "stream",
     "text": [
      "[19:32:09] /home/khadas/tvm/src/runtime/threading_backend.cc:343: Warning: more than two frequencies detected! Forced big_count_ to 4\n",
      "[19:32:09] /home/khadas/tvm/src/runtime/threading_backend.cc:343: Warning: more than two frequencies detected! Forced big_count_ to 4\n",
      "[19:32:09] /home/khadas/tvm/src/runtime/threading_backend.cc:343: Warning: more than two frequencies detected! Forced big_count_ to 4\n",
      "[19:32:10] /home/khadas/tvm/src/runtime/threading_backend.cc:343: Warning: more than two frequencies detected! Forced big_count_ to 4\n",
      "[19:32:10] /home/khadas/tvm/src/runtime/threading_backend.cc:343: Warning: more than two frequencies detected! Forced big_count_ to 4\n",
      "[19:32:10] /home/khadas/tvm/src/runtime/threading_backend.cc:343: Warning: more than two frequencies detected! Forced big_count_ to 4\n",
      "[19:32:10] /home/khadas/tvm/src/runtime/threading_backend.cc:343: Warning: more than two frequencies detected! Forced big_count_ to 4\n",
      "[19:32:10] /home/khadas/tvm/src/runtime/threading_backend.cc:343: Warning: more than two frequencies detected! Forced big_count_ to 4\n"
     ]
    },
    {
     "name": "stdout",
     "output_type": "stream",
     "text": [
      "[Task 15/16]  Current/Best:    8.69/   9.66 GFLOPS | Progress: (8/1500) | 14.67 s"
     ]
    },
    {
     "name": "stderr",
     "output_type": "stream",
     "text": [
      "[19:32:21] /home/khadas/tvm/src/runtime/threading_backend.cc:343: Warning: more than two frequencies detected! Forced big_count_ to 4\n",
      "[19:32:21] /home/khadas/tvm/src/runtime/threading_backend.cc:343: Warning: more than two frequencies detected! Forced big_count_ to 4\n",
      "[19:32:21] /home/khadas/tvm/src/runtime/threading_backend.cc:343: Warning: more than two frequencies detected! Forced big_count_ to 4\n",
      "[19:32:21] /home/khadas/tvm/src/runtime/threading_backend.cc:343: Warning: more than two frequencies detected! Forced big_count_ to 4\n"
     ]
    },
    {
     "name": "stdout",
     "output_type": "stream",
     "text": [
      "[Task 15/16]  Current/Best:    8.17/   9.66 GFLOPS | Progress: (16/1500) | 25.76 s"
     ]
    },
    {
     "name": "stderr",
     "output_type": "stream",
     "text": [
      "[19:32:22] /home/khadas/tvm/src/runtime/threading_backend.cc:343: Warning: more than two frequencies detected! Forced big_count_ to 4\n",
      "[19:32:35] /home/khadas/tvm/src/runtime/threading_backend.cc:343: Warning: more than two frequencies detected! Forced big_count_ to 4\n",
      "[19:32:35] /home/khadas/tvm/src/runtime/threading_backend.cc:343: Warning: more than two frequencies detected! Forced big_count_ to 4\n",
      "[19:32:36] /home/khadas/tvm/src/runtime/threading_backend.cc:343: Warning: more than two frequencies detected! Forced big_count_ to 4\n",
      "[19:32:36] /home/khadas/tvm/src/runtime/threading_backend.cc:343: Warning: more than two frequencies detected! Forced big_count_ to 4\n",
      "[19:32:36] /home/khadas/tvm/src/runtime/threading_backend.cc:343: Warning: more than two frequencies detected! Forced big_count_ to 4\n",
      "[19:32:36] /home/khadas/tvm/src/runtime/threading_backend.cc:343: Warning: more than two frequencies detected! Forced big_count_ to 4\n"
     ]
    },
    {
     "name": "stdout",
     "output_type": "stream",
     "text": [
      "[Task 15/16]  Current/Best:    6.40/   9.66 GFLOPS | Progress: (24/1500) | 40.63 s"
     ]
    },
    {
     "name": "stderr",
     "output_type": "stream",
     "text": [
      "[19:32:36] /home/khadas/tvm/src/runtime/threading_backend.cc:343: Warning: more than two frequencies detected! Forced big_count_ to 4\n",
      "[19:32:49] /home/khadas/tvm/src/runtime/threading_backend.cc:343: Warning: more than two frequencies detected! Forced big_count_ to 4\n",
      "[19:32:49] /home/khadas/tvm/src/runtime/threading_backend.cc:343: Warning: more than two frequencies detected! Forced big_count_ to 4\n",
      "[19:32:49] /home/khadas/tvm/src/runtime/threading_backend.cc:343: Warning: more than two frequencies detected! Forced big_count_ to 4\n",
      "[19:32:49] /home/khadas/tvm/src/runtime/threading_backend.cc:343: Warning: more than two frequencies detected! Forced big_count_ to 4\n",
      "[19:32:50] /home/khadas/tvm/src/runtime/threading_backend.cc:343: Warning: more than two frequencies detected! Forced big_count_ to 4\n"
     ]
    },
    {
     "name": "stdout",
     "output_type": "stream",
     "text": [
      "[Task 15/16]  Current/Best:    8.85/   9.66 GFLOPS | Progress: (32/1500) | 53.74 s"
     ]
    },
    {
     "name": "stderr",
     "output_type": "stream",
     "text": [
      "[19:33:00] /home/khadas/tvm/src/runtime/threading_backend.cc:343: Warning: more than two frequencies detected! Forced big_count_ to 4\n",
      "[19:33:00] /home/khadas/tvm/src/runtime/threading_backend.cc:343: Warning: more than two frequencies detected! Forced big_count_ to 4\n",
      "[19:33:00] /home/khadas/tvm/src/runtime/threading_backend.cc:343: Warning: more than two frequencies detected! Forced big_count_ to 4\n",
      "[19:33:00] /home/khadas/tvm/src/runtime/threading_backend.cc:343: Warning: more than two frequencies detected! Forced big_count_ to 4\n",
      "[19:33:01] /home/khadas/tvm/src/runtime/threading_backend.cc:343: Warning: more than two frequencies detected! Forced big_count_ to 4\n",
      "[19:33:01] /home/khadas/tvm/src/runtime/threading_backend.cc:343: Warning: more than two frequencies detected! Forced big_count_ to 4\n",
      "[19:33:01] /home/khadas/tvm/src/runtime/threading_backend.cc:343: Warning: more than two frequencies detected! Forced big_count_ to 4\n"
     ]
    },
    {
     "name": "stdout",
     "output_type": "stream",
     "text": [
      "[Task 15/16]  Current/Best:    9.63/   9.66 GFLOPS | Progress: (40/1500) | 65.19 s"
     ]
    },
    {
     "name": "stderr",
     "output_type": "stream",
     "text": [
      "[19:33:14] /home/khadas/tvm/src/runtime/threading_backend.cc:343: Warning: more than two frequencies detected! Forced big_count_ to 4\n",
      "[19:33:15] /home/khadas/tvm/src/runtime/threading_backend.cc:343: Warning: more than two frequencies detected! Forced big_count_ to 4\n"
     ]
    },
    {
     "name": "stdout",
     "output_type": "stream",
     "text": [
      "[Task 15/16]  Current/Best:    9.58/   9.66 GFLOPS | Progress: (48/1500) | 79.25 s"
     ]
    },
    {
     "name": "stderr",
     "output_type": "stream",
     "text": [
      "[19:33:15] /home/khadas/tvm/src/runtime/threading_backend.cc:343: Warning: more than two frequencies detected! Forced big_count_ to 4\n",
      "[19:33:26] /home/khadas/tvm/src/runtime/threading_backend.cc:343: Warning: more than two frequencies detected! Forced big_count_ to 4\n",
      "[19:33:26] /home/khadas/tvm/src/runtime/threading_backend.cc:343: Warning: more than two frequencies detected! Forced big_count_ to 4\n",
      "[19:33:27] /home/khadas/tvm/src/runtime/threading_backend.cc:343: Warning: more than two frequencies detected! Forced big_count_ to 4\n",
      "[19:33:27] /home/khadas/tvm/src/runtime/threading_backend.cc:343: Warning: more than two frequencies detected! Forced big_count_ to 4\n",
      "[19:33:27] /home/khadas/tvm/src/runtime/threading_backend.cc:343: Warning: more than two frequencies detected! Forced big_count_ to 4\n",
      "[19:33:27] /home/khadas/tvm/src/runtime/threading_backend.cc:343: Warning: more than two frequencies detected! Forced big_count_ to 4\n"
     ]
    },
    {
     "name": "stdout",
     "output_type": "stream",
     "text": [
      "[Task 15/16]  Current/Best:    6.60/   9.67 GFLOPS | Progress: (56/1500) | 91.83 s"
     ]
    },
    {
     "name": "stderr",
     "output_type": "stream",
     "text": [
      "[19:33:38] /home/khadas/tvm/src/runtime/threading_backend.cc:343: Warning: more than two frequencies detected! Forced big_count_ to 4\n",
      "[19:33:38] /home/khadas/tvm/src/runtime/threading_backend.cc:343: Warning: more than two frequencies detected! Forced big_count_ to 4\n",
      "[19:33:38] /home/khadas/tvm/src/runtime/threading_backend.cc:343: Warning: more than two frequencies detected! Forced big_count_ to 4\n",
      "[19:33:39] /home/khadas/tvm/src/runtime/threading_backend.cc:343: Warning: more than two frequencies detected! Forced big_count_ to 4\n",
      "[19:33:39] /home/khadas/tvm/src/runtime/threading_backend.cc:343: Warning: more than two frequencies detected! Forced big_count_ to 4\n",
      "[19:33:39] /home/khadas/tvm/src/runtime/threading_backend.cc:343: Warning: more than two frequencies detected! Forced big_count_ to 4\n",
      "[19:33:39] /home/khadas/tvm/src/runtime/threading_backend.cc:343: Warning: more than two frequencies detected! Forced big_count_ to 4\n"
     ]
    },
    {
     "name": "stdout",
     "output_type": "stream",
     "text": [
      "[Task 15/16]  Current/Best:    6.56/   9.67 GFLOPS | Progress: (64/1500) | 105.73 s"
     ]
    },
    {
     "name": "stderr",
     "output_type": "stream",
     "text": [
      "[19:33:44] /home/khadas/tvm/src/runtime/threading_backend.cc:343: Warning: more than two frequencies detected! Forced big_count_ to 4\n",
      "[19:33:44] /home/khadas/tvm/src/runtime/threading_backend.cc:343: Warning: more than two frequencies detected! Forced big_count_ to 4\n",
      "[19:33:44] /home/khadas/tvm/src/runtime/threading_backend.cc:343: Warning: more than two frequencies detected! Forced big_count_ to 4\n",
      "[19:33:44] /home/khadas/tvm/src/runtime/threading_backend.cc:343: Warning: more than two frequencies detected! Forced big_count_ to 4\n",
      "[19:33:45] /home/khadas/tvm/src/runtime/threading_backend.cc:343: Warning: more than two frequencies detected! Forced big_count_ to 4\n",
      "[19:33:45] /home/khadas/tvm/src/runtime/threading_backend.cc:343: Warning: more than two frequencies detected! Forced big_count_ to 4\n"
     ]
    },
    {
     "name": "stdout",
     "output_type": "stream",
     "text": [
      "[Task 15/16]  Current/Best:    5.63/   9.67 GFLOPS | Progress: (72/1500) | 109.37 s"
     ]
    },
    {
     "name": "stderr",
     "output_type": "stream",
     "text": [
      "[19:33:45] /home/khadas/tvm/src/runtime/threading_backend.cc:343: Warning: more than two frequencies detected! Forced big_count_ to 4\n",
      "[19:33:51] /home/khadas/tvm/src/runtime/threading_backend.cc:343: Warning: more than two frequencies detected! Forced big_count_ to 4\n",
      "[19:33:51] /home/khadas/tvm/src/runtime/threading_backend.cc:343: Warning: more than two frequencies detected! Forced big_count_ to 4\n",
      "[19:33:51] /home/khadas/tvm/src/runtime/threading_backend.cc:343: Warning: more than two frequencies detected! Forced big_count_ to 4\n",
      "[19:33:52] /home/khadas/tvm/src/runtime/threading_backend.cc:343: Warning: more than two frequencies detected! Forced big_count_ to 4\n",
      "[19:33:52] /home/khadas/tvm/src/runtime/threading_backend.cc:343: Warning: more than two frequencies detected! Forced big_count_ to 4\n",
      "[19:33:52] /home/khadas/tvm/src/runtime/threading_backend.cc:343: Warning: more than two frequencies detected! Forced big_count_ to 4\n",
      "[19:33:52] /home/khadas/tvm/src/runtime/threading_backend.cc:343: Warning: more than two frequencies detected! Forced big_count_ to 4\n"
     ]
    },
    {
     "name": "stdout",
     "output_type": "stream",
     "text": [
      "[Task 15/16]  Current/Best:    8.83/   9.67 GFLOPS | Progress: (80/1500) | 116.56 s"
     ]
    },
    {
     "name": "stderr",
     "output_type": "stream",
     "text": [
      "[19:33:52] /home/khadas/tvm/src/runtime/threading_backend.cc:343: Warning: more than two frequencies detected! Forced big_count_ to 4\n",
      "[19:33:57] /home/khadas/tvm/src/runtime/threading_backend.cc:343: Warning: more than two frequencies detected! Forced big_count_ to 4\n",
      "[19:33:57] /home/khadas/tvm/src/runtime/threading_backend.cc:343: Warning: more than two frequencies detected! Forced big_count_ to 4\n",
      "[19:33:57] /home/khadas/tvm/src/runtime/threading_backend.cc:343: Warning: more than two frequencies detected! Forced big_count_ to 4\n",
      "[19:33:58] /home/khadas/tvm/src/runtime/threading_backend.cc:343: Warning: more than two frequencies detected! Forced big_count_ to 4\n"
     ]
    },
    {
     "name": "stdout",
     "output_type": "stream",
     "text": [
      "[Task 15/16]  Current/Best:    5.36/   9.67 GFLOPS | Progress: (88/1500) | 122.51 s"
     ]
    },
    {
     "name": "stderr",
     "output_type": "stream",
     "text": [
      "[19:33:59] /home/khadas/tvm/src/runtime/threading_backend.cc:343: Warning: more than two frequencies detected! Forced big_count_ to 4\n",
      "[19:33:59] /home/khadas/tvm/src/runtime/threading_backend.cc:343: Warning: more than two frequencies detected! Forced big_count_ to 4\n",
      "[19:33:59] /home/khadas/tvm/src/runtime/threading_backend.cc:343: Warning: more than two frequencies detected! Forced big_count_ to 4\n",
      "[19:34:00] /home/khadas/tvm/src/runtime/threading_backend.cc:343: Warning: more than two frequencies detected! Forced big_count_ to 4\n",
      "[19:34:00] /home/khadas/tvm/src/runtime/threading_backend.cc:343: Warning: more than two frequencies detected! Forced big_count_ to 4\n",
      "[19:34:00] /home/khadas/tvm/src/runtime/threading_backend.cc:343: Warning: more than two frequencies detected! Forced big_count_ to 4\n"
     ]
    },
    {
     "name": "stdout",
     "output_type": "stream",
     "text": [
      "[Task 15/16]  Current/Best:    5.61/   9.67 GFLOPS | Progress: (96/1500) | 124.44 s"
     ]
    },
    {
     "name": "stderr",
     "output_type": "stream",
     "text": [
      "[19:34:08] /home/khadas/tvm/src/runtime/threading_backend.cc:343: Warning: more than two frequencies detected! Forced big_count_ to 4\n",
      "[19:34:08] /home/khadas/tvm/src/runtime/threading_backend.cc:343: Warning: more than two frequencies detected! Forced big_count_ to 4\n",
      "[19:34:09] /home/khadas/tvm/src/runtime/threading_backend.cc:343: Warning: more than two frequencies detected! Forced big_count_ to 4\n",
      "[19:34:09] /home/khadas/tvm/src/runtime/threading_backend.cc:343: Warning: more than two frequencies detected! Forced big_count_ to 4\n"
     ]
    },
    {
     "name": "stdout",
     "output_type": "stream",
     "text": [
      "[Task 15/16]  Current/Best:    6.18/   9.67 GFLOPS | Progress: (104/1500) | 133.37 s"
     ]
    },
    {
     "name": "stderr",
     "output_type": "stream",
     "text": [
      "[19:34:09] /home/khadas/tvm/src/runtime/threading_backend.cc:343: Warning: more than two frequencies detected! Forced big_count_ to 4\n",
      "[19:34:20] /home/khadas/tvm/src/runtime/threading_backend.cc:343: Warning: more than two frequencies detected! Forced big_count_ to 4\n",
      "[19:34:20] /home/khadas/tvm/src/runtime/threading_backend.cc:343: Warning: more than two frequencies detected! Forced big_count_ to 4\n"
     ]
    },
    {
     "name": "stdout",
     "output_type": "stream",
     "text": [
      "[Task 15/16]  Current/Best:    3.77/   9.67 GFLOPS | Progress: (112/1500) | 144.52 s"
     ]
    },
    {
     "name": "stderr",
     "output_type": "stream",
     "text": [
      "[19:34:20] /home/khadas/tvm/src/runtime/threading_backend.cc:343: Warning: more than two frequencies detected! Forced big_count_ to 4\n",
      "[19:34:31] /home/khadas/tvm/src/runtime/threading_backend.cc:343: Warning: more than two frequencies detected! Forced big_count_ to 4\n",
      "[19:34:31] /home/khadas/tvm/src/runtime/threading_backend.cc:343: Warning: more than two frequencies detected! Forced big_count_ to 4\n",
      "[19:34:31] /home/khadas/tvm/src/runtime/threading_backend.cc:343: Warning: more than two frequencies detected! Forced big_count_ to 4\n",
      "[19:34:31] /home/khadas/tvm/src/runtime/threading_backend.cc:343: Warning: more than two frequencies detected! Forced big_count_ to 4\n",
      "[19:34:32] /home/khadas/tvm/src/runtime/threading_backend.cc:343: Warning: more than two frequencies detected! Forced big_count_ to 4\n"
     ]
    },
    {
     "name": "stdout",
     "output_type": "stream",
     "text": [
      "[Task 15/16]  Current/Best:    2.11/   9.67 GFLOPS | Progress: (120/1500) | 156.00 s"
     ]
    },
    {
     "name": "stderr",
     "output_type": "stream",
     "text": [
      "[19:34:44] /home/khadas/tvm/src/runtime/threading_backend.cc:343: Warning: more than two frequencies detected! Forced big_count_ to 4\n"
     ]
    },
    {
     "name": "stdout",
     "output_type": "stream",
     "text": [
      "[Task 15/16]  Current/Best:    6.94/   9.67 GFLOPS | Progress: (128/1500) | 171.06 s"
     ]
    },
    {
     "name": "stderr",
     "output_type": "stream",
     "text": [
      "[19:35:00] /home/khadas/tvm/src/runtime/threading_backend.cc:343: Warning: more than two frequencies detected! Forced big_count_ to 4\n",
      "[19:35:00] /home/khadas/tvm/src/runtime/threading_backend.cc:343: Warning: more than two frequencies detected! Forced big_count_ to 4\n",
      "[19:35:00] /home/khadas/tvm/src/runtime/threading_backend.cc:343: Warning: more than two frequencies detected! Forced big_count_ to 4\n",
      "[19:35:00] /home/khadas/tvm/src/runtime/threading_backend.cc:343: Warning: more than two frequencies detected! Forced big_count_ to 4\n",
      "[19:35:01] /home/khadas/tvm/src/runtime/threading_backend.cc:343: Warning: more than two frequencies detected! Forced big_count_ to 4\n"
     ]
    },
    {
     "name": "stdout",
     "output_type": "stream",
     "text": [
      "[Task 15/16]  Current/Best:    6.82/   9.67 GFLOPS | Progress: (136/1500) | 184.96 s"
     ]
    },
    {
     "name": "stderr",
     "output_type": "stream",
     "text": [
      "[19:35:01] /home/khadas/tvm/src/runtime/threading_backend.cc:343: Warning: more than two frequencies detected! Forced big_count_ to 4\n"
     ]
    },
    {
     "name": "stdout",
     "output_type": "stream",
     "text": [
      "[Task 15/16]  Current/Best:    3.98/   9.67 GFLOPS | Progress: (144/1500) | 195.53 s"
     ]
    },
    {
     "name": "stderr",
     "output_type": "stream",
     "text": [
      "[19:35:11] /home/khadas/tvm/src/runtime/threading_backend.cc:343: Warning: more than two frequencies detected! Forced big_count_ to 4\n",
      "[19:35:26] /home/khadas/tvm/src/runtime/threading_backend.cc:343: Warning: more than two frequencies detected! Forced big_count_ to 4\n",
      "[19:35:27] /home/khadas/tvm/src/runtime/threading_backend.cc:343: Warning: more than two frequencies detected! Forced big_count_ to 4\n"
     ]
    },
    {
     "name": "stdout",
     "output_type": "stream",
     "text": [
      "[Task 15/16]  Current/Best:    6.71/   9.67 GFLOPS | Progress: (152/1500) | 210.88 s"
     ]
    },
    {
     "name": "stderr",
     "output_type": "stream",
     "text": [
      "[19:35:27] /home/khadas/tvm/src/runtime/threading_backend.cc:343: Warning: more than two frequencies detected! Forced big_count_ to 4\n"
     ]
    },
    {
     "name": "stdout",
     "output_type": "stream",
     "text": [
      " Done.\n",
      "[Task 16/16]  Current/Best:    0.00/   0.00 GFLOPS | Progress: (0/1500) | 0.00 s"
     ]
    },
    {
     "name": "stderr",
     "output_type": "stream",
     "text": [
      "[19:35:51] /home/khadas/tvm/src/runtime/threading_backend.cc:343: Warning: more than two frequencies detected! Forced big_count_ to 4\n",
      "[19:35:51] /home/khadas/tvm/src/runtime/threading_backend.cc:343: Warning: more than two frequencies detected! Forced big_count_ to 4\n",
      "[19:35:51] /home/khadas/tvm/src/runtime/threading_backend.cc:343: Warning: more than two frequencies detected! Forced big_count_ to 4\n",
      "[19:35:51] /home/khadas/tvm/src/runtime/threading_backend.cc:343: Warning: more than two frequencies detected! Forced big_count_ to 4\n",
      "[19:35:52] /home/khadas/tvm/src/runtime/threading_backend.cc:343: Warning: more than two frequencies detected! Forced big_count_ to 4\n",
      "[19:35:52] /home/khadas/tvm/src/runtime/threading_backend.cc:343: Warning: more than two frequencies detected! Forced big_count_ to 4\n",
      "[19:35:52] /home/khadas/tvm/src/runtime/threading_backend.cc:343: Warning: more than two frequencies detected! Forced big_count_ to 4\n",
      "[19:35:52] /home/khadas/tvm/src/runtime/threading_backend.cc:343: Warning: more than two frequencies detected! Forced big_count_ to 4\n"
     ]
    },
    {
     "name": "stdout",
     "output_type": "stream",
     "text": [
      "[Task 16/16]  Current/Best:    1.87/   8.16 GFLOPS | Progress: (8/1500) | 14.72 s"
     ]
    },
    {
     "name": "stderr",
     "output_type": "stream",
     "text": [
      "[19:36:03] /home/khadas/tvm/src/runtime/threading_backend.cc:343: Warning: more than two frequencies detected! Forced big_count_ to 4\n",
      "[19:36:03] /home/khadas/tvm/src/runtime/threading_backend.cc:343: Warning: more than two frequencies detected! Forced big_count_ to 4\n",
      "[19:36:03] /home/khadas/tvm/src/runtime/threading_backend.cc:343: Warning: more than two frequencies detected! Forced big_count_ to 4\n",
      "[19:36:03] /home/khadas/tvm/src/runtime/threading_backend.cc:343: Warning: more than two frequencies detected! Forced big_count_ to 4\n"
     ]
    },
    {
     "name": "stdout",
     "output_type": "stream",
     "text": [
      "[Task 16/16]  Current/Best:    6.21/   8.16 GFLOPS | Progress: (16/1500) | 25.90 s"
     ]
    },
    {
     "name": "stderr",
     "output_type": "stream",
     "text": [
      "[19:36:03] /home/khadas/tvm/src/runtime/threading_backend.cc:343: Warning: more than two frequencies detected! Forced big_count_ to 4\n",
      "[19:36:17] /home/khadas/tvm/src/runtime/threading_backend.cc:343: Warning: more than two frequencies detected! Forced big_count_ to 4\n",
      "[19:36:18] /home/khadas/tvm/src/runtime/threading_backend.cc:343: Warning: more than two frequencies detected! Forced big_count_ to 4\n"
     ]
    },
    {
     "name": "stdout",
     "output_type": "stream",
     "text": [
      "[Task 16/16]  Current/Best:    1.71/   8.16 GFLOPS | Progress: (24/1500) | 40.45 s"
     ]
    },
    {
     "name": "stderr",
     "output_type": "stream",
     "text": [
      "[19:36:18] /home/khadas/tvm/src/runtime/threading_backend.cc:343: Warning: more than two frequencies detected! Forced big_count_ to 4\n",
      "[19:36:32] /home/khadas/tvm/src/runtime/threading_backend.cc:343: Warning: more than two frequencies detected! Forced big_count_ to 4\n",
      "[19:36:33] /home/khadas/tvm/src/runtime/threading_backend.cc:343: Warning: more than two frequencies detected! Forced big_count_ to 4\n"
     ]
    },
    {
     "name": "stdout",
     "output_type": "stream",
     "text": [
      "[Task 16/16]  Current/Best:    0.79/   8.16 GFLOPS | Progress: (32/1500) | 55.43 s"
     ]
    },
    {
     "name": "stderr",
     "output_type": "stream",
     "text": [
      "[19:36:33] /home/khadas/tvm/src/runtime/threading_backend.cc:343: Warning: more than two frequencies detected! Forced big_count_ to 4\n"
     ]
    },
    {
     "name": "stdout",
     "output_type": "stream",
     "text": [
      "[Task 16/16]  Current/Best:    1.87/   8.16 GFLOPS | Progress: (36/1500) | 67.58 s"
     ]
    },
    {
     "name": "stderr",
     "output_type": "stream",
     "text": [
      "[19:36:45] /home/khadas/tvm/src/runtime/threading_backend.cc:343: Warning: more than two frequencies detected! Forced big_count_ to 4\n"
     ]
    },
    {
     "name": "stdout",
     "output_type": "stream",
     "text": [
      " Done.\n"
     ]
    }
   ],
   "source": [
    "tune_tasks(tasks, **tuning_option)"
   ]
  },
  {
   "attachments": {},
   "cell_type": "markdown",
   "metadata": {},
   "source": [
    "### Compiling and Optimized Model with Tuning Data\n",
    "\n",
    "The tuning records stored in `signLanguageModel-v1-autotuning-cpu.json`. \n",
    "\n",
    "The compiler will use the results to generate high performance code for the model on your specified target.\n",
    "\n",
    "Now that tuning data for the model has been collected, we can re-compile the model using optimized operators to speed up the computations."
   ]
  },
  {
   "cell_type": "code",
   "execution_count": 11,
   "metadata": {},
   "outputs": [
    {
     "name": "stdout",
     "output_type": "stream",
     "text": [
      "Optimized module loaded!!!\n"
     ]
    }
   ],
   "source": [
    "# Recompile the model from the record\n",
    "with autotvm.apply_history_best(tuning_option[\"tuning_records\"]):\n",
    "    with tvm.transform.PassContext(opt_level=3, config={}):\n",
    "        lib = relay.build(mod, target=target, params=params)\n",
    "\n",
    "# device CPU\n",
    "dev = tvm.device(str(target), 0)\n",
    "module = tvm.contrib.graph_executor.GraphModule(lib[\"default\"](dev))\n",
    "\n",
    "print('Optimized module loaded!!!')\n"
   ]
  },
  {
   "attachments": {},
   "cell_type": "markdown",
   "metadata": {},
   "source": [
    "## Comparing the Tuned and Untuned models"
   ]
  },
  {
   "cell_type": "code",
   "execution_count": 18,
   "metadata": {},
   "outputs": [
    {
     "name": "stdout",
     "output_type": "stream",
     "text": [
      "Unoptimized : Execution time summary:\n",
      " mean (ms)   median (ms)    max (ms)     min (ms)     std (ms)  \n",
      "  16.0726      15.1003      28.0091      14.6035       2.8954   \n",
      "               \n",
      "Optimized : Execution time summary:\n",
      " mean (ms)   median (ms)    max (ms)     min (ms)     std (ms)  \n",
      "  12.9731      12.6457      14.6032      12.4026       0.6231   \n",
      "               \n"
     ]
    }
   ],
   "source": [
    "optimized_time = module.benchmark(device = dev, repeat = 30, number = 1)\n",
    "\n",
    "print(f'Unoptimized : {timing_results}')\n",
    "\n",
    "print(f'Optimized : {optimized_time}')\n"
   ]
  },
  {
   "attachments": {},
   "cell_type": "markdown",
   "metadata": {},
   "source": [
    "## Test the model performance"
   ]
  },
  {
   "attachments": {},
   "cell_type": "markdown",
   "metadata": {},
   "source": [
    "### Check output shape from the model"
   ]
  },
  {
   "cell_type": "code",
   "execution_count": 12,
   "metadata": {},
   "outputs": [
    {
     "data": {
      "text/plain": [
       "(1, 30, 1662)"
      ]
     },
     "execution_count": 12,
     "metadata": {},
     "output_type": "execute_result"
    }
   ],
   "source": [
    "sign_test_data = np.expand_dims(X_test[22], axis=0)\n",
    "sign_test_data.shape"
   ]
  },
  {
   "cell_type": "code",
   "execution_count": 13,
   "metadata": {},
   "outputs": [
    {
     "data": {
      "text/plain": [
       "array([1, 0, 0, 0])"
      ]
     },
     "execution_count": 13,
     "metadata": {},
     "output_type": "execute_result"
    }
   ],
   "source": [
    "sign_actual_data = y_test[22]\n",
    "sign_actual_data"
   ]
  },
  {
   "cell_type": "code",
   "execution_count": 14,
   "metadata": {},
   "outputs": [
    {
     "name": "stdout",
     "output_type": "stream",
     "text": [
      "TVM output shape: (1, 4)\n",
      "TVM Output : [[9.6187323e-01 3.7256207e-02 3.1616242e-04 5.5441313e-04]]\n",
      "Output: hello\n",
      "Actual test data output: hello\n"
     ]
    }
   ],
   "source": [
    "# Output result\n",
    "dtype = 'float32'\n",
    "# set input to the module\n",
    "module.set_input(input_name, sign_test_data)\n",
    "# run forward execution\n",
    "module.run()\n",
    "\n",
    "tvm_output = module.get_output(0).numpy()\n",
    "print(f'TVM output shape: {tvm_output.shape}')\n",
    "print(f'TVM Output : {tvm_output}')\n",
    "print(f'Output: {actions[np.argmax(tvm_output[0])]}')\n",
    "print(f'Actual test data output: {actions[np.argmax(sign_actual_data)]}')"
   ]
  },
  {
   "cell_type": "code",
   "execution_count": 15,
   "metadata": {},
   "outputs": [
    {
     "name": "stderr",
     "output_type": "stream",
     "text": [
      "INFO: Created TensorFlow Lite XNNPACK delegate for CPU.\n"
     ]
    }
   ],
   "source": [
    "# Import \n",
    "import cv2\n",
    "import numpy as np\n",
    "import os\n",
    "import matplotlib.pyplot as plt\n",
    "import mediapipe as mp\n",
    "import time\n",
    "\n",
    "# Define API model to use as a MP hoslistic\n",
    "mp_holistic = mp.solutions.holistic # Holistic model\n",
    "mp_drawing = mp.solutions.drawing_utils # Drawing utilities\n",
    "\n",
    "# Functions\n",
    "def mediapipe_detection(image, model):\n",
    "    '''Detect the landmarks of the image using the mediapipe model'''\n",
    "    image = cv2.cvtColor(image, cv2.COLOR_BGR2RGB) # COLOR CONVERSION BGR 2 RGB\n",
    "    image.flags.writeable = False                  # Image is no longer writeable\n",
    "    results = model.process(image)                 # Make prediction\n",
    "    image.flags.writeable = True                   # Image is now writeable \n",
    "    image = cv2.cvtColor(image, cv2.COLOR_RGB2BGR) # COLOR COVERSION RGB 2 BGR\n",
    "    return image, results\n",
    "\n",
    "def draw_landmarks(image, results):\n",
    "    '''Function to draw landmarks from the detected image'''\n",
    "    mp_drawing.draw_landmarks(image, results.face_landmarks, mp_holistic.FACEMESH_TESSELATION) # Draw face connections\n",
    "    mp_drawing.draw_landmarks(image, results.pose_landmarks, mp_holistic.POSE_CONNECTIONS) # Draw pose connections\n",
    "    mp_drawing.draw_landmarks(image, results.left_hand_landmarks, mp_holistic.HAND_CONNECTIONS) # Draw left hand connections\n",
    "    mp_drawing.draw_landmarks(image, results.right_hand_landmarks, mp_holistic.HAND_CONNECTIONS) # Draw right hand connections\n",
    "\n",
    "def draw_styled_landmarks(image, results):\n",
    "    '''Same as draw_landmarks but with different colors and thickness'''\n",
    "    # Draw face connections\n",
    "    mp_drawing.draw_landmarks(image, results.face_landmarks, mp_holistic.FACEMESH_TESSELATION, \n",
    "                             mp_drawing.DrawingSpec(color=(80,110,10), thickness=1, circle_radius=1), \n",
    "                             mp_drawing.DrawingSpec(color=(80,256,121), thickness=1, circle_radius=1)\n",
    "                             ) \n",
    "    # Draw pose connections\n",
    "    mp_drawing.draw_landmarks(image, results.pose_landmarks, mp_holistic.POSE_CONNECTIONS,\n",
    "                             mp_drawing.DrawingSpec(color=(80,22,10), thickness=2, circle_radius=4), \n",
    "                             mp_drawing.DrawingSpec(color=(80,44,121), thickness=2, circle_radius=2)\n",
    "                             ) \n",
    "    # Draw left hand connections\n",
    "    mp_drawing.draw_landmarks(image, results.left_hand_landmarks, mp_holistic.HAND_CONNECTIONS, \n",
    "                             mp_drawing.DrawingSpec(color=(121,22,76), thickness=2, circle_radius=4), \n",
    "                             mp_drawing.DrawingSpec(color=(121,44,250), thickness=2, circle_radius=2)\n",
    "                             ) \n",
    "    # Draw right hand connections  \n",
    "    mp_drawing.draw_landmarks(image, results.right_hand_landmarks, mp_holistic.HAND_CONNECTIONS, \n",
    "                             mp_drawing.DrawingSpec(color=(245,117,66), thickness=2, circle_radius=4), \n",
    "                             mp_drawing.DrawingSpec(color=(245,66,230), thickness=2, circle_radius=2)\n",
    "                             ) \n",
    "    \n",
    "def extract_keypoints(results):\n",
    "    '''Extract keypoints from the results and combine them into a single array'''\n",
    "    pose = np.array([[res.x, res.y, res.z, res.visibility] for res in results.pose_landmarks.landmark]).flatten() if results.pose_landmarks else np.zeros(33*4)\n",
    "    face = np.array([[res.x, res.y, res.z] for res in results.face_landmarks.landmark]).flatten() if results.face_landmarks else np.zeros(468*3)\n",
    "    lh = np.array([[res.x, res.y, res.z] for res in results.left_hand_landmarks.landmark]).flatten() if results.left_hand_landmarks else np.zeros(21*3)\n",
    "    rh = np.array([[res.x, res.y, res.z] for res in results.right_hand_landmarks.landmark]).flatten() if results.right_hand_landmarks else np.zeros(21*3)\n",
    "    return np.concatenate([pose, face, lh, rh])\n",
    "\n",
    "colors = [(245,117,16), (117,245,16), (16,117,245), (116,57,39)]\n",
    "def prob_viz(res, actions, input_frame, colors):\n",
    "    output_frame = input_frame.copy()\n",
    "    for num, prob in enumerate(res):\n",
    "        cv2.rectangle(output_frame, (0,60+num*40), (int(prob*100), 90+num*40), colors[num], -1)\n",
    "        cv2.putText(output_frame, actions[num], (0, 85+num*40), cv2.FONT_HERSHEY_SIMPLEX, 1, (255,255,255), 2, cv2.LINE_AA)\n",
    "        \n",
    "    return output_frame\n",
    "\n",
    "# Real time prediction\n",
    "sequence = []\n",
    "sentence = []\n",
    "threshold = 0.7\n",
    "count = 0\n",
    "prev_frame_time = 0\n",
    "new_frame_time = 0\n",
    "cap = cv2.VideoCapture(33)\n",
    "# Set mediapipe model \n",
    "with mp_holistic.Holistic(min_detection_confidence=0.5, min_tracking_confidence=0.5) as holistic:\n",
    "    while cap.isOpened():\n",
    "\n",
    "        # Read feed\n",
    "        ret, frame = cap.read()\n",
    "\n",
    "        # Make detections with mediapipe\n",
    "        image, results = mediapipe_detection(frame, holistic)\n",
    "        \n",
    "        # Draw landmarks\n",
    "        draw_styled_landmarks(image, results)\n",
    "        \n",
    "        # 2. Prediction logic with my model\n",
    "        keypoints = extract_keypoints(results)\n",
    "        sequence.append(keypoints)\n",
    "        count += 1\n",
    "        sequence = sequence[-30:]\n",
    "\n",
    "        # calculate frame rate\n",
    "        new_frame_time = time.time()\n",
    "        # fps will be number of frame processed in given time frame\n",
    "        fps = 1/(new_frame_time - prev_frame_time)\n",
    "        prev_frame_time = new_frame_time\n",
    "        # convert into int\n",
    "        fps = int(fps)\n",
    "        # convert into string\n",
    "        fps = str(fps)\n",
    "        cv2.putText(image, f'FPS: {fps}', (300, 100), cv2.FONT_HERSHEY_COMPLEX, 2, (100, 255, 0), 2, cv2.LINE_AA)\n",
    "\n",
    "        # Start prediction when the sequence equal to 30 frames + time for transition about 5 frames\n",
    "        if len(sequence) == 30:\n",
    "            # Inference\n",
    "            # Output result\n",
    "            dtype = 'float32'\n",
    "            # set input to the module\n",
    "            module.set_input(input_name, np.expand_dims(sequence, axis = 0))\n",
    "            # run forward execution\n",
    "            module.run()\n",
    "            # get prediction result\n",
    "            res = module.get_output(0).numpy()[0]\n",
    "\n",
    "\n",
    "            # Viz probabilities\n",
    "            image = prob_viz(res, actions, image, colors)\n",
    "            count = 0\n",
    "            # print(actions[np.argmax(res)])\n",
    "            \n",
    "            \n",
    "            #3. Visualize logic\n",
    "            if res[np.argmax(res)] > threshold: \n",
    "                if len(sentence) > 0: \n",
    "                    if actions[np.argmax(res)] != sentence[-1]:\n",
    "                        sentence.append(actions[np.argmax(res)])\n",
    "                else:\n",
    "                    sentence.append(actions[np.argmax(res)])\n",
    "\n",
    "            if len(sentence) > 5: \n",
    "                sentence = sentence[-5:]\n",
    "\n",
    "            \n",
    "            \n",
    "        cv2.rectangle(image, (0,0), (640, 40), (245, 117, 16), -1)\n",
    "        cv2.putText(image, ' '.join(sentence), (3,30), \n",
    "                    cv2.FONT_HERSHEY_SIMPLEX, 1, (255, 255, 255), 2, cv2.LINE_AA)\n",
    "        \n",
    "        # Show to screen\n",
    "        cv2.imshow('OpenCV Feed', image)\n",
    "        # Break gracefully\n",
    "        if cv2.waitKey(10) & 0xFF == ord('q'):\n",
    "            break\n",
    "    cap.release()\n",
    "    cv2.destroyAllWindows()\n",
    "\n"
   ]
  },
  {
   "cell_type": "code",
   "execution_count": null,
   "metadata": {},
   "outputs": [],
   "source": []
  }
 ],
 "metadata": {
  "kernelspec": {
   "display_name": "Python 3",
   "language": "python",
   "name": "python3"
  },
  "language_info": {
   "codemirror_mode": {
    "name": "ipython",
    "version": 3
   },
   "file_extension": ".py",
   "mimetype": "text/x-python",
   "name": "python",
   "nbconvert_exporter": "python",
   "pygments_lexer": "ipython3",
   "version": "3.7.12"
  },
  "orig_nbformat": 4
 },
 "nbformat": 4,
 "nbformat_minor": 2
}
